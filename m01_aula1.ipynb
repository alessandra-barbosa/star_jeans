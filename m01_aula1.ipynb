{
 "cells": [
  {
   "cell_type": "markdown",
   "id": "75ba020d",
   "metadata": {
    "ExecuteTime": {
     "end_time": "2021-08-03T14:36:36.069358Z",
     "start_time": "2021-08-03T14:36:36.065386Z"
    }
   },
   "source": [
    "##  CURSO DS ao DEV"
   ]
  },
  {
   "cell_type": "markdown",
   "id": "99b84e97",
   "metadata": {
    "ExecuteTime": {
     "end_time": "2021-08-03T14:39:01.203226Z",
     "start_time": "2021-08-03T14:39:01.180515Z"
    }
   },
   "source": [
    " ### Novas perguntas do CEO\n",
    "    \n",
    "    1.Quantas casas estão disponíveis para compra?\n",
    "    2. Quantos atributos as casas possuem?\n",
    "    3. Quais são os atributos das casas?\n",
    "    4. Qual a casa mais cara ( casa com o maior valor de venda )?\n",
    "    5. Qual a casa com o maior número de quartos?\n",
    "    6. Qual a soma total de quartos do conjunto de dados?\n",
    "    7. Quantas casas possuem 2 banheiros?\n",
    "    8. Qual o preço médio de todas as casas no conjunto de dados?\n",
    "    9. Qual o preço médio de casas com 2 banheiros?\n",
    "    10. Qual o preço mínimo entre as casas com 3 quartos?\n",
    "    11. Quantas casas possuem mais de 300 metros quadrados na sala de estar?\n",
    "    12. Quantas casas tem mais de 2 andares?\n",
    "    13. Quantas casas tem vista para o mar?\n",
    "    14. Das casas com vista para o mar, quantas tem 3 quartos?\n",
    "    15. Das casas com mais de 300 metros quadrados de sala de estar, quantas tem mais de 2 banheiros?"
   ]
  },
  {
   "cell_type": "markdown",
   "id": "b0d5a238",
   "metadata": {
    "ExecuteTime": {
     "end_time": "2021-08-03T14:46:12.299285Z",
     "start_time": "2021-08-03T14:46:12.296716Z"
    }
   },
   "source": [
    "### Imports"
   ]
  },
  {
   "cell_type": "code",
   "execution_count": 2,
   "id": "48005195",
   "metadata": {
    "ExecuteTime": {
     "end_time": "2021-08-25T09:04:06.504722Z",
     "start_time": "2021-08-25T09:04:05.959051Z"
    }
   },
   "outputs": [],
   "source": [
    "import pandas as pd\n",
    "import numpy as np"
   ]
  },
  {
   "cell_type": "code",
   "execution_count": 3,
   "id": "87417cbd",
   "metadata": {
    "ExecuteTime": {
     "end_time": "2021-08-25T09:04:06.775181Z",
     "start_time": "2021-08-25T09:04:06.685335Z"
    }
   },
   "outputs": [],
   "source": [
    "df=pd.read_csv('Datasets/kc_house_data.csv')"
   ]
  },
  {
   "cell_type": "markdown",
   "id": "12f559ed",
   "metadata": {},
   "source": [
    "### Quantas casas estão disponíveis para compra?\n"
   ]
  },
  {
   "cell_type": "code",
   "execution_count": 4,
   "id": "afd3d4f9",
   "metadata": {
    "ExecuteTime": {
     "end_time": "2021-08-25T09:04:08.419240Z",
     "start_time": "2021-08-25T09:04:08.382628Z"
    }
   },
   "outputs": [
    {
     "data": {
      "text/html": [
       "<div>\n",
       "<style scoped>\n",
       "    .dataframe tbody tr th:only-of-type {\n",
       "        vertical-align: middle;\n",
       "    }\n",
       "\n",
       "    .dataframe tbody tr th {\n",
       "        vertical-align: top;\n",
       "    }\n",
       "\n",
       "    .dataframe thead th {\n",
       "        text-align: right;\n",
       "    }\n",
       "</style>\n",
       "<table border=\"1\" class=\"dataframe\">\n",
       "  <thead>\n",
       "    <tr style=\"text-align: right;\">\n",
       "      <th></th>\n",
       "      <th>id</th>\n",
       "      <th>date</th>\n",
       "      <th>price</th>\n",
       "      <th>bedrooms</th>\n",
       "      <th>bathrooms</th>\n",
       "      <th>sqft_living</th>\n",
       "      <th>sqft_lot</th>\n",
       "      <th>floors</th>\n",
       "      <th>waterfront</th>\n",
       "      <th>view</th>\n",
       "      <th>...</th>\n",
       "      <th>grade</th>\n",
       "      <th>sqft_above</th>\n",
       "      <th>sqft_basement</th>\n",
       "      <th>yr_built</th>\n",
       "      <th>yr_renovated</th>\n",
       "      <th>zipcode</th>\n",
       "      <th>lat</th>\n",
       "      <th>long</th>\n",
       "      <th>sqft_living15</th>\n",
       "      <th>sqft_lot15</th>\n",
       "    </tr>\n",
       "  </thead>\n",
       "  <tbody>\n",
       "    <tr>\n",
       "      <th>0</th>\n",
       "      <td>7129300520</td>\n",
       "      <td>20141013T000000</td>\n",
       "      <td>221900.0</td>\n",
       "      <td>3</td>\n",
       "      <td>1.00</td>\n",
       "      <td>1180</td>\n",
       "      <td>5650</td>\n",
       "      <td>1.0</td>\n",
       "      <td>0</td>\n",
       "      <td>0</td>\n",
       "      <td>...</td>\n",
       "      <td>7</td>\n",
       "      <td>1180.0</td>\n",
       "      <td>0</td>\n",
       "      <td>1955</td>\n",
       "      <td>0</td>\n",
       "      <td>98178</td>\n",
       "      <td>47.5112</td>\n",
       "      <td>-122.257</td>\n",
       "      <td>1340</td>\n",
       "      <td>5650</td>\n",
       "    </tr>\n",
       "    <tr>\n",
       "      <th>1</th>\n",
       "      <td>6414100192</td>\n",
       "      <td>20141209T000000</td>\n",
       "      <td>538000.0</td>\n",
       "      <td>3</td>\n",
       "      <td>2.25</td>\n",
       "      <td>2570</td>\n",
       "      <td>7242</td>\n",
       "      <td>2.0</td>\n",
       "      <td>0</td>\n",
       "      <td>0</td>\n",
       "      <td>...</td>\n",
       "      <td>7</td>\n",
       "      <td>2170.0</td>\n",
       "      <td>400</td>\n",
       "      <td>1951</td>\n",
       "      <td>1991</td>\n",
       "      <td>98125</td>\n",
       "      <td>47.7210</td>\n",
       "      <td>-122.319</td>\n",
       "      <td>1690</td>\n",
       "      <td>7639</td>\n",
       "    </tr>\n",
       "    <tr>\n",
       "      <th>2</th>\n",
       "      <td>5631500400</td>\n",
       "      <td>20150225T000000</td>\n",
       "      <td>180000.0</td>\n",
       "      <td>2</td>\n",
       "      <td>1.00</td>\n",
       "      <td>770</td>\n",
       "      <td>10000</td>\n",
       "      <td>1.0</td>\n",
       "      <td>0</td>\n",
       "      <td>0</td>\n",
       "      <td>...</td>\n",
       "      <td>6</td>\n",
       "      <td>770.0</td>\n",
       "      <td>0</td>\n",
       "      <td>1933</td>\n",
       "      <td>0</td>\n",
       "      <td>98028</td>\n",
       "      <td>47.7379</td>\n",
       "      <td>-122.233</td>\n",
       "      <td>2720</td>\n",
       "      <td>8062</td>\n",
       "    </tr>\n",
       "    <tr>\n",
       "      <th>3</th>\n",
       "      <td>2487200875</td>\n",
       "      <td>20141209T000000</td>\n",
       "      <td>604000.0</td>\n",
       "      <td>4</td>\n",
       "      <td>3.00</td>\n",
       "      <td>1960</td>\n",
       "      <td>5000</td>\n",
       "      <td>1.0</td>\n",
       "      <td>0</td>\n",
       "      <td>0</td>\n",
       "      <td>...</td>\n",
       "      <td>7</td>\n",
       "      <td>1050.0</td>\n",
       "      <td>910</td>\n",
       "      <td>1965</td>\n",
       "      <td>0</td>\n",
       "      <td>98136</td>\n",
       "      <td>47.5208</td>\n",
       "      <td>-122.393</td>\n",
       "      <td>1360</td>\n",
       "      <td>5000</td>\n",
       "    </tr>\n",
       "    <tr>\n",
       "      <th>4</th>\n",
       "      <td>1954400510</td>\n",
       "      <td>20150218T000000</td>\n",
       "      <td>510000.0</td>\n",
       "      <td>3</td>\n",
       "      <td>2.00</td>\n",
       "      <td>1680</td>\n",
       "      <td>8080</td>\n",
       "      <td>1.0</td>\n",
       "      <td>0</td>\n",
       "      <td>0</td>\n",
       "      <td>...</td>\n",
       "      <td>8</td>\n",
       "      <td>1680.0</td>\n",
       "      <td>0</td>\n",
       "      <td>1987</td>\n",
       "      <td>0</td>\n",
       "      <td>98074</td>\n",
       "      <td>47.6168</td>\n",
       "      <td>-122.045</td>\n",
       "      <td>1800</td>\n",
       "      <td>7503</td>\n",
       "    </tr>\n",
       "  </tbody>\n",
       "</table>\n",
       "<p>5 rows × 21 columns</p>\n",
       "</div>"
      ],
      "text/plain": [
       "           id             date     price  bedrooms  bathrooms  sqft_living  \\\n",
       "0  7129300520  20141013T000000  221900.0         3       1.00         1180   \n",
       "1  6414100192  20141209T000000  538000.0         3       2.25         2570   \n",
       "2  5631500400  20150225T000000  180000.0         2       1.00          770   \n",
       "3  2487200875  20141209T000000  604000.0         4       3.00         1960   \n",
       "4  1954400510  20150218T000000  510000.0         3       2.00         1680   \n",
       "\n",
       "   sqft_lot  floors  waterfront  view  ...  grade  sqft_above  sqft_basement  \\\n",
       "0      5650     1.0           0     0  ...      7      1180.0              0   \n",
       "1      7242     2.0           0     0  ...      7      2170.0            400   \n",
       "2     10000     1.0           0     0  ...      6       770.0              0   \n",
       "3      5000     1.0           0     0  ...      7      1050.0            910   \n",
       "4      8080     1.0           0     0  ...      8      1680.0              0   \n",
       "\n",
       "   yr_built  yr_renovated  zipcode      lat     long  sqft_living15  \\\n",
       "0      1955             0    98178  47.5112 -122.257           1340   \n",
       "1      1951          1991    98125  47.7210 -122.319           1690   \n",
       "2      1933             0    98028  47.7379 -122.233           2720   \n",
       "3      1965             0    98136  47.5208 -122.393           1360   \n",
       "4      1987             0    98074  47.6168 -122.045           1800   \n",
       "\n",
       "   sqft_lot15  \n",
       "0        5650  \n",
       "1        7639  \n",
       "2        8062  \n",
       "3        5000  \n",
       "4        7503  \n",
       "\n",
       "[5 rows x 21 columns]"
      ]
     },
     "execution_count": 4,
     "metadata": {},
     "output_type": "execute_result"
    }
   ],
   "source": [
    "df.head()"
   ]
  },
  {
   "cell_type": "code",
   "execution_count": 5,
   "id": "86e32c66",
   "metadata": {
    "ExecuteTime": {
     "end_time": "2021-08-25T09:04:08.988944Z",
     "start_time": "2021-08-25T09:04:08.977515Z"
    }
   },
   "outputs": [
    {
     "name": "stdout",
     "output_type": "stream",
     "text": [
      "O numero de casas disponiveis pra venda è 21436\n"
     ]
    }
   ],
   "source": [
    "# estrategia - Selecionar a coluna ID e contar o numero de valoares unicos\n",
    "houses=len(df['id'].unique())\n",
    "print('O numero de casas disponiveis pra venda è {}'.format(houses))"
   ]
  },
  {
   "cell_type": "code",
   "execution_count": 6,
   "id": "4f5d9323",
   "metadata": {
    "ExecuteTime": {
     "end_time": "2021-08-25T09:04:09.590838Z",
     "start_time": "2021-08-25T09:04:09.577700Z"
    }
   },
   "outputs": [
    {
     "name": "stdout",
     "output_type": "stream",
     "text": [
      "O numero de casas disponiveis pra venda è 21436\n"
     ]
    }
   ],
   "source": [
    "houses=len(df['id'].drop_duplicates())\n",
    "print('O numero de casas disponiveis pra venda è {}'.format(houses))"
   ]
  },
  {
   "cell_type": "markdown",
   "id": "74197229",
   "metadata": {},
   "source": [
    "### Quantos atributos as casas possuem?\n"
   ]
  },
  {
   "cell_type": "code",
   "execution_count": 7,
   "id": "4a9373cc",
   "metadata": {
    "ExecuteTime": {
     "end_time": "2021-08-25T09:04:11.255598Z",
     "start_time": "2021-08-25T09:04:11.250955Z"
    }
   },
   "outputs": [
    {
     "name": "stdout",
     "output_type": "stream",
     "text": [
      "O numero de atributos è 19\n"
     ]
    }
   ],
   "source": [
    "# Assumptions\n",
    "# As colunas id e date nao sao atributos\n",
    "n_atributes=len(df.drop(['id','date'], axis=1).columns)\n",
    "print('O numero de atributos è {}'.format(n_atributes))"
   ]
  },
  {
   "cell_type": "markdown",
   "id": "9ff820c1",
   "metadata": {},
   "source": [
    "### Quais são os atributos das casas?"
   ]
  },
  {
   "cell_type": "code",
   "execution_count": 8,
   "id": "a8a535d2",
   "metadata": {
    "ExecuteTime": {
     "end_time": "2021-08-25T09:04:17.806757Z",
     "start_time": "2021-08-25T09:04:17.802092Z"
    }
   },
   "outputs": [
    {
     "data": {
      "text/plain": [
       "['price',\n",
       " 'bedrooms',\n",
       " 'bathrooms',\n",
       " 'sqft_living',\n",
       " 'sqft_lot',\n",
       " 'floors',\n",
       " 'waterfront',\n",
       " 'view',\n",
       " 'condition',\n",
       " 'grade',\n",
       " 'sqft_above',\n",
       " 'sqft_basement',\n",
       " 'yr_built',\n",
       " 'yr_renovated',\n",
       " 'zipcode',\n",
       " 'lat',\n",
       " 'long',\n",
       " 'sqft_living15',\n",
       " 'sqft_lot15']"
      ]
     },
     "execution_count": 8,
     "metadata": {},
     "output_type": "execute_result"
    }
   ],
   "source": [
    "# Assumptions\n",
    "# As colunas id e date nao sao atribu\n",
    "df.drop(['id','date'], axis=1).columns.tolist()\n",
    "#print('O numero de atributos è {}'.format(atributes))"
   ]
  },
  {
   "cell_type": "markdown",
   "id": "959d5ae0",
   "metadata": {},
   "source": [
    "### Qual a casa mais cara ( casa com o maior valor de venda )?\n",
    "    "
   ]
  },
  {
   "cell_type": "code",
   "execution_count": 9,
   "id": "bc48b504",
   "metadata": {
    "ExecuteTime": {
     "end_time": "2021-08-25T09:04:20.327861Z",
     "start_time": "2021-08-25T09:04:20.324428Z"
    }
   },
   "outputs": [
    {
     "name": "stdout",
     "output_type": "stream",
     "text": [
      "A casa mais cara custa 7700000.0\n"
     ]
    }
   ],
   "source": [
    "mais_cara= df['price'].max()\n",
    "print('A casa mais cara custa {}'.format(mais_cara))"
   ]
  },
  {
   "cell_type": "code",
   "execution_count": 10,
   "id": "2495d5c5",
   "metadata": {
    "ExecuteTime": {
     "end_time": "2021-08-25T09:04:23.034933Z",
     "start_time": "2021-08-25T09:04:23.025285Z"
    }
   },
   "outputs": [
    {
     "data": {
      "text/html": [
       "<div>\n",
       "<style scoped>\n",
       "    .dataframe tbody tr th:only-of-type {\n",
       "        vertical-align: middle;\n",
       "    }\n",
       "\n",
       "    .dataframe tbody tr th {\n",
       "        vertical-align: top;\n",
       "    }\n",
       "\n",
       "    .dataframe thead th {\n",
       "        text-align: right;\n",
       "    }\n",
       "</style>\n",
       "<table border=\"1\" class=\"dataframe\">\n",
       "  <thead>\n",
       "    <tr style=\"text-align: right;\">\n",
       "      <th></th>\n",
       "      <th>id</th>\n",
       "      <th>price</th>\n",
       "    </tr>\n",
       "  </thead>\n",
       "  <tbody>\n",
       "    <tr>\n",
       "      <th>7252</th>\n",
       "      <td>6762700020</td>\n",
       "      <td>7700000.0</td>\n",
       "    </tr>\n",
       "    <tr>\n",
       "      <th>3914</th>\n",
       "      <td>9808700762</td>\n",
       "      <td>7062500.0</td>\n",
       "    </tr>\n",
       "    <tr>\n",
       "      <th>9254</th>\n",
       "      <td>9208900037</td>\n",
       "      <td>6885000.0</td>\n",
       "    </tr>\n",
       "    <tr>\n",
       "      <th>4411</th>\n",
       "      <td>2470100110</td>\n",
       "      <td>5570000.0</td>\n",
       "    </tr>\n",
       "    <tr>\n",
       "      <th>1448</th>\n",
       "      <td>8907500070</td>\n",
       "      <td>5350000.0</td>\n",
       "    </tr>\n",
       "  </tbody>\n",
       "</table>\n",
       "</div>"
      ],
      "text/plain": [
       "              id      price\n",
       "7252  6762700020  7700000.0\n",
       "3914  9808700762  7062500.0\n",
       "9254  9208900037  6885000.0\n",
       "4411  2470100110  5570000.0\n",
       "1448  8907500070  5350000.0"
      ]
     },
     "execution_count": 10,
     "metadata": {},
     "output_type": "execute_result"
    }
   ],
   "source": [
    "df[['id','price']].sort_values('price',ascending=False).head()"
   ]
  },
  {
   "cell_type": "code",
   "execution_count": 14,
   "id": "c36e5bd4",
   "metadata": {
    "ExecuteTime": {
     "end_time": "2021-08-25T09:05:19.603084Z",
     "start_time": "2021-08-25T09:05:19.582167Z"
    }
   },
   "outputs": [
    {
     "data": {
      "text/plain": [
       "6762700020"
      ]
     },
     "execution_count": 14,
     "metadata": {},
     "output_type": "execute_result"
    }
   ],
   "source": [
    "#se eun nao  faço o reset index com o drop ele usa o undex antigo como coluna\n",
    "\n",
    "df[['id','price']].sort_values('price',ascending=False).reset_index(drop=True)['id'][0]"
   ]
  },
  {
   "cell_type": "markdown",
   "id": "50b61c95",
   "metadata": {},
   "source": [
    "###  Qual a casa com o maior número de quartos?\n"
   ]
  },
  {
   "cell_type": "code",
   "execution_count": 20,
   "id": "6db46391",
   "metadata": {
    "ExecuteTime": {
     "end_time": "2021-08-25T09:06:48.941037Z",
     "start_time": "2021-08-25T09:06:48.930337Z"
    }
   },
   "outputs": [
    {
     "data": {
      "text/plain": [
       "2402100895"
      ]
     },
     "execution_count": 20,
     "metadata": {},
     "output_type": "execute_result"
    }
   ],
   "source": [
    "#se eun nao  faço o reset index com o drop ele usa o undex antigo como coluna\n",
    "\n",
    "df[['id','bedrooms']].sort_values('bedrooms',ascending=False).reset_index(drop=True).loc[0,'id']"
   ]
  },
  {
   "cell_type": "code",
   "execution_count": 17,
   "id": "11cbed75",
   "metadata": {
    "ExecuteTime": {
     "end_time": "2021-08-25T09:06:15.529060Z",
     "start_time": "2021-08-25T09:06:15.516995Z"
    }
   },
   "outputs": [
    {
     "data": {
      "text/html": [
       "<div>\n",
       "<style scoped>\n",
       "    .dataframe tbody tr th:only-of-type {\n",
       "        vertical-align: middle;\n",
       "    }\n",
       "\n",
       "    .dataframe tbody tr th {\n",
       "        vertical-align: top;\n",
       "    }\n",
       "\n",
       "    .dataframe thead th {\n",
       "        text-align: right;\n",
       "    }\n",
       "</style>\n",
       "<table border=\"1\" class=\"dataframe\">\n",
       "  <thead>\n",
       "    <tr style=\"text-align: right;\">\n",
       "      <th></th>\n",
       "      <th>id</th>\n",
       "      <th>bedrooms</th>\n",
       "    </tr>\n",
       "  </thead>\n",
       "  <tbody>\n",
       "    <tr>\n",
       "      <th>0</th>\n",
       "      <td>2402100895</td>\n",
       "      <td>33</td>\n",
       "    </tr>\n",
       "    <tr>\n",
       "      <th>1</th>\n",
       "      <td>1773100755</td>\n",
       "      <td>11</td>\n",
       "    </tr>\n",
       "    <tr>\n",
       "      <th>2</th>\n",
       "      <td>5566100170</td>\n",
       "      <td>10</td>\n",
       "    </tr>\n",
       "    <tr>\n",
       "      <th>3</th>\n",
       "      <td>627300145</td>\n",
       "      <td>10</td>\n",
       "    </tr>\n",
       "    <tr>\n",
       "      <th>4</th>\n",
       "      <td>8812401450</td>\n",
       "      <td>10</td>\n",
       "    </tr>\n",
       "  </tbody>\n",
       "</table>\n",
       "</div>"
      ],
      "text/plain": [
       "           id  bedrooms\n",
       "0  2402100895        33\n",
       "1  1773100755        11\n",
       "2  5566100170        10\n",
       "3   627300145        10\n",
       "4  8812401450        10"
      ]
     },
     "execution_count": 17,
     "metadata": {},
     "output_type": "execute_result"
    }
   ],
   "source": [
    "#se eun nao  faço o reset index com o drop ele usa o index antigo como coluna\n",
    "\n",
    "df[['id','bedrooms']].sort_values('bedrooms',ascending=False).reset_index(drop=True).head()"
   ]
  },
  {
   "cell_type": "markdown",
   "id": "fc8e43f5",
   "metadata": {},
   "source": [
    "### Qual a soma total de quartos do conjunto de dados?\n"
   ]
  },
  {
   "cell_type": "code",
   "execution_count": 68,
   "id": "354f25f5",
   "metadata": {
    "ExecuteTime": {
     "end_time": "2021-08-03T15:39:31.294018Z",
     "start_time": "2021-08-03T15:39:31.286808Z"
    }
   },
   "outputs": [
    {
     "data": {
      "text/plain": [
       "72854"
      ]
     },
     "execution_count": 68,
     "metadata": {},
     "output_type": "execute_result"
    }
   ],
   "source": [
    "df['bedrooms'].sum()"
   ]
  },
  {
   "cell_type": "markdown",
   "id": "6417cb28",
   "metadata": {},
   "source": [
    "### Quantas casas possuem 2 banheiros?\n"
   ]
  },
  {
   "cell_type": "code",
   "execution_count": 78,
   "id": "de41830d",
   "metadata": {
    "ExecuteTime": {
     "end_time": "2021-08-03T15:54:07.991001Z",
     "start_time": "2021-08-03T15:54:07.981606Z"
    }
   },
   "outputs": [
    {
     "name": "stdout",
     "output_type": "stream",
     "text": [
      "Sao  1930 casas com 2 banheiros\n"
     ]
    }
   ],
   "source": [
    "a=len(df.loc[df['bathrooms']==2,['id','bathrooms']])\n",
    "print('Sao  {} casas com 2 banheiros'.format(a))"
   ]
  },
  {
   "cell_type": "markdown",
   "id": "c69e9202",
   "metadata": {},
   "source": [
    "### Qual o preço médio de todas as casas no conjunto de dados?\n"
   ]
  },
  {
   "cell_type": "code",
   "execution_count": 82,
   "id": "70874cfc",
   "metadata": {
    "ExecuteTime": {
     "end_time": "2021-08-03T15:57:00.327104Z",
     "start_time": "2021-08-03T15:57:00.314040Z"
    }
   },
   "outputs": [
    {
     "data": {
      "text/plain": [
       "540088.14"
      ]
     },
     "execution_count": 82,
     "metadata": {},
     "output_type": "execute_result"
    }
   ],
   "source": [
    "np.round(df['price'].mean(),2)"
   ]
  },
  {
   "cell_type": "markdown",
   "id": "cbebfce7",
   "metadata": {},
   "source": [
    "### Qual o preço médio de casas com 2 banheiros?\n"
   ]
  },
  {
   "cell_type": "code",
   "execution_count": 84,
   "id": "8d200835",
   "metadata": {
    "ExecuteTime": {
     "end_time": "2021-08-03T15:59:24.721976Z",
     "start_time": "2021-08-03T15:59:24.705268Z"
    }
   },
   "outputs": [
    {
     "data": {
      "text/plain": [
       "457889.72"
      ]
     },
     "execution_count": 84,
     "metadata": {},
     "output_type": "execute_result"
    }
   ],
   "source": [
    "np.around(df.loc[df['bathrooms']==2,'price'].mean(),2)"
   ]
  },
  {
   "cell_type": "markdown",
   "id": "a522223b",
   "metadata": {},
   "source": [
    "### Qual o preço mínimo entre as casas com 3 quartos?\n"
   ]
  },
  {
   "cell_type": "code",
   "execution_count": 85,
   "id": "9f23ec94",
   "metadata": {
    "ExecuteTime": {
     "end_time": "2021-08-03T16:01:06.817946Z",
     "start_time": "2021-08-03T16:01:06.809689Z"
    }
   },
   "outputs": [
    {
     "data": {
      "text/plain": [
       "82000.0"
      ]
     },
     "execution_count": 85,
     "metadata": {},
     "output_type": "execute_result"
    }
   ],
   "source": [
    "df.loc[df['bedrooms']==3,'price'].min()"
   ]
  },
  {
   "cell_type": "code",
   "execution_count": 94,
   "id": "50bd2e52",
   "metadata": {
    "ExecuteTime": {
     "end_time": "2021-08-03T16:07:30.830277Z",
     "start_time": "2021-08-03T16:07:30.818754Z"
    }
   },
   "outputs": [
    {
     "data": {
      "text/html": [
       "<div>\n",
       "<style scoped>\n",
       "    .dataframe tbody tr th:only-of-type {\n",
       "        vertical-align: middle;\n",
       "    }\n",
       "\n",
       "    .dataframe tbody tr th {\n",
       "        vertical-align: top;\n",
       "    }\n",
       "\n",
       "    .dataframe thead th {\n",
       "        text-align: right;\n",
       "    }\n",
       "</style>\n",
       "<table border=\"1\" class=\"dataframe\">\n",
       "  <thead>\n",
       "    <tr style=\"text-align: right;\">\n",
       "      <th></th>\n",
       "      <th>id</th>\n",
       "      <th>price</th>\n",
       "    </tr>\n",
       "  </thead>\n",
       "  <tbody>\n",
       "    <tr>\n",
       "      <th>8274</th>\n",
       "      <td>3883800011</td>\n",
       "      <td>82000.0</td>\n",
       "    </tr>\n",
       "    <tr>\n",
       "      <th>13756</th>\n",
       "      <td>1788900230</td>\n",
       "      <td>86500.0</td>\n",
       "    </tr>\n",
       "    <tr>\n",
       "      <th>5866</th>\n",
       "      <td>9320900420</td>\n",
       "      <td>89000.0</td>\n",
       "    </tr>\n",
       "    <tr>\n",
       "      <th>18939</th>\n",
       "      <td>4239400300</td>\n",
       "      <td>90000.0</td>\n",
       "    </tr>\n",
       "    <tr>\n",
       "      <th>5723</th>\n",
       "      <td>1788800630</td>\n",
       "      <td>96500.0</td>\n",
       "    </tr>\n",
       "  </tbody>\n",
       "</table>\n",
       "</div>"
      ],
      "text/plain": [
       "               id    price\n",
       "8274   3883800011  82000.0\n",
       "13756  1788900230  86500.0\n",
       "5866   9320900420  89000.0\n",
       "18939  4239400300  90000.0\n",
       "5723   1788800630  96500.0"
      ]
     },
     "execution_count": 94,
     "metadata": {},
     "output_type": "execute_result"
    }
   ],
   "source": [
    "df.loc[df['bedrooms']==3,['id','price']].sort_values('price',ascending=True).head()"
   ]
  },
  {
   "cell_type": "markdown",
   "id": "78816d26",
   "metadata": {},
   "source": [
    "###   Quantas casas possuem mais de 300 metros quadrados na sala de estar?\n"
   ]
  },
  {
   "cell_type": "code",
   "execution_count": 117,
   "id": "419af3f4",
   "metadata": {
    "ExecuteTime": {
     "end_time": "2021-08-03T16:26:17.646064Z",
     "start_time": "2021-08-03T16:26:17.636711Z"
    }
   },
   "outputs": [
    {
     "data": {
      "text/plain": [
       "2258"
      ]
     },
     "execution_count": 117,
     "metadata": {},
     "output_type": "execute_result"
    }
   ],
   "source": [
    "df['m2']=df['sqft_living']*0.093\n",
    "\n",
    "len(df.loc[df['m2']>300, 'id'])"
   ]
  },
  {
   "cell_type": "markdown",
   "id": "7f72deb2",
   "metadata": {},
   "source": [
    "###    Quantas casas tem mais de 2 andares?\n"
   ]
  },
  {
   "cell_type": "code",
   "execution_count": 103,
   "id": "fed1f557",
   "metadata": {
    "ExecuteTime": {
     "end_time": "2021-08-03T16:18:09.138248Z",
     "start_time": "2021-08-03T16:18:09.130108Z"
    }
   },
   "outputs": [
    {
     "data": {
      "text/plain": [
       "782"
      ]
     },
     "execution_count": 103,
     "metadata": {},
     "output_type": "execute_result"
    }
   ],
   "source": [
    "df.loc[df['floors']>2, 'id'].size"
   ]
  },
  {
   "cell_type": "markdown",
   "id": "e4a80986",
   "metadata": {},
   "source": [
    "###  Quantas casas tem vista para o mar?\n"
   ]
  },
  {
   "cell_type": "code",
   "execution_count": 107,
   "id": "b0beaab8",
   "metadata": {
    "ExecuteTime": {
     "end_time": "2021-08-03T16:20:22.668901Z",
     "start_time": "2021-08-03T16:20:22.663685Z"
    }
   },
   "outputs": [
    {
     "data": {
      "text/plain": [
       "163"
      ]
     },
     "execution_count": 107,
     "metadata": {},
     "output_type": "execute_result"
    }
   ],
   "source": [
    "len(df.loc[df['waterfront']==1, 'id'])"
   ]
  },
  {
   "cell_type": "markdown",
   "id": "0196ae14",
   "metadata": {},
   "source": [
    "### Das casas com vista para o mar, quantas tem 3 quartos?\n"
   ]
  },
  {
   "cell_type": "code",
   "execution_count": 114,
   "id": "02f2a88a",
   "metadata": {
    "ExecuteTime": {
     "end_time": "2021-08-03T16:23:39.106031Z",
     "start_time": "2021-08-03T16:23:39.092613Z"
    }
   },
   "outputs": [
    {
     "data": {
      "text/plain": [
       "64"
      ]
     },
     "execution_count": 114,
     "metadata": {},
     "output_type": "execute_result"
    }
   ],
   "source": [
    "len(df.loc[(df['waterfront']==1)&(df['bedrooms']==3),'id'])"
   ]
  },
  {
   "cell_type": "markdown",
   "id": "672fce20",
   "metadata": {},
   "source": [
    "### Das casas com mais de 300 metros quadrados de sala de estar, quantas tem mais de 2 banheiros?"
   ]
  },
  {
   "cell_type": "code",
   "execution_count": 116,
   "id": "7138bc78",
   "metadata": {
    "ExecuteTime": {
     "end_time": "2021-08-03T16:26:04.680543Z",
     "start_time": "2021-08-03T16:26:04.674364Z"
    }
   },
   "outputs": [
    {
     "data": {
      "text/plain": [
       "2201"
      ]
     },
     "execution_count": 116,
     "metadata": {},
     "output_type": "execute_result"
    }
   ],
   "source": [
    "len(df.loc[(df['m2']>300)&(df['bathrooms']>2),'id'])"
   ]
  },
  {
   "cell_type": "code",
   "execution_count": null,
   "id": "ff50b234",
   "metadata": {},
   "outputs": [],
   "source": []
  },
  {
   "cell_type": "code",
   "execution_count": null,
   "id": "bc112bd7",
   "metadata": {},
   "outputs": [],
   "source": []
  }
 ],
 "metadata": {
  "kernelspec": {
   "display_name": "Python 3 (ipykernel)",
   "language": "python",
   "name": "python3"
  },
  "language_info": {
   "codemirror_mode": {
    "name": "ipython",
    "version": 3
   },
   "file_extension": ".py",
   "mimetype": "text/x-python",
   "name": "python",
   "nbconvert_exporter": "python",
   "pygments_lexer": "ipython3",
   "version": "3.8.0"
  },
  "latex_envs": {
   "LaTeX_envs_menu_present": true,
   "autoclose": false,
   "autocomplete": true,
   "bibliofile": "biblio.bib",
   "cite_by": "apalike",
   "current_citInitial": 1,
   "eqLabelWithNumbers": true,
   "eqNumInitial": 1,
   "hotkeys": {
    "equation": "Ctrl-E",
    "itemize": "Ctrl-I"
   },
   "labels_anchors": false,
   "latex_user_defs": false,
   "report_style_numbering": false,
   "user_envs_cfg": false
  },
  "nbTranslate": {
   "displayLangs": [
    "*"
   ],
   "hotkey": "alt-t",
   "langInMainMenu": true,
   "sourceLang": "en",
   "targetLang": "fr",
   "useGoogleTranslate": true
  },
  "toc": {
   "base_numbering": 1,
   "nav_menu": {},
   "number_sections": true,
   "sideBar": true,
   "skip_h1_title": false,
   "title_cell": "Table of Contents",
   "title_sidebar": "Contents",
   "toc_cell": false,
   "toc_position": {},
   "toc_section_display": true,
   "toc_window_display": true
  }
 },
 "nbformat": 4,
 "nbformat_minor": 5
}
