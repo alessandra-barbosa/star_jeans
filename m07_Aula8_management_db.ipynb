{
 "cells": [
  {
   "cell_type": "markdown",
   "id": "d186074b",
   "metadata": {},
   "source": [
    "# Star Jeans _ Product pricing project based on competition"
   ]
  },
  {
   "cell_type": "markdown",
   "id": "7e8a47d3",
   "metadata": {},
   "source": [
    "## Business problem\n",
    "- What is the best selling price for pants? \n",
    "\n",
    "## Questions to be answered:\n",
    "- What is the best selling price for the pants?\n",
    "- How many types of pants and their colors for the initial product?\n",
    "- What are the raw materials needed to make the pants?\n",
    "\n",
    "## Data source\n",
    "- H&M: https://www2.hm.com/en_us/men/products/jeans.html\n",
    "- Macys: https://www.macys.com/shop/mens-clothing/mens-jeans"
   ]
  },
  {
   "cell_type": "markdown",
   "id": "976a8157",
   "metadata": {},
   "source": [
    "# Imports"
   ]
  },
  {
   "cell_type": "code",
   "execution_count": 1,
   "id": "5e549fa9",
   "metadata": {
    "ExecuteTime": {
     "end_time": "2021-09-23T13:38:13.442713Z",
     "start_time": "2021-09-23T13:38:13.440084Z"
    }
   },
   "outputs": [],
   "source": [
    "# !pip install requests\n",
    "# !pip install bs4"
   ]
  },
  {
   "cell_type": "code",
   "execution_count": 2,
   "id": "9db9828c",
   "metadata": {
    "ExecuteTime": {
     "end_time": "2021-09-23T13:38:14.662670Z",
     "start_time": "2021-09-23T13:38:13.911108Z"
    }
   },
   "outputs": [],
   "source": [
    "import requests\n",
    "import pandas as pd\n",
    "from datetime import datetime\n",
    "from bs4 import BeautifulSoup\n",
    "import numpy as np\n",
    "import re\n"
   ]
  },
  {
   "cell_type": "code",
   "execution_count": 3,
   "id": "0ec299af",
   "metadata": {
    "ExecuteTime": {
     "end_time": "2021-09-23T13:38:15.156707Z",
     "start_time": "2021-09-23T13:38:14.664984Z"
    }
   },
   "outputs": [],
   "source": [
    "url = 'https://www2.hm.com/en_us/men/products/jeans.html'\n",
    "\n",
    "headers = {'User-Agent': 'Mozilla/5.0 (Macintosh; Intel Mac OS X 10_11_5),AppleWebKit/537.36 (KHTML, like Gecko) Chrome/50.0.2661.102 Safari/537.36'}\n",
    "           \n",
    "page = requests.get( url, headers=headers )"
   ]
  },
  {
   "cell_type": "code",
   "execution_count": 4,
   "id": "d2575e61",
   "metadata": {
    "ExecuteTime": {
     "end_time": "2021-09-23T13:38:15.324135Z",
     "start_time": "2021-09-23T13:38:15.158166Z"
    }
   },
   "outputs": [],
   "source": [
    "soup = BeautifulSoup( page.text, 'html.parser' )"
   ]
  },
  {
   "cell_type": "code",
   "execution_count": 5,
   "id": "61ea52c4",
   "metadata": {
    "ExecuteTime": {
     "end_time": "2021-09-23T13:38:15.333844Z",
     "start_time": "2021-09-23T13:38:15.325811Z"
    }
   },
   "outputs": [],
   "source": [
    "products = soup.find( 'ul', class_='products-listing small' )"
   ]
  },
  {
   "cell_type": "code",
   "execution_count": 6,
   "id": "b7fdee5b",
   "metadata": {
    "ExecuteTime": {
     "end_time": "2021-09-23T13:38:15.345584Z",
     "start_time": "2021-09-23T13:38:15.335049Z"
    }
   },
   "outputs": [],
   "source": [
    "product_list = products.find_all( 'article', class_='hm-product-item')\n",
    "\n",
    "# product id\n",
    "product_id = [p.get( 'data-articlecode' ) for p in product_list]\n",
    "\n",
    "# product category\n",
    "product_category = [p.get( 'data-category' ) for p in product_list]\n",
    "\n",
    "# product name\n",
    "product_list = products.find_all( 'a', class_='link' )\n",
    "product_name = [p.get_text() for p in product_list]\n",
    "\n",
    "# price\n",
    "product_list = products.find_all( 'span', class_='price regular' )\n",
    "product_price = [p.get_text() for p in product_list]"
   ]
  },
  {
   "cell_type": "code",
   "execution_count": 7,
   "id": "91daa931",
   "metadata": {
    "ExecuteTime": {
     "end_time": "2021-09-23T13:38:15.500685Z",
     "start_time": "2021-09-23T13:38:15.488897Z"
    }
   },
   "outputs": [],
   "source": [
    "data = pd.DataFrame( [product_id, product_category, product_name,product_price] ).T\n",
    "data.columns = ['product_id', 'product_category', 'product_name','product_price']\n",
    "\n",
    "# scrapy datetime\n",
    "data['scrapy_datetime'] = datetime.now().strftime( '%Y-%m-%d %H:%M:%S' )"
   ]
  },
  {
   "cell_type": "code",
   "execution_count": 8,
   "id": "f7d794f6",
   "metadata": {
    "ExecuteTime": {
     "end_time": "2021-09-23T13:38:15.801013Z",
     "start_time": "2021-09-23T13:38:15.770751Z"
    }
   },
   "outputs": [
    {
     "data": {
      "text/plain": [
       "'86'"
      ]
     },
     "execution_count": 8,
     "metadata": {},
     "output_type": "execute_result"
    }
   ],
   "source": [
    "total_item = soup.find_all( 'h2', class_='load-more-heading' )[0].get('data-total')\n",
    "total_item"
   ]
  },
  {
   "cell_type": "code",
   "execution_count": 9,
   "id": "3556dbf7",
   "metadata": {
    "ExecuteTime": {
     "end_time": "2021-09-23T13:38:16.227768Z",
     "start_time": "2021-09-23T13:38:16.215266Z"
    }
   },
   "outputs": [
    {
     "data": {
      "text/plain": [
       "3.0"
      ]
     },
     "execution_count": 9,
     "metadata": {},
     "output_type": "execute_result"
    }
   ],
   "source": [
    "page_number = np.ceil( int( total_item ) / 36 )\n",
    "page_number"
   ]
  },
  {
   "cell_type": "code",
   "execution_count": 10,
   "id": "ceb0f355",
   "metadata": {
    "ExecuteTime": {
     "end_time": "2021-09-23T13:38:16.664574Z",
     "start_time": "2021-09-23T13:38:16.653568Z"
    }
   },
   "outputs": [
    {
     "data": {
      "text/plain": [
       "'https://www2.hm.com/en_us/men/products/jeans.html?page-size=108'"
      ]
     },
     "execution_count": 10,
     "metadata": {},
     "output_type": "execute_result"
    }
   ],
   "source": [
    "url02 = url + '?page-size=' + str( int( page_number*36 ) )\n",
    "url02"
   ]
  },
  {
   "cell_type": "code",
   "execution_count": 11,
   "id": "d6022e52",
   "metadata": {
    "ExecuteTime": {
     "end_time": "2021-09-23T13:38:37.979659Z",
     "start_time": "2021-09-23T13:38:16.918602Z"
    }
   },
   "outputs": [],
   "source": [
    "\n",
    "# empty dataframe\n",
    "df_details = pd.DataFrame()\n",
    "\n",
    "# unique columns for all products\n",
    "aux = []\n",
    "cols = ['Art. No.', 'Composition', 'Fit', 'Product safety', 'Size']\n",
    "df_pattern = pd.DataFrame( columns=cols )\n",
    "\n",
    "for i in range( len( data ) ):\n",
    "    \n",
    "# API Requests\n",
    "        url = 'https://www2.hm.com/en_us/productpage.' + data.loc[i, 'product_id'] + '.html'\n",
    "        page = requests.get( url, headers=headers )\n",
    "\n",
    "        # Beautiful Soup object\n",
    "        soup = BeautifulSoup( page.text, 'html.parser' )\n",
    "\n",
    "        # ==================== color name =================================\n",
    "        product_list = soup.find_all( 'a', class_='filter-option miniature' )\n",
    "        color_name = [p.get( 'data-color' ) for p in product_list]\n",
    "\n",
    "        # product id\n",
    "        product_id = [p.get( 'data-articlecode' ) for p in product_list]\n",
    "        df_color = pd.DataFrame( [product_id, color_name] ).T\n",
    "        df_color.columns = ['product_id', 'color_name']\n",
    "\n",
    "        # generate style id + color id\n",
    "        df_color['style_id'] = df_color['product_id'].apply( lambda x: x[:-3] )\n",
    "        df_color['color_id'] = df_color['product_id'].apply( lambda x: x[-3:] )\n",
    "\n",
    "# ==================== composition =================================\n",
    "\n",
    "        product_composition_list = soup.find_all( 'div',class_='pdp-description-list-item' )\n",
    "        product_composition = [list( filter( None, p.get_text().split( '\\n' ) ) ) for p in product_composition_list]\n",
    "\n",
    "        # reaname dataframe\n",
    "        df_composition = pd.DataFrame( product_composition ).T\n",
    "        df_composition.columns = df_composition.iloc[0]\n",
    "\n",
    "        # delete first row\n",
    "        df_composition = df_composition.iloc[1:].fillna( method='ffill' )\n",
    "\n",
    "        # garantee the same number of columns\n",
    "        df_composition = pd.concat( [df_pattern, df_composition], axis=0 )\n",
    "\n",
    "        # generate style id + color id\n",
    "        df_composition['style_id'] = df_composition['Art. No.'].apply( lambda x: x[:-3] )\n",
    "        df_composition['color_id'] = df_composition['Art. No.'].apply( lambda x: x[-3:] )\n",
    "        aux = aux + df_composition.columns.tolist()\n",
    "\n",
    "        # merge data color + decomposition\n",
    "        data_sku = pd.merge( df_color, df_composition[['style_id', 'Fit','Composition', 'Size', 'Product safety']], how='left', on='style_id' )\n",
    "\n",
    "        # all details products\n",
    "        df_details = pd.concat( [df_details, data_sku], axis=0 )\n",
    "\n",
    "                                                                                                       \n",
    "# Join Showroom data + details\n",
    "data['style_id'] = data['product_id'].apply( lambda x: x[:-3] )\n",
    "data['color_id'] = data['product_id'].apply( lambda x: x[-3:] )\n",
    "data_raw = pd.merge( data, df_details[['style_id', 'color_name', 'Fit','Composition', 'Size', 'Product safety']], how = 'left', on='style_id')\n",
    "\n",
    "\n",
    "data_raw.to_csv('Datasets/data_raw_star_jeans.csv', index=False)"
   ]
  },
  {
   "cell_type": "markdown",
   "id": "8c8c0883",
   "metadata": {},
   "source": [
    "## Clear Data"
   ]
  },
  {
   "cell_type": "code",
   "execution_count": 213,
   "id": "ebc90e7d",
   "metadata": {
    "ExecuteTime": {
     "end_time": "2021-09-23T20:21:25.398182Z",
     "start_time": "2021-09-23T20:21:25.315452Z"
    }
   },
   "outputs": [
    {
     "data": {
      "text/plain": [
       "product_id                   int64\n",
       "product_category            object\n",
       "product_name                object\n",
       "product_price              float64\n",
       "scrapy_datetime     datetime64[ns]\n",
       "style_id                     int64\n",
       "color_id                     int64\n",
       "color_name                  object\n",
       "Fit                         object\n",
       "size_number                 object\n",
       "size_model                  object\n",
       "cotton                     float64\n",
       "polyester                  float64\n",
       "elastane                   float64\n",
       "elasterell                 float64\n",
       "dtype: object"
      ]
     },
     "execution_count": 213,
     "metadata": {},
     "output_type": "execute_result"
    }
   ],
   "source": [
    "data = pd.read_csv('Datasets/data_raw_star_jeans.csv')\n",
    "\n",
    "# product id\n",
    "data = data.dropna( subset=['product_id'] )\n",
    "data['product_id'] = data['product_id'].astype( int )\n",
    "\n",
    "# product name\n",
    "data['product_name'] = data['product_name'].apply( lambda x: x.replace( ' ','_' ).lower() )\n",
    "\n",
    "# product price\n",
    "data['product_price'] = data['product_price'].apply( lambda x: x.replace( '$ ','' ) ).astype( float )\n",
    "\n",
    "# scrapy datetime\n",
    "data['scrapy_datetime'] = pd.to_datetime( data['scrapy_datetime'],format='%Y-%m-%d %H:%M:%S' )\n",
    "\n",
    "# style id\n",
    "data['style_id'] = data['style_id'].astype( int )\n",
    "\n",
    "# color id\n",
    "data['color_id'] = data['color_id'].astype( int )\n",
    "\n",
    "# color name\n",
    "data['color_name'] = data['color_name'].apply( lambda x: x.replace( ' ', '_' ).replace( '/', '_' ).lower() \n",
    "                                              if pd.notnull( x ) else x )\n",
    "\n",
    "# fit\n",
    "data['Fit'] = data['Fit'].apply( lambda x: x.replace( ' ', '_' ).lower() if pd.notnull( x ) else x )\n",
    "\n",
    "# size number\n",
    "data['size_number'] = data['Size'].apply( lambda x: re.search( '\\d{3}cm', x ).group(0)\n",
    "                                         if pd.notnull( x ) else x )\n",
    "\n",
    "data['size_number'] = data['Size'].apply( lambda x: re.search( '\\d+', x ).group(0) if pd.notnull( x ) else x )\n",
    "\n",
    "# size model\n",
    "data['size_model'] = data['Size'].str.extract( '(\\d+/\\\\d+)' )\n",
    "\n",
    "# composition\n",
    "\n",
    "### drop Pocket lining,Lining, Shell\n",
    "\n",
    "data=data[~data['Composition'].str.contains('Pocket lining:',na=False)]\n",
    "data=data[~data['Composition'].str.contains('Lining:',na=False)]\n",
    "data=data[~data['Composition'].str.contains('Shell:',na=False)]\n",
    "data=data[~data['Composition'].str.contains('Pocket:',na=False)]\n",
    "\n",
    "# Drop duplicates\n",
    "data=data.drop_duplicates(subset=['product_id', 'product_category', 'product_name', 'product_price',\n",
    "      'scrapy_datetime', 'style_id', 'color_id', 'color_name', 'Fit'],keep='last')\n",
    "\n",
    "#Reset index\n",
    "data=data.reset_index(drop=True)\n",
    "\n",
    "\n",
    "# break composition by comma\n",
    "df1=data['Composition'].str.split(',', expand=True)\n",
    "\n",
    "\n",
    "# ##############################Creating a collumn for each matterials#####################################\n",
    "\n",
    "# cotton/polyester/Elastano/Elasterell\n",
    "\n",
    "df_ref= pd.DataFrame(index=np.arange(len(data)),columns=['cotton','polyester','elastane','elasterell'])\n",
    "\n",
    "# Cotton\n",
    "df_cotton=df1[0]\n",
    "df_cotton.name = 'cotton'\n",
    "\n",
    "df_ref= pd.concat([df_ref,df_cotton],axis=1)\n",
    "df_ref=df_ref.iloc[:,~df_ref.columns.duplicated(keep='last')] # elimina e mantem a ultima coluna \n",
    "df_ref['cotton']=df_ref['cotton'].fillna('Cotton 0%')\n",
    "    \n",
    "# Polyester\n",
    "\n",
    "df_polyester= df1.loc[df1[1].str.contains('Polyester',na=True),1]\n",
    "df_polyester.name = 'polyester'\n",
    "df_ref= pd.concat([df_ref,df_polyester],axis=1)\n",
    "df_ref=df_ref.iloc[:,~df_ref.columns.duplicated(keep='last')] # elimina e mantem a ultima coluna \n",
    "df_ref['polyester']=df_ref['polyester'].fillna('Polyester 0%')\n",
    "\n",
    "# # Elastano\n",
    "df_elastane= df1.loc[df1[1].str.contains('Elastane',na=True),1]\n",
    "df_elastane.name = 'elastane'\n",
    "\n",
    "df_elastane=df_elastane.combine_first(df1[2])\n",
    "df_ref= pd.concat([df_ref,df_elastane],axis=1)\n",
    "df_ref=df_ref.iloc[:,~df_ref.columns.duplicated(keep='last')] # elimina e mantem a ultima coluna \n",
    "df_ref['elastane']=df_ref['elastane'].fillna('Elastane 0%')\n",
    "\n",
    "\n",
    "# # Elasterell\n",
    "df_elasterell= df1.loc[df1[1].str.contains('Elasterell',na=True),1]\n",
    "df_elasterell.name = 'elasterell'\n",
    "\n",
    "df_ref= pd.concat([df_ref,df_elasterell],axis=1)\n",
    "df_ref=df_ref.iloc[:,~df_ref.columns.duplicated(keep='last')] # elimina e mantem a ultima coluna \n",
    "df_ref['elasterell']=df_ref['elasterell'].fillna('Elasterell 0%')\n",
    "\n",
    "\n",
    "# # #Final join\n",
    "data=pd.concat([data, df_ref], axis=1)\n",
    "data['cotton']=data['cotton'].apply(lambda x: int(re.search('\\d+',x).group(0))/100 if pd.notnull(x) else x)\n",
    "data['elastane']=data['elastane'].apply(lambda x: int(re.search('\\d+',x).group(0))/100 if pd.notnull(x) else x)\n",
    "data['polyester']=data['polyester'].apply(lambda x: int(re.search('\\d+',x).group(0))/100 if pd.notnull(x) else x)\n",
    "data['elasterell']=data['elasterell'].apply(lambda x: int(re.search('\\d+',x).group(0))/100 if pd.notnull(x) else x)\n",
    "\n",
    "#Drop columns\n",
    "data = data.drop( columns=['Size', 'Product safety', 'Composition'], axis=1 )\n",
    "data.drop_duplicates()"
   ]
  },
  {
   "cell_type": "code",
   "execution_count": 217,
   "id": "ec12392f",
   "metadata": {
    "ExecuteTime": {
     "end_time": "2021-09-23T20:25:58.648964Z",
     "start_time": "2021-09-23T20:25:58.630541Z"
    }
   },
   "outputs": [
    {
     "data": {
      "text/html": [
       "<div>\n",
       "<style scoped>\n",
       "    .dataframe tbody tr th:only-of-type {\n",
       "        vertical-align: middle;\n",
       "    }\n",
       "\n",
       "    .dataframe tbody tr th {\n",
       "        vertical-align: top;\n",
       "    }\n",
       "\n",
       "    .dataframe thead th {\n",
       "        text-align: right;\n",
       "    }\n",
       "</style>\n",
       "<table border=\"1\" class=\"dataframe\">\n",
       "  <thead>\n",
       "    <tr style=\"text-align: right;\">\n",
       "      <th></th>\n",
       "      <th>product_id</th>\n",
       "      <th>product_category</th>\n",
       "      <th>product_name</th>\n",
       "      <th>product_price</th>\n",
       "      <th>scrapy_datetime</th>\n",
       "      <th>style_id</th>\n",
       "      <th>color_id</th>\n",
       "      <th>color_name</th>\n",
       "      <th>Fit</th>\n",
       "      <th>size_number</th>\n",
       "      <th>size_model</th>\n",
       "      <th>cotton</th>\n",
       "      <th>polyester</th>\n",
       "      <th>elastane</th>\n",
       "      <th>elasterell</th>\n",
       "    </tr>\n",
       "  </thead>\n",
       "  <tbody>\n",
       "    <tr>\n",
       "      <th>0</th>\n",
       "      <td>690449022</td>\n",
       "      <td>men_jeans_ripped</td>\n",
       "      <td>skinny_jeans</td>\n",
       "      <td>39.99</td>\n",
       "      <td>2021-09-23 15:38:15</td>\n",
       "      <td>690449</td>\n",
       "      <td>22</td>\n",
       "      <td>light_denim_blue_trashed</td>\n",
       "      <td>skinny_fit</td>\n",
       "      <td>187</td>\n",
       "      <td>32/32</td>\n",
       "      <td>0.98</td>\n",
       "      <td>0.0</td>\n",
       "      <td>0.02</td>\n",
       "      <td>0.0</td>\n",
       "    </tr>\n",
       "    <tr>\n",
       "      <th>1</th>\n",
       "      <td>690449022</td>\n",
       "      <td>men_jeans_ripped</td>\n",
       "      <td>skinny_jeans</td>\n",
       "      <td>39.99</td>\n",
       "      <td>2021-09-23 15:38:15</td>\n",
       "      <td>690449</td>\n",
       "      <td>22</td>\n",
       "      <td>denim_blue</td>\n",
       "      <td>skinny_fit</td>\n",
       "      <td>187</td>\n",
       "      <td>32/32</td>\n",
       "      <td>0.98</td>\n",
       "      <td>0.0</td>\n",
       "      <td>0.02</td>\n",
       "      <td>0.0</td>\n",
       "    </tr>\n",
       "    <tr>\n",
       "      <th>2</th>\n",
       "      <td>690449022</td>\n",
       "      <td>men_jeans_ripped</td>\n",
       "      <td>skinny_jeans</td>\n",
       "      <td>39.99</td>\n",
       "      <td>2021-09-23 15:38:15</td>\n",
       "      <td>690449</td>\n",
       "      <td>22</td>\n",
       "      <td>light_denim_blue</td>\n",
       "      <td>skinny_fit</td>\n",
       "      <td>187</td>\n",
       "      <td>32/32</td>\n",
       "      <td>0.98</td>\n",
       "      <td>0.0</td>\n",
       "      <td>0.02</td>\n",
       "      <td>0.0</td>\n",
       "    </tr>\n",
       "    <tr>\n",
       "      <th>3</th>\n",
       "      <td>690449022</td>\n",
       "      <td>men_jeans_ripped</td>\n",
       "      <td>skinny_jeans</td>\n",
       "      <td>39.99</td>\n",
       "      <td>2021-09-23 15:38:15</td>\n",
       "      <td>690449</td>\n",
       "      <td>22</td>\n",
       "      <td>black_washed_out</td>\n",
       "      <td>skinny_fit</td>\n",
       "      <td>187</td>\n",
       "      <td>32/32</td>\n",
       "      <td>0.98</td>\n",
       "      <td>0.0</td>\n",
       "      <td>0.02</td>\n",
       "      <td>0.0</td>\n",
       "    </tr>\n",
       "    <tr>\n",
       "      <th>4</th>\n",
       "      <td>690449022</td>\n",
       "      <td>men_jeans_ripped</td>\n",
       "      <td>skinny_jeans</td>\n",
       "      <td>39.99</td>\n",
       "      <td>2021-09-23 15:38:15</td>\n",
       "      <td>690449</td>\n",
       "      <td>22</td>\n",
       "      <td>white</td>\n",
       "      <td>skinny_fit</td>\n",
       "      <td>187</td>\n",
       "      <td>32/32</td>\n",
       "      <td>0.98</td>\n",
       "      <td>0.0</td>\n",
       "      <td>0.02</td>\n",
       "      <td>0.0</td>\n",
       "    </tr>\n",
       "  </tbody>\n",
       "</table>\n",
       "</div>"
      ],
      "text/plain": [
       "   product_id  product_category  product_name  product_price  \\\n",
       "0   690449022  men_jeans_ripped  skinny_jeans          39.99   \n",
       "1   690449022  men_jeans_ripped  skinny_jeans          39.99   \n",
       "2   690449022  men_jeans_ripped  skinny_jeans          39.99   \n",
       "3   690449022  men_jeans_ripped  skinny_jeans          39.99   \n",
       "4   690449022  men_jeans_ripped  skinny_jeans          39.99   \n",
       "\n",
       "      scrapy_datetime  style_id  color_id                color_name  \\\n",
       "0 2021-09-23 15:38:15    690449        22  light_denim_blue_trashed   \n",
       "1 2021-09-23 15:38:15    690449        22                denim_blue   \n",
       "2 2021-09-23 15:38:15    690449        22          light_denim_blue   \n",
       "3 2021-09-23 15:38:15    690449        22          black_washed_out   \n",
       "4 2021-09-23 15:38:15    690449        22                     white   \n",
       "\n",
       "          Fit size_number size_model  cotton  polyester  elastane  elasterell  \n",
       "0  skinny_fit         187      32/32    0.98        0.0      0.02         0.0  \n",
       "1  skinny_fit         187      32/32    0.98        0.0      0.02         0.0  \n",
       "2  skinny_fit         187      32/32    0.98        0.0      0.02         0.0  \n",
       "3  skinny_fit         187      32/32    0.98        0.0      0.02         0.0  \n",
       "4  skinny_fit         187      32/32    0.98        0.0      0.02         0.0  "
      ]
     },
     "execution_count": 217,
     "metadata": {},
     "output_type": "execute_result"
    }
   ],
   "source": [
    "data.head()"
   ]
  },
  {
   "cell_type": "code",
   "execution_count": 215,
   "id": "29cc3ac7",
   "metadata": {
    "ExecuteTime": {
     "end_time": "2021-09-23T20:25:44.115529Z",
     "start_time": "2021-09-23T20:25:44.109484Z"
    }
   },
   "outputs": [
    {
     "data": {
      "text/plain": [
       "product_id                   int64\n",
       "product_category            object\n",
       "product_name                object\n",
       "product_price              float64\n",
       "scrapy_datetime     datetime64[ns]\n",
       "style_id                     int64\n",
       "color_id                     int64\n",
       "color_name                  object\n",
       "Fit                         object\n",
       "size_number                 object\n",
       "size_model                  object\n",
       "cotton                     float64\n",
       "polyester                  float64\n",
       "elastane                   float64\n",
       "elasterell                 float64\n",
       "dtype: object"
      ]
     },
     "execution_count": 215,
     "metadata": {},
     "output_type": "execute_result"
    }
   ],
   "source": [
    "data.shape\n",
    "data.dtypes"
   ]
  },
  {
   "cell_type": "code",
   "execution_count": 203,
   "id": "a64819f0",
   "metadata": {
    "ExecuteTime": {
     "end_time": "2021-09-23T20:13:26.505811Z",
     "start_time": "2021-09-23T20:13:26.501427Z"
    }
   },
   "outputs": [
    {
     "data": {
      "text/plain": [
       "product_id                         690449022\n",
       "product_category            men_jeans_ripped\n",
       "product_name                    skinny_jeans\n",
       "product_price                          39.99\n",
       "scrapy_datetime          2021-09-23 15:38:15\n",
       "style_id                              690449\n",
       "color_id                                  22\n",
       "color_name          light_denim_blue_trashed\n",
       "Fit                               skinny_fit\n",
       "Composition          Cotton 98%, Elastane 2%\n",
       "size_number                              187\n",
       "size_model                             32/32\n",
       "cotton                                  0.98\n",
       "polyester                                0.0\n",
       "elastane                                0.02\n",
       "elasterell                               0.0\n",
       "Name: 0, dtype: object"
      ]
     },
     "execution_count": 203,
     "metadata": {},
     "output_type": "execute_result"
    }
   ],
   "source": [
    "data.loc[0,:]"
   ]
  },
  {
   "cell_type": "code",
   "execution_count": null,
   "id": "6a71939c",
   "metadata": {},
   "outputs": [],
   "source": []
  }
 ],
 "metadata": {
  "kernelspec": {
   "display_name": "Python 3 (ipykernel)",
   "language": "python",
   "name": "python3"
  },
  "language_info": {
   "codemirror_mode": {
    "name": "ipython",
    "version": 3
   },
   "file_extension": ".py",
   "mimetype": "text/x-python",
   "name": "python",
   "nbconvert_exporter": "python",
   "pygments_lexer": "ipython3",
   "version": "3.8.0"
  },
  "latex_envs": {
   "LaTeX_envs_menu_present": true,
   "autoclose": false,
   "autocomplete": true,
   "bibliofile": "biblio.bib",
   "cite_by": "apalike",
   "current_citInitial": 1,
   "eqLabelWithNumbers": true,
   "eqNumInitial": 1,
   "hotkeys": {
    "equation": "Ctrl-E",
    "itemize": "Ctrl-I"
   },
   "labels_anchors": false,
   "latex_user_defs": false,
   "report_style_numbering": false,
   "user_envs_cfg": false
  },
  "nbTranslate": {
   "displayLangs": [
    "*"
   ],
   "hotkey": "alt-t",
   "langInMainMenu": true,
   "sourceLang": "en",
   "targetLang": "fr",
   "useGoogleTranslate": true
  },
  "toc": {
   "base_numbering": "0",
   "nav_menu": {},
   "number_sections": true,
   "sideBar": true,
   "skip_h1_title": false,
   "title_cell": "Table of Contents",
   "title_sidebar": "Contents",
   "toc_cell": false,
   "toc_position": {},
   "toc_section_display": true,
   "toc_window_display": false
  }
 },
 "nbformat": 4,
 "nbformat_minor": 5
}
