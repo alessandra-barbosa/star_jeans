{
 "cells": [
  {
   "cell_type": "markdown",
   "id": "sublime-charleston",
   "metadata": {
    "ExecuteTime": {
     "end_time": "2021-04-17T18:19:23.892701Z",
     "start_time": "2021-04-17T18:19:23.889655Z"
    }
   },
   "source": [
    "# <font color='#002726'> Curso de Python do DS ao DEV </font>\n",
    "\n",
    "Comunidade DS - Meigarom Lopes"
   ]
  },
  {
   "cell_type": "markdown",
   "id": "stuffed-stadium",
   "metadata": {
    "heading_collapsed": true
   },
   "source": [
    "# <font color='#1B818D'> Modulo 06 - Python Avançado </font>"
   ]
  },
  {
   "cell_type": "markdown",
   "id": "referenced-rescue",
   "metadata": {
    "heading_collapsed": true
   },
   "source": [
    "# <font color='#F37126'> Introdução a Regex (Expressões Regulares) - Parte II </font>"
   ]
  },
  {
   "cell_type": "code",
   "execution_count": 138,
   "id": "muslim-tampa",
   "metadata": {
    "ExecuteTime": {
     "end_time": "2021-04-18T16:06:20.584625Z",
     "start_time": "2021-04-18T16:06:20.581914Z"
    },
    "hidden": true
   },
   "outputs": [],
   "source": [
    "import re"
   ]
  },
  {
   "cell_type": "markdown",
   "id": "european-elder",
   "metadata": {
    "heading_collapsed": true,
    "hidden": true,
    "hide_input": false
   },
   "source": [
    "### O que são Regular Expressions?"
   ]
  },
  {
   "cell_type": "markdown",
   "id": "cross-oxygen",
   "metadata": {
    "hidden": true
   },
   "source": [
    "- Mascaras para acomodar strings dentro de um texto"
   ]
  },
  {
   "cell_type": "code",
   "execution_count": 145,
   "id": "selected-opinion",
   "metadata": {
    "ExecuteTime": {
     "end_time": "2021-04-18T16:07:35.722498Z",
     "start_time": "2021-04-18T16:07:35.720143Z"
    },
    "hidden": true
   },
   "outputs": [],
   "source": [
    "text00 = '234.745.735-42'\n",
    "text01 = '234.745.735-420'\n",
    "\n",
    "#text00 = 'numero ponto numero ponto traço numero'\n",
    "#text00 = ' 3 numeros 1 ponto 3 numeros 1 ponto 3 numeros 1 traço 2 numero'\n",
    "\n",
    "regex = '^\\d{3}\\.\\d{3}\\.\\d{3}\\-\\d{3}$'"
   ]
  },
  {
   "cell_type": "code",
   "execution_count": 146,
   "id": "engaged-permit",
   "metadata": {
    "ExecuteTime": {
     "end_time": "2021-04-18T16:07:35.894861Z",
     "start_time": "2021-04-18T16:07:35.889900Z"
    },
    "hidden": true
   },
   "outputs": [
    {
     "data": {
      "text/plain": [
       "True"
      ]
     },
     "execution_count": 146,
     "metadata": {},
     "output_type": "execute_result"
    }
   ],
   "source": [
    "bool( re.match( regex, text01 ) )"
   ]
  },
  {
   "cell_type": "markdown",
   "id": "functional-health",
   "metadata": {
    "heading_collapsed": true,
    "hidden": true,
    "hide_input": false
   },
   "source": [
    "### Máscaras do Regex?"
   ]
  },
  {
   "cell_type": "markdown",
   "id": "faced-musician",
   "metadata": {
    "hidden": true
   },
   "source": [
    "Créditos: https://blog.geekhunter.com.br/python-regex/"
   ]
  },
  {
   "cell_type": "markdown",
   "id": "separate-player",
   "metadata": {
    "heading_collapsed": true,
    "hidden": true,
    "hide_input": false
   },
   "source": [
    "#### <font color='#F37126'> Marcadores de início e fim de linha"
   ]
  },
  {
   "cell_type": "markdown",
   "id": "hispanic-economics",
   "metadata": {
    "hidden": true
   },
   "source": [
    "**^Python** - Encontra qualquer string que esteja em início de linha e contenha os caracteres \"Python\""
   ]
  },
  {
   "cell_type": "markdown",
   "id": "demanding-primary",
   "metadata": {
    "hidden": true
   },
   "source": [
    "**Python$** - Encontra qualquer string que esteja em fim de linha e contenha os caracteres \"Python\""
   ]
  },
  {
   "cell_type": "markdown",
   "id": "iraqi-ontario",
   "metadata": {
    "heading_collapsed": true,
    "hidden": true,
    "hide_input": false
   },
   "source": [
    "#### <font color='#F37126'> Marcadores de quantidade </font>"
   ]
  },
  {
   "cell_type": "markdown",
   "id": "material-default",
   "metadata": {
    "hidden": true
   },
   "source": [
    "**Pyt*** - Encontra strings com sequência de caracteres \"Py\", seguida de zero ou mais ocorrências do caracter \"t\"."
   ]
  },
  {
   "cell_type": "markdown",
   "id": "paperback-offer",
   "metadata": {
    "hidden": true
   },
   "source": [
    "**Pyt+** - Encontra strings com sequência de caracteres \"Py\", seguida de uma ou mais ocorrências do caracter \"t\"."
   ]
  },
  {
   "cell_type": "markdown",
   "id": "illegal-bundle",
   "metadata": {
    "hidden": true
   },
   "source": [
    "**Pyt?** - Encontra strings com sequência de caracteres \"Py\", seguida de zero ou uma ocorrência do caracter \"t\"."
   ]
  },
  {
   "cell_type": "markdown",
   "id": "minor-creation",
   "metadata": {
    "hidden": true
   },
   "source": [
    "**Pyt{3}** - Encontra strings com sequência de caracteres \"Py\", seguida de exatamente 3 ocorrências do caracter \"t\"."
   ]
  },
  {
   "cell_type": "markdown",
   "id": "absolute-astrology",
   "metadata": {
    "hidden": true
   },
   "source": [
    "**Pyt{2,4}** - Encontra strings com sequência de caracteres \"Py\", seguida de 2 a 4 ocorrências do caracter \"t\"."
   ]
  },
  {
   "cell_type": "markdown",
   "id": "dangerous-reservoir",
   "metadata": {
    "hidden": true
   },
   "source": [
    "**Pyt{3,}** - Encontra strings com sequência de caracteres \"Py\", seguida de 3 ou mais ocorrências do caracter \"t\"."
   ]
  },
  {
   "cell_type": "markdown",
   "id": "close-documentation",
   "metadata": {
    "hidden": true
   },
   "source": [
    "**Py(th)*** - Encontra strings com sequência de caracteres \"Py\", seguida de zero ou mais ocorrências da sequência \"th\""
   ]
  },
  {
   "cell_type": "markdown",
   "id": "supreme-identity",
   "metadata": {
    "heading_collapsed": true,
    "hidden": true,
    "hide_input": false
   },
   "source": [
    "#### <font color='#F37126'> Marcadores de alternativa ou operador OR </font>"
   ]
  },
  {
   "cell_type": "markdown",
   "id": "pleasant-psychology",
   "metadata": {
    "hidden": true
   },
   "source": [
    "**Pyt|hon** - Encontra strings com a sequência de caracteres \"Pyt\" ou strings com a sequência de caracteres \"hon\""
   ]
  },
  {
   "cell_type": "markdown",
   "id": "general-still",
   "metadata": {
    "hidden": true
   },
   "source": [
    "**Py(t|h)** - Encontra strings com a sequência de caracteres \"Py\", seguida do caracter \"t\" ou caracter \"h\"."
   ]
  },
  {
   "cell_type": "markdown",
   "id": "applied-melbourne",
   "metadata": {
    "hidden": true
   },
   "source": [
    "**Py(t|h|o)** - Encontra strings com a sequência de caracteres \"Py\", seguida do caracter \"t\" ou caracter \"h\" ou do caracter \"o\"."
   ]
  },
  {
   "cell_type": "markdown",
   "id": "patent-eating",
   "metadata": {
    "heading_collapsed": true,
    "hidden": true,
    "hide_input": false
   },
   "source": [
    "#### <font color='#F37126'> Marcadores de definição de conjuntos ( [] )</font>"
   ]
  },
  {
   "cell_type": "markdown",
   "id": "rocky-infrastructure",
   "metadata": {
    "hidden": true
   },
   "source": [
    "**Py[tho]** - Encontra strings com a sequência de caracteres \"Py\", seguida de um caracter pertencente ao conjunto ( t, h, o )"
   ]
  },
  {
   "cell_type": "markdown",
   "id": "rapid-member",
   "metadata": {
    "hidden": true
   },
   "source": [
    "**Py[0-9]** - Encontra strings com a sequência de caracteres \"Py\", seguida do caracter pertencente ao conjunto de dígitos de 0 a 9."
   ]
  },
  {
   "cell_type": "markdown",
   "id": "biblical-breach",
   "metadata": {
    "hidden": true
   },
   "source": [
    "**Py[a-z]** - Encontra strings com a sequência de caracteres \"Py\", seguida do caracter pertencente ao conjunto de caracteres alfabéticos de \"a\" a \"z\""
   ]
  },
  {
   "cell_type": "markdown",
   "id": "fewer-impossible",
   "metadata": {
    "heading_collapsed": true,
    "hidden": true,
    "hide_input": false
   },
   "source": [
    "#### <font color='#F37126'> Marcadores de classe de caracteres </font>"
   ]
  },
  {
   "cell_type": "markdown",
   "id": "moral-recovery",
   "metadata": {
    "hidden": true
   },
   "source": [
    "**\\w** - Representa um caractere alfanumérico, incluindo ocorrências maiúsculas e minúsculas das letras e o caractere \"_\"."
   ]
  },
  {
   "cell_type": "markdown",
   "id": "regular-yesterday",
   "metadata": {
    "hidden": true
   },
   "source": [
    "**\\d** - Representa um caractere numérico e equivale a definição do conjunto [0-9]"
   ]
  },
  {
   "cell_type": "markdown",
   "id": "miniature-people",
   "metadata": {
    "hidden": true
   },
   "source": [
    "**\\s** - Representa um espaço em branco, incluindo tabulações e quebras de linha"
   ]
  },
  {
   "cell_type": "markdown",
   "id": "tamil-joyce",
   "metadata": {
    "hidden": true
   },
   "source": [
    "**.** - Este caracter é utilizado como coringa e representa qualquer caractere"
   ]
  }
 ],
 "metadata": {
  "kernelspec": {
   "display_name": "Python 3",
   "language": "python",
   "name": "python3"
  },
  "language_info": {
   "codemirror_mode": {
    "name": "ipython",
    "version": 3
   },
   "file_extension": ".py",
   "mimetype": "text/x-python",
   "name": "python",
   "nbconvert_exporter": "python",
   "pygments_lexer": "ipython3",
   "version": "3.8.0"
  }
 },
 "nbformat": 4,
 "nbformat_minor": 5
}
