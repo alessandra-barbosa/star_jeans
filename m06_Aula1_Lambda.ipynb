{
 "cells": [
  {
   "cell_type": "markdown",
   "id": "d186074b",
   "metadata": {
    "heading_collapsed": true
   },
   "source": [
    "# Star Jeans _ Product pricing project based on competition"
   ]
  },
  {
   "cell_type": "markdown",
   "id": "7e8a47d3",
   "metadata": {
    "heading_collapsed": true,
    "hidden": true
   },
   "source": [
    "## Business problem\n",
    "- What is the best selling price for pants? \n",
    "\n",
    "## Questions to be answered:\n",
    "- What is the best selling price for the pants?\n",
    "- How many types of pants and their colors for the initial product?\n",
    "- What are the raw materials needed to make the pants?\n",
    "\n",
    "## Data source\n",
    "- H&M: https://www2.hm.com/en_us/men/products/jeans.html\n",
    "- Macys: https://www.macys.com/shop/mens-clothing/mens-jeans"
   ]
  },
  {
   "cell_type": "markdown",
   "id": "976a8157",
   "metadata": {},
   "source": [
    "# Imports"
   ]
  },
  {
   "cell_type": "code",
   "execution_count": 183,
   "id": "5e549fa9",
   "metadata": {
    "ExecuteTime": {
     "end_time": "2021-09-20T10:37:09.946391Z",
     "start_time": "2021-09-20T10:37:09.944047Z"
    }
   },
   "outputs": [],
   "source": [
    "# !pip install requests\n",
    "# !pip install bs4"
   ]
  },
  {
   "cell_type": "code",
   "execution_count": 204,
   "id": "9db9828c",
   "metadata": {
    "ExecuteTime": {
     "end_time": "2021-09-20T10:43:11.823847Z",
     "start_time": "2021-09-20T10:43:11.818202Z"
    }
   },
   "outputs": [],
   "source": [
    "import requests\n",
    "import pandas as pd\n",
    "from datetime import datetime\n",
    "from bs4 import BeautifulSoup\n",
    "import numpy as np\n",
    "import re"
   ]
  },
  {
   "cell_type": "code",
   "execution_count": 205,
   "id": "0ec299af",
   "metadata": {
    "ExecuteTime": {
     "end_time": "2021-09-20T10:43:12.386808Z",
     "start_time": "2021-09-20T10:43:12.098476Z"
    }
   },
   "outputs": [],
   "source": [
    "url = 'https://www2.hm.com/en_us/men/products/jeans.html'\n",
    "\n",
    "headers = {'User-Agent': 'Mozilla/5.0 (Macintosh; Intel Mac OS X 10_11_5),AppleWebKit/537.36 (KHTML, like Gecko) Chrome/50.0.2661.102 Safari/537.36'}\n",
    "           \n",
    "page = requests.get( url, headers=headers )"
   ]
  },
  {
   "cell_type": "code",
   "execution_count": 206,
   "id": "d2575e61",
   "metadata": {
    "ExecuteTime": {
     "end_time": "2021-09-20T10:43:12.604943Z",
     "start_time": "2021-09-20T10:43:12.419484Z"
    }
   },
   "outputs": [],
   "source": [
    "soup = BeautifulSoup( page.text, 'html.parser' )"
   ]
  },
  {
   "cell_type": "code",
   "execution_count": 207,
   "id": "61ea52c4",
   "metadata": {
    "ExecuteTime": {
     "end_time": "2021-09-20T10:43:12.615023Z",
     "start_time": "2021-09-20T10:43:12.607116Z"
    }
   },
   "outputs": [],
   "source": [
    "products = soup.find( 'ul', class_='products-listing small' )"
   ]
  },
  {
   "cell_type": "code",
   "execution_count": 208,
   "id": "b7fdee5b",
   "metadata": {
    "ExecuteTime": {
     "end_time": "2021-09-20T10:43:12.700619Z",
     "start_time": "2021-09-20T10:43:12.689753Z"
    }
   },
   "outputs": [],
   "source": [
    "product_list = products.find_all( 'article', class_='hm-product-item')\n",
    "\n",
    "# product id\n",
    "product_id = [p.get( 'data-articlecode' ) for p in product_list]\n",
    "\n",
    "# product category\n",
    "product_category = [p.get( 'data-category' ) for p in product_list]\n",
    "\n",
    "# product name\n",
    "product_list = products.find_all( 'a', class_='link' )\n",
    "product_name = [p.get_text() for p in product_list]\n",
    "\n",
    "# price\n",
    "product_list = products.find_all( 'span', class_='price regular' )\n",
    "product_price = [p.get_text() for p in product_list]"
   ]
  },
  {
   "cell_type": "code",
   "execution_count": 209,
   "id": "91daa931",
   "metadata": {
    "ExecuteTime": {
     "end_time": "2021-09-20T10:43:12.865744Z",
     "start_time": "2021-09-20T10:43:12.848046Z"
    }
   },
   "outputs": [],
   "source": [
    "data = pd.DataFrame( [product_id, product_category, product_name,product_price] ).T\n",
    "data.columns = ['product_id', 'product_category', 'product_name','product_price']\n",
    "\n",
    "# scrapy datetime\n",
    "data['scrapy_datetime'] = datetime.now().strftime( '%Y-%m-%d %H:%M:%S' )"
   ]
  },
  {
   "cell_type": "code",
   "execution_count": 210,
   "id": "f7d794f6",
   "metadata": {
    "ExecuteTime": {
     "end_time": "2021-09-20T10:43:12.989592Z",
     "start_time": "2021-09-20T10:43:12.977835Z"
    }
   },
   "outputs": [
    {
     "data": {
      "text/plain": [
       "'86'"
      ]
     },
     "execution_count": 210,
     "metadata": {},
     "output_type": "execute_result"
    }
   ],
   "source": [
    "total_item = soup.find_all( 'h2', class_='load-more-heading' )[0].get('data-total')\n",
    "total_item"
   ]
  },
  {
   "cell_type": "code",
   "execution_count": 211,
   "id": "3556dbf7",
   "metadata": {
    "ExecuteTime": {
     "end_time": "2021-09-20T10:43:13.320551Z",
     "start_time": "2021-09-20T10:43:13.312105Z"
    }
   },
   "outputs": [
    {
     "data": {
      "text/plain": [
       "3.0"
      ]
     },
     "execution_count": 211,
     "metadata": {},
     "output_type": "execute_result"
    }
   ],
   "source": [
    "page_number = np.ceil( int( total_item ) / 36 )\n",
    "page_number"
   ]
  },
  {
   "cell_type": "code",
   "execution_count": 212,
   "id": "ceb0f355",
   "metadata": {
    "ExecuteTime": {
     "end_time": "2021-09-20T10:43:13.512759Z",
     "start_time": "2021-09-20T10:43:13.499665Z"
    }
   },
   "outputs": [
    {
     "data": {
      "text/plain": [
       "'https://www2.hm.com/en_us/men/products/jeans.html?page-size=108'"
      ]
     },
     "execution_count": 212,
     "metadata": {},
     "output_type": "execute_result"
    }
   ],
   "source": [
    "url02 = url + '?page-size=' + str( int( page_number*36 ) )\n",
    "url02"
   ]
  },
  {
   "cell_type": "markdown",
   "id": "3ff9cf01",
   "metadata": {},
   "source": [
    "# One Product"
   ]
  },
  {
   "cell_type": "code",
   "execution_count": 213,
   "id": "71ee3f1a",
   "metadata": {
    "ExecuteTime": {
     "end_time": "2021-09-20T10:43:13.956396Z",
     "start_time": "2021-09-20T10:43:13.953779Z"
    }
   },
   "outputs": [],
   "source": [
    "# # API Requests\n",
    "# url = 'https://www2.hm.com/en_us/productpage.0636207010.html'\n",
    "# headers = {'User-Agent': 'Mozilla/5.0 (Macintosh; Intel Mac OS X 10_11_5)AppleWebKit/537.36 (KHTML, like Gecko) Chrome/50.0.2661.102 Safari/537.36'}\n",
    "# page = requests.get( url, headers=headers )\n",
    "\n",
    "# # Beautiful Soup object\n",
    "# soup = BeautifulSoup( page.text, 'html.parser' )\n",
    "\n"
   ]
  },
  {
   "cell_type": "code",
   "execution_count": 214,
   "id": "90556fb2",
   "metadata": {
    "ExecuteTime": {
     "end_time": "2021-09-20T10:43:14.418259Z",
     "start_time": "2021-09-20T10:43:14.415842Z"
    }
   },
   "outputs": [],
   "source": [
    "# # ==================== color name =================================\n",
    "# product_list = soup.find_all( 'a', class_='filter-option miniature' )\n",
    "# color_name = [p.get( 'data-color' ) for p in product_list]\n",
    "\n",
    "# # product id\n",
    "# product_id = [p.get( 'data-articlecode' ) for p in product_list]\n",
    "# df_color = pd.DataFrame( [product_id, color_name] ).T\n",
    "# df_color.columns = ['product_id', 'color_name']"
   ]
  },
  {
   "cell_type": "code",
   "execution_count": 215,
   "id": "b5a900de",
   "metadata": {
    "ExecuteTime": {
     "end_time": "2021-09-20T10:43:14.584781Z",
     "start_time": "2021-09-20T10:43:14.582409Z"
    }
   },
   "outputs": [],
   "source": [
    "# # generate style id + color id\n",
    "# df_color['style_id'] = df_color['product_id'].apply( lambda x: x[:-3] )\n",
    "# df_color['color_id'] = df_color['product_id'].apply( lambda x: x[-3:] )"
   ]
  },
  {
   "cell_type": "code",
   "execution_count": 216,
   "id": "29576056",
   "metadata": {
    "ExecuteTime": {
     "end_time": "2021-09-20T10:43:14.729177Z",
     "start_time": "2021-09-20T10:43:14.725089Z"
    }
   },
   "outputs": [],
   "source": [
    "# # ==================== composition =================================\n",
    "# product_composition_list = soup.find_all( 'div',class_='pdp-description-list-item' )\n",
    "# product_composition = [list( filter( None, p.get_text().split( '\\n' ) ) ) for p in product_composition_list]\n",
    "\n",
    "# # rename dataframe\n",
    "# df_composition = pd.DataFrame( product_composition ).T\n",
    "# df_composition.columns = df_composition.iloc[0]\n",
    "\n",
    "# # delete first row\n",
    "# df_composition = df_composition.iloc[1:].fillna( method='ffill' )\n",
    "\n",
    "# # generate style id + color id\n",
    "# df_composition['style_id'] = df_composition['Art. No.'].apply( lambda x: x[:-3])\n",
    "# df_composition['color_id'] = df_composition['Art. No.'].apply( lambda x: x[-3:])\n",
    "\n",
    "# # merge data color + decomposition\n",
    "# data_sku = pd.merge( df_color, df_composition[['style_id', 'Fit','Composition']], how='left', on='style_id' )"
   ]
  },
  {
   "cell_type": "markdown",
   "id": "70002dbf",
   "metadata": {},
   "source": [
    "# Multiple Products"
   ]
  },
  {
   "cell_type": "code",
   "execution_count": 217,
   "id": "f9aa170d",
   "metadata": {
    "ExecuteTime": {
     "end_time": "2021-09-20T10:43:15.100697Z",
     "start_time": "2021-09-20T10:43:15.093180Z"
    }
   },
   "outputs": [
    {
     "data": {
      "text/html": [
       "<div>\n",
       "<style scoped>\n",
       "    .dataframe tbody tr th:only-of-type {\n",
       "        vertical-align: middle;\n",
       "    }\n",
       "\n",
       "    .dataframe tbody tr th {\n",
       "        vertical-align: top;\n",
       "    }\n",
       "\n",
       "    .dataframe thead th {\n",
       "        text-align: right;\n",
       "    }\n",
       "</style>\n",
       "<table border=\"1\" class=\"dataframe\">\n",
       "  <thead>\n",
       "    <tr style=\"text-align: right;\">\n",
       "      <th></th>\n",
       "      <th>product_id</th>\n",
       "      <th>product_category</th>\n",
       "      <th>product_name</th>\n",
       "      <th>product_price</th>\n",
       "      <th>scrapy_datetime</th>\n",
       "    </tr>\n",
       "  </thead>\n",
       "  <tbody>\n",
       "    <tr>\n",
       "      <th>0</th>\n",
       "      <td>0985197001</td>\n",
       "      <td>men_jeans_slim</td>\n",
       "      <td>Slim Jeans</td>\n",
       "      <td>$ 19.99</td>\n",
       "      <td>2021-09-20 12:43:12</td>\n",
       "    </tr>\n",
       "    <tr>\n",
       "      <th>1</th>\n",
       "      <td>0985159001</td>\n",
       "      <td>men_jeans_skinny</td>\n",
       "      <td>Skinny Jeans</td>\n",
       "      <td>$ 19.99</td>\n",
       "      <td>2021-09-20 12:43:12</td>\n",
       "    </tr>\n",
       "    <tr>\n",
       "      <th>2</th>\n",
       "      <td>0690449051</td>\n",
       "      <td>men_jeans_ripped</td>\n",
       "      <td>Skinny Jeans</td>\n",
       "      <td>$ 39.99</td>\n",
       "      <td>2021-09-20 12:43:12</td>\n",
       "    </tr>\n",
       "    <tr>\n",
       "      <th>3</th>\n",
       "      <td>0690449022</td>\n",
       "      <td>men_jeans_ripped</td>\n",
       "      <td>Skinny Jeans</td>\n",
       "      <td>$ 39.99</td>\n",
       "      <td>2021-09-20 12:43:12</td>\n",
       "    </tr>\n",
       "    <tr>\n",
       "      <th>4</th>\n",
       "      <td>0985197003</td>\n",
       "      <td>men_jeans_slim</td>\n",
       "      <td>Slim Jeans</td>\n",
       "      <td>$ 19.99</td>\n",
       "      <td>2021-09-20 12:43:12</td>\n",
       "    </tr>\n",
       "  </tbody>\n",
       "</table>\n",
       "</div>"
      ],
      "text/plain": [
       "   product_id  product_category  product_name product_price  \\\n",
       "0  0985197001    men_jeans_slim    Slim Jeans       $ 19.99   \n",
       "1  0985159001  men_jeans_skinny  Skinny Jeans       $ 19.99   \n",
       "2  0690449051  men_jeans_ripped  Skinny Jeans       $ 39.99   \n",
       "3  0690449022  men_jeans_ripped  Skinny Jeans       $ 39.99   \n",
       "4  0985197003    men_jeans_slim    Slim Jeans       $ 19.99   \n",
       "\n",
       "       scrapy_datetime  \n",
       "0  2021-09-20 12:43:12  \n",
       "1  2021-09-20 12:43:12  \n",
       "2  2021-09-20 12:43:12  \n",
       "3  2021-09-20 12:43:12  \n",
       "4  2021-09-20 12:43:12  "
      ]
     },
     "execution_count": 217,
     "metadata": {},
     "output_type": "execute_result"
    }
   ],
   "source": [
    "data.head()"
   ]
  },
  {
   "cell_type": "code",
   "execution_count": 218,
   "id": "d6022e52",
   "metadata": {
    "ExecuteTime": {
     "end_time": "2021-09-20T10:43:37.674319Z",
     "start_time": "2021-09-20T10:43:18.176246Z"
    }
   },
   "outputs": [],
   "source": [
    "headers = {'User-Agent': 'Mozilla/5.0 (Macintosh; Intel Mac OS X 10_11_5)AppleWebKit/537.36 (KHTML, like Gecko) Chrome/50.0.2661.102 Safari/537.36'}\n",
    "\n",
    "# empty dataframe\n",
    "df_details = pd.DataFrame()\n",
    "\n",
    "# unique columns for all products\n",
    "aux = []\n",
    "cols = ['Art. No.', 'Composition', 'Fit', 'Product safety', 'Size']\n",
    "df_pattern = pd.DataFrame( columns=cols )\n",
    "\n",
    "for i in range( len( data ) ):\n",
    "    \n",
    "# API Requests\n",
    "    url = 'https://www2.hm.com/en_us/productpage.' + data.loc[i, 'product_id'] + '.html'\n",
    "    page = requests.get( url, headers=headers )\n",
    "\n",
    "        # Beautiful Soup object\n",
    "    soup = BeautifulSoup( page.text, 'html.parser' )\n",
    "\n",
    "        # ==================== color name =================================\n",
    "    product_list = soup.find_all( 'a', class_='filter-option miniature' )\n",
    "    color_name = [p.get( 'data-color' ) for p in product_list]\n",
    "\n",
    "        # product id\n",
    "    product_id = [p.get( 'data-articlecode' ) for p in product_list]\n",
    "    df_color = pd.DataFrame( [product_id, color_name] ).T\n",
    "    df_color.columns = ['product_id', 'color_name']\n",
    "\n",
    "        # generate style id + color id\n",
    "    df_color['style_id'] = df_color['product_id'].apply( lambda x: x[:-3] )\n",
    "    df_color['color_id'] = df_color['product_id'].apply( lambda x: x[-3:] )\n",
    "\n",
    "# ==================== composition =================================\n",
    "\n",
    "    product_composition_list = soup.find_all( 'div',class_='pdp-description-list-item' )\n",
    "    product_composition = [list( filter( None, p.get_text().split( '\\n' ) ) ) for p in product_composition_list]\n",
    "\n",
    "        # reaname dataframe\n",
    "    df_composition = pd.DataFrame( product_composition ).T\n",
    "    df_composition.columns = df_composition.iloc[0]\n",
    "\n",
    "        # delete first row\n",
    "    df_composition = df_composition.iloc[1:].fillna( method='ffill' )\n",
    "\n",
    "        # garantee the same number of columns\n",
    "    df_composition = pd.concat( [df_pattern, df_composition], axis=0 )\n",
    "\n",
    "        # generate style id + color id\n",
    "    df_composition['style_id'] = df_composition['Art. No.'].apply( lambda x: x[:-3] )\n",
    "    df_composition['color_id'] = df_composition['Art. No.'].apply( lambda x: x[-3:] )\n",
    "    aux = aux + df_composition.columns.tolist()\n",
    "\n",
    "        # merge data color + decomposition\n",
    "    data_sku = pd.merge( df_color, df_composition[['style_id', 'Fit','Composition', 'Size', 'Product safety']], how='left', on='style_id' )\n",
    "\n",
    "        # all details products\n",
    "    df_details = pd.concat( [df_details, data_sku], axis=0 )\n",
    "\n",
    "                                                                                                       \n",
    "# Join Showroom data + details\n",
    "data['style_id'] = data['product_id'].apply( lambda x: x[:-3] )\n",
    "data['color_id'] = data['product_id'].apply( lambda x: x[-3:] )\n",
    "data_raw = pd.merge( data, df_details[['style_id', 'color_name', 'Fit','Composition', 'Size', 'Product safety']], \n",
    "                    how='left', on='style_id' )\n"
   ]
  },
  {
   "cell_type": "code",
   "execution_count": 219,
   "id": "afe843ba",
   "metadata": {
    "ExecuteTime": {
     "end_time": "2021-09-20T10:43:37.678345Z",
     "start_time": "2021-09-20T10:43:37.675898Z"
    }
   },
   "outputs": [],
   "source": [
    "# ## Metodo lambda (Estudos)\n",
    "\n",
    "# ## product price - remove $\n",
    "# df_details['product_id'] = df_details['product_id'].apply( lambda x: x.replace( '$ ','' ) if pd.notnull( x ) else x )\n",
    "\n",
    "# ## product price - remove $ all columns\n",
    "# df_details['product_id'] = df_details.apply( lambda x: x['product_id'].replace( '$ ', '') if pd.notnull( x['product_id'] ) else x, axis=1 )\n",
    "\n",
    "# # ## product price - remove $ - both conditional\n",
    "# # df_details['product_id'] = df_details[['product_id', 'color_name']].apply( lambda x: x['product_id'].replace('$ ', '') if (pd.notnull(x['product_id']) ) & (x['color_name']=='Gray') else x, axis=1 )\n",
    "\n",
    "# # # product price - remove $ - sequential conditional\n",
    "# df_details['product_id'] = df_details[['product_id', 'color_name']].apply(lambda x: x if pd.isnull( x['product_id'] ) else x['product_id'].replace( '$ ', '')if x['color_name'] == 'Gray' else x, axis=1 )"
   ]
  },
  {
   "cell_type": "code",
   "execution_count": 232,
   "id": "0edde7a9",
   "metadata": {
    "ExecuteTime": {
     "end_time": "2021-09-20T10:52:35.628086Z",
     "start_time": "2021-09-20T10:52:35.599045Z"
    }
   },
   "outputs": [
    {
     "ename": "KeyError",
     "evalue": "'size_number'",
     "output_type": "error",
     "traceback": [
      "\u001b[0;31m---------------------------------------------------------------------------\u001b[0m",
      "\u001b[0;31mKeyError\u001b[0m                                  Traceback (most recent call last)",
      "\u001b[0;32m~/.pyenv/versions/3.8.0/envs/DsDev/lib/python3.8/site-packages/pandas/core/indexes/base.py\u001b[0m in \u001b[0;36mget_loc\u001b[0;34m(self, key, method, tolerance)\u001b[0m\n\u001b[1;32m   3360\u001b[0m             \u001b[0;32mtry\u001b[0m\u001b[0;34m:\u001b[0m\u001b[0;34m\u001b[0m\u001b[0;34m\u001b[0m\u001b[0m\n\u001b[0;32m-> 3361\u001b[0;31m                 \u001b[0;32mreturn\u001b[0m \u001b[0mself\u001b[0m\u001b[0;34m.\u001b[0m\u001b[0m_engine\u001b[0m\u001b[0;34m.\u001b[0m\u001b[0mget_loc\u001b[0m\u001b[0;34m(\u001b[0m\u001b[0mcasted_key\u001b[0m\u001b[0;34m)\u001b[0m\u001b[0;34m\u001b[0m\u001b[0;34m\u001b[0m\u001b[0m\n\u001b[0m\u001b[1;32m   3362\u001b[0m             \u001b[0;32mexcept\u001b[0m \u001b[0mKeyError\u001b[0m \u001b[0;32mas\u001b[0m \u001b[0merr\u001b[0m\u001b[0;34m:\u001b[0m\u001b[0;34m\u001b[0m\u001b[0;34m\u001b[0m\u001b[0m\n",
      "\u001b[0;32m~/.pyenv/versions/3.8.0/envs/DsDev/lib/python3.8/site-packages/pandas/_libs/index.pyx\u001b[0m in \u001b[0;36mpandas._libs.index.IndexEngine.get_loc\u001b[0;34m()\u001b[0m\n",
      "\u001b[0;32m~/.pyenv/versions/3.8.0/envs/DsDev/lib/python3.8/site-packages/pandas/_libs/index.pyx\u001b[0m in \u001b[0;36mpandas._libs.index.IndexEngine.get_loc\u001b[0;34m()\u001b[0m\n",
      "\u001b[0;32mpandas/_libs/hashtable_class_helper.pxi\u001b[0m in \u001b[0;36mpandas._libs.hashtable.PyObjectHashTable.get_item\u001b[0;34m()\u001b[0m\n",
      "\u001b[0;32mpandas/_libs/hashtable_class_helper.pxi\u001b[0m in \u001b[0;36mpandas._libs.hashtable.PyObjectHashTable.get_item\u001b[0;34m()\u001b[0m\n",
      "\u001b[0;31mKeyError\u001b[0m: 'size_number'",
      "\nThe above exception was the direct cause of the following exception:\n",
      "\u001b[0;31mKeyError\u001b[0m                                  Traceback (most recent call last)",
      "\u001b[0;32m/tmp/ipykernel_50683/1493948753.py\u001b[0m in \u001b[0;36m<module>\u001b[0;34m\u001b[0m\n\u001b[1;32m     27\u001b[0m \u001b[0;34m\u001b[0m\u001b[0m\n\u001b[1;32m     28\u001b[0m \u001b[0;31m# size number\u001b[0m\u001b[0;34m\u001b[0m\u001b[0;34m\u001b[0m\u001b[0;34m\u001b[0m\u001b[0m\n\u001b[0;32m---> 29\u001b[0;31m \u001b[0mdata\u001b[0m\u001b[0;34m[\u001b[0m\u001b[0;34m'size_number'\u001b[0m\u001b[0;34m]\u001b[0m \u001b[0;34m=\u001b[0m \u001b[0mdata\u001b[0m\u001b[0;34m[\u001b[0m\u001b[0;34m'size_number'\u001b[0m\u001b[0;34m]\u001b[0m\u001b[0;34m.\u001b[0m\u001b[0mapply\u001b[0m\u001b[0;34m(\u001b[0m \u001b[0;32mlambda\u001b[0m \u001b[0mx\u001b[0m\u001b[0;34m:\u001b[0m \u001b[0mre\u001b[0m\u001b[0;34m.\u001b[0m\u001b[0msearch\u001b[0m\u001b[0;34m(\u001b[0m \u001b[0;34m'\\d{3}cm'\u001b[0m\u001b[0;34m,\u001b[0m \u001b[0mx\u001b[0m \u001b[0;34m)\u001b[0m\u001b[0;34m.\u001b[0m\u001b[0mgroup\u001b[0m\u001b[0;34m(\u001b[0m\u001b[0;36m0\u001b[0m\u001b[0;34m)\u001b[0m \u001b[0;32mif\u001b[0m \u001b[0mpd\u001b[0m\u001b[0;34m.\u001b[0m\u001b[0mnotnull\u001b[0m\u001b[0;34m(\u001b[0m \u001b[0mx\u001b[0m \u001b[0;34m)\u001b[0m \u001b[0;32melse\u001b[0m \u001b[0mx\u001b[0m \u001b[0;34m)\u001b[0m\u001b[0;34m\u001b[0m\u001b[0;34m\u001b[0m\u001b[0m\n\u001b[0m\u001b[1;32m     30\u001b[0m \u001b[0mdata\u001b[0m\u001b[0;34m[\u001b[0m\u001b[0;34m'size_number'\u001b[0m\u001b[0;34m]\u001b[0m \u001b[0;34m=\u001b[0m \u001b[0mdata\u001b[0m\u001b[0;34m[\u001b[0m\u001b[0;34m'size_number'\u001b[0m\u001b[0;34m]\u001b[0m\u001b[0;34m.\u001b[0m\u001b[0mapply\u001b[0m\u001b[0;34m(\u001b[0m \u001b[0;32mlambda\u001b[0m \u001b[0mx\u001b[0m\u001b[0;34m:\u001b[0m \u001b[0mre\u001b[0m\u001b[0;34m.\u001b[0m\u001b[0msearch\u001b[0m\u001b[0;34m(\u001b[0m \u001b[0;34m'\\d+'\u001b[0m\u001b[0;34m,\u001b[0m \u001b[0mx\u001b[0m\u001b[0;34m)\u001b[0m\u001b[0;34m.\u001b[0m\u001b[0mgroup\u001b[0m\u001b[0;34m(\u001b[0m\u001b[0;36m0\u001b[0m\u001b[0;34m)\u001b[0m \u001b[0;32mif\u001b[0m \u001b[0mpd\u001b[0m\u001b[0;34m.\u001b[0m\u001b[0mnotnull\u001b[0m\u001b[0;34m(\u001b[0m \u001b[0mx\u001b[0m \u001b[0;34m)\u001b[0m\u001b[0;32melse\u001b[0m \u001b[0mx\u001b[0m \u001b[0;34m)\u001b[0m\u001b[0;34m\u001b[0m\u001b[0;34m\u001b[0m\u001b[0m\n\u001b[1;32m     31\u001b[0m \u001b[0;34m\u001b[0m\u001b[0m\n",
      "\u001b[0;32m~/.pyenv/versions/3.8.0/envs/DsDev/lib/python3.8/site-packages/pandas/core/frame.py\u001b[0m in \u001b[0;36m__getitem__\u001b[0;34m(self, key)\u001b[0m\n\u001b[1;32m   3453\u001b[0m             \u001b[0;32mif\u001b[0m \u001b[0mself\u001b[0m\u001b[0;34m.\u001b[0m\u001b[0mcolumns\u001b[0m\u001b[0;34m.\u001b[0m\u001b[0mnlevels\u001b[0m \u001b[0;34m>\u001b[0m \u001b[0;36m1\u001b[0m\u001b[0;34m:\u001b[0m\u001b[0;34m\u001b[0m\u001b[0;34m\u001b[0m\u001b[0m\n\u001b[1;32m   3454\u001b[0m                 \u001b[0;32mreturn\u001b[0m \u001b[0mself\u001b[0m\u001b[0;34m.\u001b[0m\u001b[0m_getitem_multilevel\u001b[0m\u001b[0;34m(\u001b[0m\u001b[0mkey\u001b[0m\u001b[0;34m)\u001b[0m\u001b[0;34m\u001b[0m\u001b[0;34m\u001b[0m\u001b[0m\n\u001b[0;32m-> 3455\u001b[0;31m             \u001b[0mindexer\u001b[0m \u001b[0;34m=\u001b[0m \u001b[0mself\u001b[0m\u001b[0;34m.\u001b[0m\u001b[0mcolumns\u001b[0m\u001b[0;34m.\u001b[0m\u001b[0mget_loc\u001b[0m\u001b[0;34m(\u001b[0m\u001b[0mkey\u001b[0m\u001b[0;34m)\u001b[0m\u001b[0;34m\u001b[0m\u001b[0;34m\u001b[0m\u001b[0m\n\u001b[0m\u001b[1;32m   3456\u001b[0m             \u001b[0;32mif\u001b[0m \u001b[0mis_integer\u001b[0m\u001b[0;34m(\u001b[0m\u001b[0mindexer\u001b[0m\u001b[0;34m)\u001b[0m\u001b[0;34m:\u001b[0m\u001b[0;34m\u001b[0m\u001b[0;34m\u001b[0m\u001b[0m\n\u001b[1;32m   3457\u001b[0m                 \u001b[0mindexer\u001b[0m \u001b[0;34m=\u001b[0m \u001b[0;34m[\u001b[0m\u001b[0mindexer\u001b[0m\u001b[0;34m]\u001b[0m\u001b[0;34m\u001b[0m\u001b[0;34m\u001b[0m\u001b[0m\n",
      "\u001b[0;32m~/.pyenv/versions/3.8.0/envs/DsDev/lib/python3.8/site-packages/pandas/core/indexes/base.py\u001b[0m in \u001b[0;36mget_loc\u001b[0;34m(self, key, method, tolerance)\u001b[0m\n\u001b[1;32m   3361\u001b[0m                 \u001b[0;32mreturn\u001b[0m \u001b[0mself\u001b[0m\u001b[0;34m.\u001b[0m\u001b[0m_engine\u001b[0m\u001b[0;34m.\u001b[0m\u001b[0mget_loc\u001b[0m\u001b[0;34m(\u001b[0m\u001b[0mcasted_key\u001b[0m\u001b[0;34m)\u001b[0m\u001b[0;34m\u001b[0m\u001b[0;34m\u001b[0m\u001b[0m\n\u001b[1;32m   3362\u001b[0m             \u001b[0;32mexcept\u001b[0m \u001b[0mKeyError\u001b[0m \u001b[0;32mas\u001b[0m \u001b[0merr\u001b[0m\u001b[0;34m:\u001b[0m\u001b[0;34m\u001b[0m\u001b[0;34m\u001b[0m\u001b[0m\n\u001b[0;32m-> 3363\u001b[0;31m                 \u001b[0;32mraise\u001b[0m \u001b[0mKeyError\u001b[0m\u001b[0;34m(\u001b[0m\u001b[0mkey\u001b[0m\u001b[0;34m)\u001b[0m \u001b[0;32mfrom\u001b[0m \u001b[0merr\u001b[0m\u001b[0;34m\u001b[0m\u001b[0;34m\u001b[0m\u001b[0m\n\u001b[0m\u001b[1;32m   3364\u001b[0m \u001b[0;34m\u001b[0m\u001b[0m\n\u001b[1;32m   3365\u001b[0m         \u001b[0;32mif\u001b[0m \u001b[0mis_scalar\u001b[0m\u001b[0;34m(\u001b[0m\u001b[0mkey\u001b[0m\u001b[0;34m)\u001b[0m \u001b[0;32mand\u001b[0m \u001b[0misna\u001b[0m\u001b[0;34m(\u001b[0m\u001b[0mkey\u001b[0m\u001b[0;34m)\u001b[0m \u001b[0;32mand\u001b[0m \u001b[0;32mnot\u001b[0m \u001b[0mself\u001b[0m\u001b[0;34m.\u001b[0m\u001b[0mhasnans\u001b[0m\u001b[0;34m:\u001b[0m\u001b[0;34m\u001b[0m\u001b[0;34m\u001b[0m\u001b[0m\n",
      "\u001b[0;31mKeyError\u001b[0m: 'size_number'"
     ]
    }
   ],
   "source": [
    "import re\n",
    "import pandas as %pd\n",
    "data = pd.read_csv( '' )\n",
    "\n",
    "\n",
    "\n",
    "# # product id\n",
    "# data = data.dropna( subset=['product_id'] )\n",
    "# data['product_id'] = data['product_id'].astype( int )\n",
    "\n",
    "# # product name\n",
    "# data['product_name'] = data['product_name'].apply( lambda x: x.replace( ' ','_' ).lower().lower() )\n",
    "\n",
    "\n",
    "\n",
    "# data['product_price'] = data['product_price'].apply( lambda x: x.replace( '$ ','' ) ).astype( float )\n",
    "\n",
    "\n",
    "# # scrapy datetime\n",
    "# data['scrapy_datetime'] = pd.to_datetime( data['scrapy_datetime'],format='%Y-%m-%d %H:%M:%S' )\n",
    "\n",
    "# # style id\n",
    "# data['style_id'] = data['style_id'].astype( int )\n",
    "\n",
    "# # color id\n",
    "# data['color_id'] = data['color_id'].astype( int )\n",
    "\n",
    "# data['color_name'] = data['color_name'].apply( lambda x: x.replace( ' ', '_' ).replace( '/', '_' ).lower() \n",
    "#                                               if pd.notnull( x ) else x )\n",
    "\n",
    "# #fit\n",
    "# data['fit'] = data['fit'].apply( lambda x: x.replace( ' ', '_' ).lower() if pd.notnull( x ) else x )\n",
    "\n",
    "# # size number\n",
    "# data['size_number'] = data['size_number'].apply( lambda x: re.search( '\\d{3}cm', x ).group(0) if pd.notnull( x ) else x )\n",
    "# data['size_number'] = data['size_number'].apply( lambda x: re.search( '\\d+', x).group(0) if pd.notnull( x )else x )\n",
    "\n",
    "# # size model\n",
    "# data['size_model'] = data['size'].str.extract( '(\\d+/\\\\d+)' )\n",
    "# data = data.drop( columns=['size', 'product safety'], axis=1 )\n",
    "\n",
    "# composition\n",
    "data.head()"
   ]
  },
  {
   "cell_type": "code",
   "execution_count": 201,
   "id": "f6e73607",
   "metadata": {
    "ExecuteTime": {
     "end_time": "2021-09-20T10:41:08.133332Z",
     "start_time": "2021-09-20T10:41:08.124533Z"
    }
   },
   "outputs": [
    {
     "data": {
      "text/html": [
       "<div>\n",
       "<style scoped>\n",
       "    .dataframe tbody tr th:only-of-type {\n",
       "        vertical-align: middle;\n",
       "    }\n",
       "\n",
       "    .dataframe tbody tr th {\n",
       "        vertical-align: top;\n",
       "    }\n",
       "\n",
       "    .dataframe thead th {\n",
       "        text-align: right;\n",
       "    }\n",
       "</style>\n",
       "<table border=\"1\" class=\"dataframe\">\n",
       "  <thead>\n",
       "    <tr style=\"text-align: right;\">\n",
       "      <th></th>\n",
       "      <th>product_id</th>\n",
       "      <th>product_category</th>\n",
       "      <th>product_name</th>\n",
       "      <th>product_price</th>\n",
       "      <th>scrapy_datetime</th>\n",
       "      <th>style_id</th>\n",
       "      <th>color_id</th>\n",
       "    </tr>\n",
       "  </thead>\n",
       "  <tbody>\n",
       "    <tr>\n",
       "      <th>0</th>\n",
       "      <td>985197001</td>\n",
       "      <td>men_jeans_slim</td>\n",
       "      <td>Slim Jeans</td>\n",
       "      <td>$ 19.99</td>\n",
       "      <td>2021-09-20 12:37:13</td>\n",
       "      <td>0985197</td>\n",
       "      <td>001</td>\n",
       "    </tr>\n",
       "    <tr>\n",
       "      <th>1</th>\n",
       "      <td>985159001</td>\n",
       "      <td>men_jeans_skinny</td>\n",
       "      <td>Skinny Jeans</td>\n",
       "      <td>$ 19.99</td>\n",
       "      <td>2021-09-20 12:37:13</td>\n",
       "      <td>0985159</td>\n",
       "      <td>001</td>\n",
       "    </tr>\n",
       "    <tr>\n",
       "      <th>2</th>\n",
       "      <td>690449051</td>\n",
       "      <td>men_jeans_ripped</td>\n",
       "      <td>Skinny Jeans</td>\n",
       "      <td>$ 39.99</td>\n",
       "      <td>2021-09-20 12:37:13</td>\n",
       "      <td>0690449</td>\n",
       "      <td>051</td>\n",
       "    </tr>\n",
       "    <tr>\n",
       "      <th>3</th>\n",
       "      <td>690449022</td>\n",
       "      <td>men_jeans_ripped</td>\n",
       "      <td>Skinny Jeans</td>\n",
       "      <td>$ 39.99</td>\n",
       "      <td>2021-09-20 12:37:13</td>\n",
       "      <td>0690449</td>\n",
       "      <td>022</td>\n",
       "    </tr>\n",
       "    <tr>\n",
       "      <th>4</th>\n",
       "      <td>985197003</td>\n",
       "      <td>men_jeans_slim</td>\n",
       "      <td>Slim Jeans</td>\n",
       "      <td>$ 19.99</td>\n",
       "      <td>2021-09-20 12:37:13</td>\n",
       "      <td>0985197</td>\n",
       "      <td>003</td>\n",
       "    </tr>\n",
       "  </tbody>\n",
       "</table>\n",
       "</div>"
      ],
      "text/plain": [
       "   product_id  product_category  product_name product_price  \\\n",
       "0   985197001    men_jeans_slim    Slim Jeans       $ 19.99   \n",
       "1   985159001  men_jeans_skinny  Skinny Jeans       $ 19.99   \n",
       "2   690449051  men_jeans_ripped  Skinny Jeans       $ 39.99   \n",
       "3   690449022  men_jeans_ripped  Skinny Jeans       $ 39.99   \n",
       "4   985197003    men_jeans_slim    Slim Jeans       $ 19.99   \n",
       "\n",
       "       scrapy_datetime style_id color_id  \n",
       "0  2021-09-20 12:37:13  0985197      001  \n",
       "1  2021-09-20 12:37:13  0985159      001  \n",
       "2  2021-09-20 12:37:13  0690449      051  \n",
       "3  2021-09-20 12:37:13  0690449      022  \n",
       "4  2021-09-20 12:37:13  0985197      003  "
      ]
     },
     "execution_count": 201,
     "metadata": {},
     "output_type": "execute_result"
    }
   ],
   "source": [
    "data.head()"
   ]
  },
  {
   "cell_type": "code",
   "execution_count": null,
   "id": "103593a6",
   "metadata": {},
   "outputs": [],
   "source": []
  }
 ],
 "metadata": {
  "kernelspec": {
   "display_name": "Python 3 (ipykernel)",
   "language": "python",
   "name": "python3"
  },
  "language_info": {
   "codemirror_mode": {
    "name": "ipython",
    "version": 3
   },
   "file_extension": ".py",
   "mimetype": "text/x-python",
   "name": "python",
   "nbconvert_exporter": "python",
   "pygments_lexer": "ipython3",
   "version": "3.8.0"
  },
  "latex_envs": {
   "LaTeX_envs_menu_present": true,
   "autoclose": false,
   "autocomplete": true,
   "bibliofile": "biblio.bib",
   "cite_by": "apalike",
   "current_citInitial": 1,
   "eqLabelWithNumbers": true,
   "eqNumInitial": 1,
   "hotkeys": {
    "equation": "Ctrl-E",
    "itemize": "Ctrl-I"
   },
   "labels_anchors": false,
   "latex_user_defs": false,
   "report_style_numbering": false,
   "user_envs_cfg": false
  },
  "nbTranslate": {
   "displayLangs": [
    "*"
   ],
   "hotkey": "alt-t",
   "langInMainMenu": true,
   "sourceLang": "en",
   "targetLang": "fr",
   "useGoogleTranslate": true
  },
  "toc": {
   "base_numbering": "0",
   "nav_menu": {},
   "number_sections": true,
   "sideBar": true,
   "skip_h1_title": false,
   "title_cell": "Table of Contents",
   "title_sidebar": "Contents",
   "toc_cell": false,
   "toc_position": {},
   "toc_section_display": true,
   "toc_window_display": true
  }
 },
 "nbformat": 4,
 "nbformat_minor": 5
}
