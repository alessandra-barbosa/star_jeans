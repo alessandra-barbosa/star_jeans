{
 "cells": [
  {
   "cell_type": "markdown",
   "id": "d186074b",
   "metadata": {},
   "source": [
    "# Star Jeans _ Product pricing project based on competition"
   ]
  },
  {
   "cell_type": "markdown",
   "id": "7e8a47d3",
   "metadata": {},
   "source": [
    "## Business problem\n",
    "- What is the best selling price for pants? \n",
    "\n",
    "## Questions to be answered:\n",
    "- What is the best selling price for the pants?\n",
    "- How many types of pants and their colors for the initial product?\n",
    "- What are the raw materials needed to make the pants?\n",
    "\n",
    "## Data source\n",
    "- H&M: https://www2.hm.com/en_us/men/products/jeans.html\n",
    "- Macys: https://www.macys.com/shop/mens-clothing/mens-jeans"
   ]
  },
  {
   "cell_type": "markdown",
   "id": "976a8157",
   "metadata": {},
   "source": [
    "# Imports"
   ]
  },
  {
   "cell_type": "code",
   "execution_count": 88,
   "id": "5e549fa9",
   "metadata": {
    "ExecuteTime": {
     "end_time": "2021-09-21T08:15:40.296906Z",
     "start_time": "2021-09-21T08:15:40.294535Z"
    }
   },
   "outputs": [],
   "source": [
    "# !pip install requests\n",
    "# !pip install bs4"
   ]
  },
  {
   "cell_type": "code",
   "execution_count": 89,
   "id": "9db9828c",
   "metadata": {
    "ExecuteTime": {
     "end_time": "2021-09-21T08:15:43.454649Z",
     "start_time": "2021-09-21T08:15:43.451871Z"
    }
   },
   "outputs": [],
   "source": [
    "import requests\n",
    "import pandas as pd\n",
    "from datetime import datetime\n",
    "from bs4 import BeautifulSoup\n",
    "import numpy as np\n",
    "import re\n"
   ]
  },
  {
   "cell_type": "code",
   "execution_count": 90,
   "id": "0ec299af",
   "metadata": {
    "ExecuteTime": {
     "end_time": "2021-09-21T08:15:44.569309Z",
     "start_time": "2021-09-21T08:15:44.134319Z"
    }
   },
   "outputs": [],
   "source": [
    "url = 'https://www2.hm.com/en_us/men/products/jeans.html'\n",
    "\n",
    "headers = {'User-Agent': 'Mozilla/5.0 (Macintosh; Intel Mac OS X 10_11_5),AppleWebKit/537.36 (KHTML, like Gecko) Chrome/50.0.2661.102 Safari/537.36'}\n",
    "           \n",
    "page = requests.get( url, headers=headers )"
   ]
  },
  {
   "cell_type": "code",
   "execution_count": 91,
   "id": "d2575e61",
   "metadata": {
    "ExecuteTime": {
     "end_time": "2021-09-21T08:15:44.829102Z",
     "start_time": "2021-09-21T08:15:44.632816Z"
    }
   },
   "outputs": [],
   "source": [
    "soup = BeautifulSoup( page.text, 'html.parser' )"
   ]
  },
  {
   "cell_type": "code",
   "execution_count": 92,
   "id": "61ea52c4",
   "metadata": {
    "ExecuteTime": {
     "end_time": "2021-09-21T08:15:44.842607Z",
     "start_time": "2021-09-21T08:15:44.832826Z"
    }
   },
   "outputs": [],
   "source": [
    "products = soup.find( 'ul', class_='products-listing small' )"
   ]
  },
  {
   "cell_type": "code",
   "execution_count": 93,
   "id": "b7fdee5b",
   "metadata": {
    "ExecuteTime": {
     "end_time": "2021-09-21T08:15:45.083471Z",
     "start_time": "2021-09-21T08:15:45.063362Z"
    }
   },
   "outputs": [],
   "source": [
    "product_list = products.find_all( 'article', class_='hm-product-item')\n",
    "\n",
    "# product id\n",
    "product_id = [p.get( 'data-articlecode' ) for p in product_list]\n",
    "\n",
    "# product category\n",
    "product_category = [p.get( 'data-category' ) for p in product_list]\n",
    "\n",
    "# product name\n",
    "product_list = products.find_all( 'a', class_='link' )\n",
    "product_name = [p.get_text() for p in product_list]\n",
    "\n",
    "# price\n",
    "product_list = products.find_all( 'span', class_='price regular' )\n",
    "product_price = [p.get_text() for p in product_list]"
   ]
  },
  {
   "cell_type": "code",
   "execution_count": 94,
   "id": "91daa931",
   "metadata": {
    "ExecuteTime": {
     "end_time": "2021-09-21T08:15:45.614556Z",
     "start_time": "2021-09-21T08:15:45.597158Z"
    }
   },
   "outputs": [],
   "source": [
    "data = pd.DataFrame( [product_id, product_category, product_name,product_price] ).T\n",
    "data.columns = ['product_id', 'product_category', 'product_name','product_price']\n",
    "\n",
    "# scrapy datetime\n",
    "data['scrapy_datetime'] = datetime.now().strftime( '%Y-%m-%d %H:%M:%S' )"
   ]
  },
  {
   "cell_type": "code",
   "execution_count": 95,
   "id": "f7d794f6",
   "metadata": {
    "ExecuteTime": {
     "end_time": "2021-09-21T08:15:45.902899Z",
     "start_time": "2021-09-21T08:15:45.879841Z"
    }
   },
   "outputs": [
    {
     "data": {
      "text/plain": [
       "'88'"
      ]
     },
     "execution_count": 95,
     "metadata": {},
     "output_type": "execute_result"
    }
   ],
   "source": [
    "total_item = soup.find_all( 'h2', class_='load-more-heading' )[0].get('data-total')\n",
    "total_item"
   ]
  },
  {
   "cell_type": "code",
   "execution_count": 96,
   "id": "3556dbf7",
   "metadata": {
    "ExecuteTime": {
     "end_time": "2021-09-21T08:15:46.963945Z",
     "start_time": "2021-09-21T08:15:46.959879Z"
    }
   },
   "outputs": [
    {
     "data": {
      "text/plain": [
       "3.0"
      ]
     },
     "execution_count": 96,
     "metadata": {},
     "output_type": "execute_result"
    }
   ],
   "source": [
    "page_number = np.ceil( int( total_item ) / 36 )\n",
    "page_number"
   ]
  },
  {
   "cell_type": "code",
   "execution_count": 97,
   "id": "ceb0f355",
   "metadata": {
    "ExecuteTime": {
     "end_time": "2021-09-21T08:15:47.758091Z",
     "start_time": "2021-09-21T08:15:47.754172Z"
    }
   },
   "outputs": [
    {
     "data": {
      "text/plain": [
       "'https://www2.hm.com/en_us/men/products/jeans.html?page-size=108'"
      ]
     },
     "execution_count": 97,
     "metadata": {},
     "output_type": "execute_result"
    }
   ],
   "source": [
    "url02 = url + '?page-size=' + str( int( page_number*36 ) )\n",
    "url02"
   ]
  },
  {
   "cell_type": "markdown",
   "id": "3ff9cf01",
   "metadata": {},
   "source": [
    "## One Product"
   ]
  },
  {
   "cell_type": "code",
   "execution_count": 98,
   "id": "71ee3f1a",
   "metadata": {
    "ExecuteTime": {
     "end_time": "2021-09-21T08:15:48.932956Z",
     "start_time": "2021-09-21T08:15:48.930565Z"
    }
   },
   "outputs": [],
   "source": [
    "# # API Requests\n",
    "# url = 'https://www2.hm.com/en_us/productpage.0636207010.html'\n",
    "# headers = {'User-Agent': 'Mozilla/5.0 (Macintosh; Intel Mac OS X 10_11_5)AppleWebKit/537.36 (KHTML, like Gecko) Chrome/50.0.2661.102 Safari/537.36'}\n",
    "# page = requests.get( url, headers=headers )\n",
    "\n",
    "# # Beautiful Soup object\n",
    "# soup = BeautifulSoup( page.text, 'html.parser' )\n",
    "\n"
   ]
  },
  {
   "cell_type": "code",
   "execution_count": 99,
   "id": "29576056",
   "metadata": {
    "ExecuteTime": {
     "end_time": "2021-09-21T08:15:49.474623Z",
     "start_time": "2021-09-21T08:15:49.471752Z"
    }
   },
   "outputs": [],
   "source": [
    "# # ==================== color name =================================\n",
    "# product_list = soup.find_all( 'a', class_='filter-option miniature' )\n",
    "# color_name = [p.get( 'data-color' ) for p in product_list]\n",
    "\n",
    "# # product id\n",
    "# product_id = [p.get( 'data-articlecode' ) for p in product_list]\n",
    "# df_color = pd.DataFrame( [product_id, color_name] ).T\n",
    "# df_color.columns = ['product_id', 'color_name']\n",
    "\n",
    "# # # generate style id + color id\n",
    "# df_color['style_id'] = df_color['product_id'].apply( lambda x: x[:-3] )\n",
    "# df_color['color_id'] = df_color['product_id'].apply( lambda x: x[-3:] )\n",
    "\n",
    "# # ==================== composition =================================\n",
    "# product_composition_list = soup.find_all( 'div',class_='pdp-description-list-item' )\n",
    "# product_composition = [list( filter( None, p.get_text().split( '\\n' ) ) ) for p in product_composition_list]\n",
    "\n",
    "# # rename dataframe\n",
    "# df_composition = pd.DataFrame( product_composition ).T\n",
    "# df_composition.columns = df_composition.iloc[0]\n",
    "\n",
    "# # delete first row\n",
    "# df_composition = df_composition.iloc[1:].fillna( method='ffill' )\n",
    "\n",
    "# # generate style id + color id\n",
    "# df_composition['style_id'] = df_composition['Art. No.'].apply( lambda x: x[:-3])\n",
    "# df_composition['color_id'] = df_composition['Art. No.'].apply( lambda x: x[-3:])\n",
    "\n",
    "# # merge data color + decomposition\n",
    "# data_sku = pd.merge( df_color, df_composition[['style_id', 'Fit','Composition']], how='left', on='style_id' )"
   ]
  },
  {
   "cell_type": "markdown",
   "id": "70002dbf",
   "metadata": {},
   "source": [
    "## Multiple Products"
   ]
  },
  {
   "cell_type": "code",
   "execution_count": 100,
   "id": "d6022e52",
   "metadata": {
    "ExecuteTime": {
     "end_time": "2021-09-21T08:16:50.528185Z",
     "start_time": "2021-09-21T08:15:50.713228Z"
    }
   },
   "outputs": [],
   "source": [
    "\n",
    "# empty dataframe\n",
    "df_details = pd.DataFrame()\n",
    "\n",
    "# unique columns for all products\n",
    "aux = []\n",
    "cols = ['Art. No.', 'Composition', 'Fit', 'Product safety', 'Size']\n",
    "df_pattern = pd.DataFrame( columns=cols )\n",
    "\n",
    "for i in range( len( data ) ):\n",
    "    \n",
    "# API Requests\n",
    "        url = 'https://www2.hm.com/en_us/productpage.' + data.loc[i, 'product_id'] + '.html'\n",
    "        page = requests.get( url, headers=headers )\n",
    "\n",
    "        # Beautiful Soup object\n",
    "        soup = BeautifulSoup( page.text, 'html.parser' )\n",
    "\n",
    "        # ==================== color name =================================\n",
    "        product_list = soup.find_all( 'a', class_='filter-option miniature' )\n",
    "        color_name = [p.get( 'data-color' ) for p in product_list]\n",
    "\n",
    "        # product id\n",
    "        product_id = [p.get( 'data-articlecode' ) for p in product_list]\n",
    "        df_color = pd.DataFrame( [product_id, color_name] ).T\n",
    "        df_color.columns = ['product_id', 'color_name']\n",
    "\n",
    "        # generate style id + color id\n",
    "        df_color['style_id'] = df_color['product_id'].apply( lambda x: x[:-3] )\n",
    "        df_color['color_id'] = df_color['product_id'].apply( lambda x: x[-3:] )\n",
    "\n",
    "# ==================== composition =================================\n",
    "\n",
    "        product_composition_list = soup.find_all( 'div',class_='pdp-description-list-item' )\n",
    "        product_composition = [list( filter( None, p.get_text().split( '\\n' ) ) ) for p in product_composition_list]\n",
    "\n",
    "        # reaname dataframe\n",
    "        df_composition = pd.DataFrame( product_composition ).T\n",
    "        df_composition.columns = df_composition.iloc[0]\n",
    "\n",
    "        # delete first row\n",
    "        df_composition = df_composition.iloc[1:].fillna( method='ffill' )\n",
    "\n",
    "        # garantee the same number of columns\n",
    "        df_composition = pd.concat( [df_pattern, df_composition], axis=0 )\n",
    "\n",
    "        # generate style id + color id\n",
    "        df_composition['style_id'] = df_composition['Art. No.'].apply( lambda x: x[:-3] )\n",
    "        df_composition['color_id'] = df_composition['Art. No.'].apply( lambda x: x[-3:] )\n",
    "        aux = aux + df_composition.columns.tolist()\n",
    "\n",
    "        # merge data color + decomposition\n",
    "        data_sku = pd.merge( df_color, df_composition[['style_id', 'Fit','Composition', 'Size', 'Product safety']], how='left', on='style_id' )\n",
    "\n",
    "        # all details products\n",
    "        df_details = pd.concat( [df_details, data_sku], axis=0 )\n",
    "\n",
    "                                                                                                       \n",
    "# Join Showroom data + details\n",
    "data['style_id'] = data['product_id'].apply( lambda x: x[:-3] )\n",
    "data['color_id'] = data['product_id'].apply( lambda x: x[-3:] )\n",
    "data_raw = pd.merge( data, df_details[['style_id', 'color_name', 'Fit','Composition', 'Size', 'Product safety']], how = 'left', on='style_id')\n",
    "\n",
    "data_raw.to_csv('Datasets/data_raw_star_jeans.csv')"
   ]
  },
  {
   "cell_type": "markdown",
   "id": "8c8c0883",
   "metadata": {},
   "source": [
    "## Clear Data"
   ]
  },
  {
   "cell_type": "code",
   "execution_count": 359,
   "id": "afe843ba",
   "metadata": {
    "ExecuteTime": {
     "end_time": "2021-09-21T14:08:17.830338Z",
     "start_time": "2021-09-21T14:08:17.800542Z"
    }
   },
   "outputs": [
    {
     "data": {
      "text/html": [
       "<div>\n",
       "<style scoped>\n",
       "    .dataframe tbody tr th:only-of-type {\n",
       "        vertical-align: middle;\n",
       "    }\n",
       "\n",
       "    .dataframe tbody tr th {\n",
       "        vertical-align: top;\n",
       "    }\n",
       "\n",
       "    .dataframe thead th {\n",
       "        text-align: right;\n",
       "    }\n",
       "</style>\n",
       "<table border=\"1\" class=\"dataframe\">\n",
       "  <thead>\n",
       "    <tr style=\"text-align: right;\">\n",
       "      <th></th>\n",
       "      <th>Unnamed: 0</th>\n",
       "      <th>product_id</th>\n",
       "      <th>product_category</th>\n",
       "      <th>product_name</th>\n",
       "      <th>product_price</th>\n",
       "      <th>scrapy_datetime</th>\n",
       "      <th>style_id</th>\n",
       "      <th>color_id</th>\n",
       "      <th>color_name</th>\n",
       "      <th>Fit</th>\n",
       "      <th>Composition</th>\n",
       "      <th>Size</th>\n",
       "      <th>Product safety</th>\n",
       "    </tr>\n",
       "  </thead>\n",
       "  <tbody>\n",
       "    <tr>\n",
       "      <th>0</th>\n",
       "      <td>0</td>\n",
       "      <td>985197001</td>\n",
       "      <td>men_jeans_slim</td>\n",
       "      <td>Slim Jeans</td>\n",
       "      <td>$ 19.99</td>\n",
       "      <td>2021-09-20 20:04:08</td>\n",
       "      <td>985197</td>\n",
       "      <td>1</td>\n",
       "      <td>Midnight blue</td>\n",
       "      <td>Slim fit</td>\n",
       "      <td>Pocket lining: Cotton 100%</td>\n",
       "      <td>The model is 189cm/6'2\" and wears a size 32/32</td>\n",
       "      <td>NaN</td>\n",
       "    </tr>\n",
       "    <tr>\n",
       "      <th>1</th>\n",
       "      <td>1</td>\n",
       "      <td>985197001</td>\n",
       "      <td>men_jeans_slim</td>\n",
       "      <td>Slim Jeans</td>\n",
       "      <td>$ 19.99</td>\n",
       "      <td>2021-09-20 20:04:08</td>\n",
       "      <td>985197</td>\n",
       "      <td>1</td>\n",
       "      <td>Midnight blue</td>\n",
       "      <td>Slim fit</td>\n",
       "      <td>Shell: Cotton 98%, Elastane 2%</td>\n",
       "      <td>The model is 189cm/6'2\" and wears a size 32/32</td>\n",
       "      <td>NaN</td>\n",
       "    </tr>\n",
       "    <tr>\n",
       "      <th>2</th>\n",
       "      <td>2</td>\n",
       "      <td>985197001</td>\n",
       "      <td>men_jeans_slim</td>\n",
       "      <td>Slim Jeans</td>\n",
       "      <td>$ 19.99</td>\n",
       "      <td>2021-09-20 20:04:08</td>\n",
       "      <td>985197</td>\n",
       "      <td>1</td>\n",
       "      <td>Denim blue</td>\n",
       "      <td>Slim fit</td>\n",
       "      <td>Pocket lining: Cotton 100%</td>\n",
       "      <td>The model is 189cm/6'2\" and wears a size 32/32</td>\n",
       "      <td>NaN</td>\n",
       "    </tr>\n",
       "    <tr>\n",
       "      <th>3</th>\n",
       "      <td>3</td>\n",
       "      <td>985197001</td>\n",
       "      <td>men_jeans_slim</td>\n",
       "      <td>Slim Jeans</td>\n",
       "      <td>$ 19.99</td>\n",
       "      <td>2021-09-20 20:04:08</td>\n",
       "      <td>985197</td>\n",
       "      <td>1</td>\n",
       "      <td>Denim blue</td>\n",
       "      <td>Slim fit</td>\n",
       "      <td>Shell: Cotton 98%, Elastane 2%</td>\n",
       "      <td>The model is 189cm/6'2\" and wears a size 32/32</td>\n",
       "      <td>NaN</td>\n",
       "    </tr>\n",
       "    <tr>\n",
       "      <th>4</th>\n",
       "      <td>4</td>\n",
       "      <td>985197001</td>\n",
       "      <td>men_jeans_slim</td>\n",
       "      <td>Slim Jeans</td>\n",
       "      <td>$ 19.99</td>\n",
       "      <td>2021-09-20 20:04:08</td>\n",
       "      <td>985197</td>\n",
       "      <td>1</td>\n",
       "      <td>Dark denim blue</td>\n",
       "      <td>Slim fit</td>\n",
       "      <td>Pocket lining: Cotton 100%</td>\n",
       "      <td>The model is 189cm/6'2\" and wears a size 32/32</td>\n",
       "      <td>NaN</td>\n",
       "    </tr>\n",
       "  </tbody>\n",
       "</table>\n",
       "</div>"
      ],
      "text/plain": [
       "   Unnamed: 0  product_id product_category product_name product_price  \\\n",
       "0           0   985197001   men_jeans_slim   Slim Jeans       $ 19.99   \n",
       "1           1   985197001   men_jeans_slim   Slim Jeans       $ 19.99   \n",
       "2           2   985197001   men_jeans_slim   Slim Jeans       $ 19.99   \n",
       "3           3   985197001   men_jeans_slim   Slim Jeans       $ 19.99   \n",
       "4           4   985197001   men_jeans_slim   Slim Jeans       $ 19.99   \n",
       "\n",
       "       scrapy_datetime  style_id  color_id       color_name       Fit  \\\n",
       "0  2021-09-20 20:04:08    985197         1    Midnight blue  Slim fit   \n",
       "1  2021-09-20 20:04:08    985197         1    Midnight blue  Slim fit   \n",
       "2  2021-09-20 20:04:08    985197         1       Denim blue  Slim fit   \n",
       "3  2021-09-20 20:04:08    985197         1       Denim blue  Slim fit   \n",
       "4  2021-09-20 20:04:08    985197         1  Dark denim blue  Slim fit   \n",
       "\n",
       "                      Composition  \\\n",
       "0      Pocket lining: Cotton 100%   \n",
       "1  Shell: Cotton 98%, Elastane 2%   \n",
       "2      Pocket lining: Cotton 100%   \n",
       "3  Shell: Cotton 98%, Elastane 2%   \n",
       "4      Pocket lining: Cotton 100%   \n",
       "\n",
       "                                             Size Product safety  \n",
       "0  The model is 189cm/6'2\" and wears a size 32/32            NaN  \n",
       "1  The model is 189cm/6'2\" and wears a size 32/32            NaN  \n",
       "2  The model is 189cm/6'2\" and wears a size 32/32            NaN  \n",
       "3  The model is 189cm/6'2\" and wears a size 32/32            NaN  \n",
       "4  The model is 189cm/6'2\" and wears a size 32/32            NaN  "
      ]
     },
     "execution_count": 359,
     "metadata": {},
     "output_type": "execute_result"
    }
   ],
   "source": [
    "data = pd.read_csv('Datasets/data_raw_star_jeans.csv')\n",
    "data.head()"
   ]
  },
  {
   "cell_type": "code",
   "execution_count": 360,
   "id": "ebc90e7d",
   "metadata": {
    "ExecuteTime": {
     "end_time": "2021-09-21T14:08:30.170323Z",
     "start_time": "2021-09-21T14:08:30.105808Z"
    }
   },
   "outputs": [],
   "source": [
    "\n",
    "\n",
    "# product id\n",
    "data = data.dropna( subset=['product_id'] )\n",
    "data['product_id'] = data['product_id'].astype( int )\n",
    "\n",
    "# product name\n",
    "data['product_name'] = data['product_name'].apply( lambda x: x.replace( ' ','_' ).lower() )\n",
    "\n",
    "# product price\n",
    "data['product_price'] = data['product_price'].apply( lambda x: x.replace( '$ ','' ) ).astype( float )\n",
    "\n",
    "# scrapy datetime\n",
    "data['scrapy_datetime'] = pd.to_datetime( data['scrapy_datetime'],format='%Y-%m-%d %H:%M:%S' )\n",
    "\n",
    "# style id\n",
    "data['style_id'] = data['style_id'].astype( int )\n",
    "\n",
    "# color id\n",
    "data['color_id'] = data['color_id'].astype( int )\n",
    "\n",
    "# color name\n",
    "data['color_name'] = data['color_name'].apply( lambda x: x.replace( ' ', '_' ).replace( '/', '_' ).lower() \n",
    "                                              if pd.notnull( x ) else x )\n",
    "\n",
    "# fit\n",
    "data['Fit'] = data['Fit'].apply( lambda x: x.replace( ' ', '_' ).lower() if pd.notnull( x ) else x )\n",
    "\n",
    "# size number\n",
    "data['size_number'] = data['Size'].apply( lambda x: re.search( '\\d{3}cm', x ).group(0)\n",
    "                                         if pd.notnull( x ) else x )\n",
    "\n",
    "data['size_number'] = data['Size'].apply( lambda x: re.search( '\\d+', x ).group(0) if pd.notnull( x ) else x )\n",
    "\n",
    "# size model\n",
    "data['size_model'] = data['Size'].str.extract( '(\\d+/\\\\d+)' )\n",
    "data = data.drop( columns=['Size', 'Product safety'], axis=1 )\n",
    "\n",
    "# composition\n",
    "### drop Pocket lining,Lining, Shell\n",
    "\n",
    "data=data[~data['Composition'].str.contains('Pocket lining:',na=False)]\n",
    "data=data[~data['Composition'].str.contains('Lining:',na=False)]\n",
    "data=data[~data['Composition'].str.contains('Shell:',na=False)]\n",
    "data=data[~data['Composition'].str.contains('Pocket:',na=False)]\n",
    "\n",
    "# break composition by comma\n",
    "df1=data['Composition'].str.split(',', expand=True)\n",
    "\n",
    "\n",
    "##############################Creating a collumn for each matterials#####################################\n",
    "\n",
    "# cotton/polyester/Elastano/Elasterell\n",
    "\n",
    "df_ref= pd.DataFrame(index=np.arange(len(data)),columns=['cotton','polyester','elastane','elasterell'])\n",
    "\n",
    "# Coton\n",
    "df_cotton=df1[0]\n",
    "df_cotton.name = 'cotton'\n",
    "\n",
    "df_ref= pd.concat([df_ref,df_cotton],axis=1)\n",
    "df_ref=df_ref.iloc[:,~df_ref.columns.duplicated(keep='last')] # elimina e mantem a ultima coluna \n",
    "    \n",
    "# Polyester\n",
    "\n",
    "df_polyester= df1.loc[df1[1].str.contains('Polyester',na=True),1]\n",
    "df_polyester.name = 'polyester'\n",
    "\n",
    "df_ref= pd.concat([df_ref,df_polyester],axis=1)\n",
    "df_ref=df_ref.iloc[:,~df_ref.columns.duplicated(keep='last')] # elimina e mantem a ultima coluna \n",
    "\n",
    "# # Elastano\n",
    "df_elastane= df1.loc[df1[1].str.contains('Elastane',na=True),1]\n",
    "df_elastane.name = 'elastane'\n",
    "\n",
    "df_elastane1=df1[2]\n",
    "\n",
    "df_elastane=df_elastane.combine_first(df_elastane1)\n",
    "\n",
    "df_ref= pd.concat([df_ref,df_elastane],axis=1)\n",
    "df_ref=df_ref.iloc[:,~df_ref.columns.duplicated(keep='last')] # elimina e mantem a ultima coluna \n",
    "\n",
    "\n",
    "\n",
    "# Elasterell\n",
    "df_elasterell= df1.loc[df1[1].str.contains('Elasterell',na=True),1]\n",
    "df_elasterell.name = 'elasterell'\n",
    "\n",
    "df_ref= pd.concat([df_ref,df_elasterell],axis=1)\n",
    "df_ref=df_ref.iloc[:,~df_ref.columns.duplicated(keep='last')] # elimina e mantem a ultima coluna \n",
    "\n",
    "\n",
    "#Final join\n",
    "data=pd.concat([data, df_ref], axis=1)\n",
    "data['cotton']=data['cotton'].apply(lambda x: int(re.search('\\d+',x).group(0))/100 if pd.notnull(x) else x)\n",
    "data['elastane']=data['elastane'].apply(lambda x: int(re.search('\\d+',x).group(0))/100 if pd.notnull(x) else x)\n",
    "data['polyester']=data['polyester'].apply(lambda x: int(re.search('\\d+',x).group(0))/100 if pd.notnull(x) else x)\n",
    "data['elasterell']=data['elasterell'].apply(lambda x: int(re.search('\\d+',x).group(0))/100 if pd.notnull(x) else x)"
   ]
  },
  {
   "cell_type": "code",
   "execution_count": 362,
   "id": "6a8fd00e",
   "metadata": {
    "ExecuteTime": {
     "end_time": "2021-09-21T14:09:28.129903Z",
     "start_time": "2021-09-21T14:09:28.120606Z"
    }
   },
   "outputs": [
    {
     "data": {
      "text/plain": [
       "Unnamed: 0                 float64\n",
       "product_id                 float64\n",
       "product_category            object\n",
       "product_name                object\n",
       "product_price              float64\n",
       "scrapy_datetime     datetime64[ns]\n",
       "style_id                   float64\n",
       "color_id                   float64\n",
       "color_name                  object\n",
       "Fit                         object\n",
       "Composition                 object\n",
       "size_number                 object\n",
       "size_model                  object\n",
       "cotton                     float64\n",
       "polyester                  float64\n",
       "elastane                   float64\n",
       "elasterell                 float64\n",
       "dtype: object"
      ]
     },
     "execution_count": 362,
     "metadata": {},
     "output_type": "execute_result"
    }
   ],
   "source": [
    "data.dtypes"
   ]
  },
  {
   "cell_type": "code",
   "execution_count": 252,
   "id": "c63f8fbe",
   "metadata": {
    "ExecuteTime": {
     "end_time": "2021-09-21T12:27:44.802007Z",
     "start_time": "2021-09-21T12:27:44.798174Z"
    }
   },
   "outputs": [
    {
     "data": {
      "text/plain": [
       "array([None, ' Elastane 2%', ' Elastane 1%', nan], dtype=object)"
      ]
     },
     "execution_count": 252,
     "metadata": {},
     "output_type": "execute_result"
    }
   ],
   "source": [
    "df1[2].unique()"
   ]
  },
  {
   "cell_type": "code",
   "execution_count": null,
   "id": "d8197f81",
   "metadata": {},
   "outputs": [],
   "source": []
  }
 ],
 "metadata": {
  "kernelspec": {
   "display_name": "Python 3 (ipykernel)",
   "language": "python",
   "name": "python3"
  },
  "language_info": {
   "codemirror_mode": {
    "name": "ipython",
    "version": 3
   },
   "file_extension": ".py",
   "mimetype": "text/x-python",
   "name": "python",
   "nbconvert_exporter": "python",
   "pygments_lexer": "ipython3",
   "version": "3.8.0"
  },
  "latex_envs": {
   "LaTeX_envs_menu_present": true,
   "autoclose": false,
   "autocomplete": true,
   "bibliofile": "biblio.bib",
   "cite_by": "apalike",
   "current_citInitial": 1,
   "eqLabelWithNumbers": true,
   "eqNumInitial": 1,
   "hotkeys": {
    "equation": "Ctrl-E",
    "itemize": "Ctrl-I"
   },
   "labels_anchors": false,
   "latex_user_defs": false,
   "report_style_numbering": false,
   "user_envs_cfg": false
  },
  "nbTranslate": {
   "displayLangs": [
    "*"
   ],
   "hotkey": "alt-t",
   "langInMainMenu": true,
   "sourceLang": "en",
   "targetLang": "fr",
   "useGoogleTranslate": true
  },
  "toc": {
   "base_numbering": "0",
   "nav_menu": {},
   "number_sections": true,
   "sideBar": true,
   "skip_h1_title": false,
   "title_cell": "Table of Contents",
   "title_sidebar": "Contents",
   "toc_cell": false,
   "toc_position": {},
   "toc_section_display": true,
   "toc_window_display": true
  }
 },
 "nbformat": 4,
 "nbformat_minor": 5
}
