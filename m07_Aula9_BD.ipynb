{
 "cells": [
  {
   "cell_type": "markdown",
   "id": "d186074b",
   "metadata": {
    "heading_collapsed": true
   },
   "source": [
    "# Star Jeans _ Product pricing project based on competition"
   ]
  },
  {
   "cell_type": "markdown",
   "id": "7e8a47d3",
   "metadata": {
    "hidden": true
   },
   "source": [
    "## Business problem\n",
    "- What is the best selling price for pants? \n",
    "\n",
    "## Questions to be answered:\n",
    "- What is the best selling price for the pants?\n",
    "- How many types of pants and their colors for the initial product?\n",
    "- What are the raw materials needed to make the pants?\n",
    "\n",
    "## Data source\n",
    "- H&M: https://www2.hm.com/en_us/men/products/jeans.html\n",
    "- Macys: https://www.macys.com/shop/mens-clothing/mens-jeans"
   ]
  },
  {
   "cell_type": "markdown",
   "id": "976a8157",
   "metadata": {},
   "source": [
    "# Imports"
   ]
  },
  {
   "cell_type": "code",
   "execution_count": 24,
   "id": "5e549fa9",
   "metadata": {
    "ExecuteTime": {
     "end_time": "2021-09-24T12:24:55.011634Z",
     "start_time": "2021-09-24T12:24:55.009265Z"
    }
   },
   "outputs": [],
   "source": [
    "# !pip install requests\n",
    "# !pip install bs4"
   ]
  },
  {
   "cell_type": "code",
   "execution_count": 4,
   "id": "9db9828c",
   "metadata": {
    "ExecuteTime": {
     "end_time": "2021-09-24T14:29:19.736797Z",
     "start_time": "2021-09-24T14:29:18.844395Z"
    }
   },
   "outputs": [],
   "source": [
    "import requests\n",
    "import pandas as pd\n",
    "from datetime import datetime\n",
    "from bs4 import BeautifulSoup\n",
    "import numpy as np\n",
    "import re\n"
   ]
  },
  {
   "cell_type": "markdown",
   "id": "c431a826",
   "metadata": {
    "heading_collapsed": true
   },
   "source": [
    "# Loading data"
   ]
  },
  {
   "cell_type": "code",
   "execution_count": 36,
   "id": "0ec299af",
   "metadata": {
    "ExecuteTime": {
     "end_time": "2021-09-24T12:26:14.072742Z",
     "start_time": "2021-09-24T12:26:13.865193Z"
    },
    "hidden": true
   },
   "outputs": [],
   "source": [
    "url = 'https://www2.hm.com/en_us/men/products/jeans.html'\n",
    "\n",
    "headers = {'User-Agent': 'Mozilla/5.0 (Macintosh; Intel Mac OS X 10_11_5),AppleWebKit/537.36 (KHTML, like Gecko) Chrome/50.0.2661.102 Safari/537.36'}\n",
    "           \n",
    "page = requests.get( url, headers=headers )"
   ]
  },
  {
   "cell_type": "code",
   "execution_count": 37,
   "id": "d2575e61",
   "metadata": {
    "ExecuteTime": {
     "end_time": "2021-09-24T12:26:14.729792Z",
     "start_time": "2021-09-24T12:26:14.498902Z"
    },
    "hidden": true
   },
   "outputs": [],
   "source": [
    "soup = BeautifulSoup( page.text, 'html.parser' )"
   ]
  },
  {
   "cell_type": "code",
   "execution_count": 38,
   "id": "61ea52c4",
   "metadata": {
    "ExecuteTime": {
     "end_time": "2021-09-24T12:26:14.984303Z",
     "start_time": "2021-09-24T12:26:14.967954Z"
    },
    "hidden": true
   },
   "outputs": [],
   "source": [
    "products = soup.find( 'ul', class_='products-listing small' )"
   ]
  },
  {
   "cell_type": "code",
   "execution_count": 39,
   "id": "b7fdee5b",
   "metadata": {
    "ExecuteTime": {
     "end_time": "2021-09-24T12:26:15.747592Z",
     "start_time": "2021-09-24T12:26:15.734352Z"
    },
    "hidden": true
   },
   "outputs": [],
   "source": [
    "product_list = products.find_all( 'article', class_='hm-product-item')\n",
    "\n",
    "# product id\n",
    "product_id = [p.get( 'data-articlecode' ) for p in product_list]\n",
    "\n",
    "# product category\n",
    "product_category = [p.get( 'data-category' ) for p in product_list]\n",
    "\n",
    "# product name\n",
    "product_list = products.find_all( 'a', class_='link' )\n",
    "product_name = [p.get_text() for p in product_list]\n",
    "\n",
    "# price\n",
    "product_list = products.find_all( 'span', class_='price regular' )\n",
    "product_price = [p.get_text() for p in product_list]"
   ]
  },
  {
   "cell_type": "code",
   "execution_count": 40,
   "id": "91daa931",
   "metadata": {
    "ExecuteTime": {
     "end_time": "2021-09-24T12:26:16.567754Z",
     "start_time": "2021-09-24T12:26:16.562153Z"
    },
    "hidden": true
   },
   "outputs": [],
   "source": [
    "data = pd.DataFrame( [product_id, product_category, product_name,product_price] ).T\n",
    "data.columns = ['product_id', 'product_category', 'product_name','product_price']\n",
    "\n",
    "# scrapy datetime\n",
    "data['scrapy_datetime'] = datetime.now().strftime( '%Y-%m-%d %H:%M:%S' )"
   ]
  },
  {
   "cell_type": "code",
   "execution_count": 41,
   "id": "f7d794f6",
   "metadata": {
    "ExecuteTime": {
     "end_time": "2021-09-24T12:26:17.226955Z",
     "start_time": "2021-09-24T12:26:17.194490Z"
    },
    "hidden": true
   },
   "outputs": [
    {
     "data": {
      "text/plain": [
       "'85'"
      ]
     },
     "execution_count": 41,
     "metadata": {},
     "output_type": "execute_result"
    }
   ],
   "source": [
    "total_item = soup.find_all( 'h2', class_='load-more-heading' )[0].get('data-total')\n",
    "total_item"
   ]
  },
  {
   "cell_type": "code",
   "execution_count": 42,
   "id": "3556dbf7",
   "metadata": {
    "ExecuteTime": {
     "end_time": "2021-09-24T12:26:17.865978Z",
     "start_time": "2021-09-24T12:26:17.860551Z"
    },
    "hidden": true
   },
   "outputs": [
    {
     "data": {
      "text/plain": [
       "3.0"
      ]
     },
     "execution_count": 42,
     "metadata": {},
     "output_type": "execute_result"
    }
   ],
   "source": [
    "page_number = np.ceil( int( total_item ) / 36 )\n",
    "page_number"
   ]
  },
  {
   "cell_type": "code",
   "execution_count": 43,
   "id": "ceb0f355",
   "metadata": {
    "ExecuteTime": {
     "end_time": "2021-09-24T12:26:18.500757Z",
     "start_time": "2021-09-24T12:26:18.486322Z"
    },
    "hidden": true
   },
   "outputs": [
    {
     "data": {
      "text/plain": [
       "'https://www2.hm.com/en_us/men/products/jeans.html?page-size=108'"
      ]
     },
     "execution_count": 43,
     "metadata": {},
     "output_type": "execute_result"
    }
   ],
   "source": [
    "url02 = url + '?page-size=' + str( int( page_number*36 ) )\n",
    "url02"
   ]
  },
  {
   "cell_type": "code",
   "execution_count": 49,
   "id": "d6022e52",
   "metadata": {
    "ExecuteTime": {
     "end_time": "2021-09-24T12:29:40.839749Z",
     "start_time": "2021-09-24T12:29:31.920704Z"
    },
    "hidden": true
   },
   "outputs": [
    {
     "ename": "IndexError",
     "evalue": "single positional indexer is out-of-bounds",
     "output_type": "error",
     "traceback": [
      "\u001b[0;31m---------------------------------------------------------------------------\u001b[0m",
      "\u001b[0;31mIndexError\u001b[0m                                Traceback (most recent call last)",
      "\u001b[0;32m/tmp/ipykernel_6726/179337872.py\u001b[0m in \u001b[0;36m<module>\u001b[0;34m\u001b[0m\n\u001b[1;32m     36\u001b[0m         \u001b[0;31m# reaname dataframe\u001b[0m\u001b[0;34m\u001b[0m\u001b[0;34m\u001b[0m\u001b[0;34m\u001b[0m\u001b[0m\n\u001b[1;32m     37\u001b[0m         \u001b[0mdf_composition\u001b[0m \u001b[0;34m=\u001b[0m \u001b[0mpd\u001b[0m\u001b[0;34m.\u001b[0m\u001b[0mDataFrame\u001b[0m\u001b[0;34m(\u001b[0m \u001b[0mproduct_composition\u001b[0m \u001b[0;34m)\u001b[0m\u001b[0;34m.\u001b[0m\u001b[0mT\u001b[0m\u001b[0;34m\u001b[0m\u001b[0;34m\u001b[0m\u001b[0m\n\u001b[0;32m---> 38\u001b[0;31m         \u001b[0mdf_composition\u001b[0m\u001b[0;34m.\u001b[0m\u001b[0mcolumns\u001b[0m \u001b[0;34m=\u001b[0m \u001b[0mdf_composition\u001b[0m\u001b[0;34m.\u001b[0m\u001b[0miloc\u001b[0m\u001b[0;34m[\u001b[0m\u001b[0;36m0\u001b[0m\u001b[0;34m]\u001b[0m\u001b[0;34m\u001b[0m\u001b[0;34m\u001b[0m\u001b[0m\n\u001b[0m\u001b[1;32m     39\u001b[0m \u001b[0;34m\u001b[0m\u001b[0m\n\u001b[1;32m     40\u001b[0m \u001b[0;31m#         # delete first row\u001b[0m\u001b[0;34m\u001b[0m\u001b[0;34m\u001b[0m\u001b[0;34m\u001b[0m\u001b[0m\n",
      "\u001b[0;32m~/.pyenv/versions/3.8.0/envs/DsDev/lib/python3.8/site-packages/pandas/core/indexing.py\u001b[0m in \u001b[0;36m__getitem__\u001b[0;34m(self, key)\u001b[0m\n\u001b[1;32m    929\u001b[0m \u001b[0;34m\u001b[0m\u001b[0m\n\u001b[1;32m    930\u001b[0m             \u001b[0mmaybe_callable\u001b[0m \u001b[0;34m=\u001b[0m \u001b[0mcom\u001b[0m\u001b[0;34m.\u001b[0m\u001b[0mapply_if_callable\u001b[0m\u001b[0;34m(\u001b[0m\u001b[0mkey\u001b[0m\u001b[0;34m,\u001b[0m \u001b[0mself\u001b[0m\u001b[0;34m.\u001b[0m\u001b[0mobj\u001b[0m\u001b[0;34m)\u001b[0m\u001b[0;34m\u001b[0m\u001b[0;34m\u001b[0m\u001b[0m\n\u001b[0;32m--> 931\u001b[0;31m             \u001b[0;32mreturn\u001b[0m \u001b[0mself\u001b[0m\u001b[0;34m.\u001b[0m\u001b[0m_getitem_axis\u001b[0m\u001b[0;34m(\u001b[0m\u001b[0mmaybe_callable\u001b[0m\u001b[0;34m,\u001b[0m \u001b[0maxis\u001b[0m\u001b[0;34m=\u001b[0m\u001b[0maxis\u001b[0m\u001b[0;34m)\u001b[0m\u001b[0;34m\u001b[0m\u001b[0;34m\u001b[0m\u001b[0m\n\u001b[0m\u001b[1;32m    932\u001b[0m \u001b[0;34m\u001b[0m\u001b[0m\n\u001b[1;32m    933\u001b[0m     \u001b[0;32mdef\u001b[0m \u001b[0m_is_scalar_access\u001b[0m\u001b[0;34m(\u001b[0m\u001b[0mself\u001b[0m\u001b[0;34m,\u001b[0m \u001b[0mkey\u001b[0m\u001b[0;34m:\u001b[0m \u001b[0mtuple\u001b[0m\u001b[0;34m)\u001b[0m\u001b[0;34m:\u001b[0m\u001b[0;34m\u001b[0m\u001b[0;34m\u001b[0m\u001b[0m\n",
      "\u001b[0;32m~/.pyenv/versions/3.8.0/envs/DsDev/lib/python3.8/site-packages/pandas/core/indexing.py\u001b[0m in \u001b[0;36m_getitem_axis\u001b[0;34m(self, key, axis)\u001b[0m\n\u001b[1;32m   1564\u001b[0m \u001b[0;34m\u001b[0m\u001b[0m\n\u001b[1;32m   1565\u001b[0m             \u001b[0;31m# validate the location\u001b[0m\u001b[0;34m\u001b[0m\u001b[0;34m\u001b[0m\u001b[0;34m\u001b[0m\u001b[0m\n\u001b[0;32m-> 1566\u001b[0;31m             \u001b[0mself\u001b[0m\u001b[0;34m.\u001b[0m\u001b[0m_validate_integer\u001b[0m\u001b[0;34m(\u001b[0m\u001b[0mkey\u001b[0m\u001b[0;34m,\u001b[0m \u001b[0maxis\u001b[0m\u001b[0;34m)\u001b[0m\u001b[0;34m\u001b[0m\u001b[0;34m\u001b[0m\u001b[0m\n\u001b[0m\u001b[1;32m   1567\u001b[0m \u001b[0;34m\u001b[0m\u001b[0m\n\u001b[1;32m   1568\u001b[0m             \u001b[0;32mreturn\u001b[0m \u001b[0mself\u001b[0m\u001b[0;34m.\u001b[0m\u001b[0mobj\u001b[0m\u001b[0;34m.\u001b[0m\u001b[0m_ixs\u001b[0m\u001b[0;34m(\u001b[0m\u001b[0mkey\u001b[0m\u001b[0;34m,\u001b[0m \u001b[0maxis\u001b[0m\u001b[0;34m=\u001b[0m\u001b[0maxis\u001b[0m\u001b[0;34m)\u001b[0m\u001b[0;34m\u001b[0m\u001b[0;34m\u001b[0m\u001b[0m\n",
      "\u001b[0;32m~/.pyenv/versions/3.8.0/envs/DsDev/lib/python3.8/site-packages/pandas/core/indexing.py\u001b[0m in \u001b[0;36m_validate_integer\u001b[0;34m(self, key, axis)\u001b[0m\n\u001b[1;32m   1498\u001b[0m         \u001b[0mlen_axis\u001b[0m \u001b[0;34m=\u001b[0m \u001b[0mlen\u001b[0m\u001b[0;34m(\u001b[0m\u001b[0mself\u001b[0m\u001b[0;34m.\u001b[0m\u001b[0mobj\u001b[0m\u001b[0;34m.\u001b[0m\u001b[0m_get_axis\u001b[0m\u001b[0;34m(\u001b[0m\u001b[0maxis\u001b[0m\u001b[0;34m)\u001b[0m\u001b[0;34m)\u001b[0m\u001b[0;34m\u001b[0m\u001b[0;34m\u001b[0m\u001b[0m\n\u001b[1;32m   1499\u001b[0m         \u001b[0;32mif\u001b[0m \u001b[0mkey\u001b[0m \u001b[0;34m>=\u001b[0m \u001b[0mlen_axis\u001b[0m \u001b[0;32mor\u001b[0m \u001b[0mkey\u001b[0m \u001b[0;34m<\u001b[0m \u001b[0;34m-\u001b[0m\u001b[0mlen_axis\u001b[0m\u001b[0;34m:\u001b[0m\u001b[0;34m\u001b[0m\u001b[0;34m\u001b[0m\u001b[0m\n\u001b[0;32m-> 1500\u001b[0;31m             \u001b[0;32mraise\u001b[0m \u001b[0mIndexError\u001b[0m\u001b[0;34m(\u001b[0m\u001b[0;34m\"single positional indexer is out-of-bounds\"\u001b[0m\u001b[0;34m)\u001b[0m\u001b[0;34m\u001b[0m\u001b[0;34m\u001b[0m\u001b[0m\n\u001b[0m\u001b[1;32m   1501\u001b[0m \u001b[0;34m\u001b[0m\u001b[0m\n\u001b[1;32m   1502\u001b[0m     \u001b[0;31m# -------------------------------------------------------------------\u001b[0m\u001b[0;34m\u001b[0m\u001b[0;34m\u001b[0m\u001b[0;34m\u001b[0m\u001b[0m\n",
      "\u001b[0;31mIndexError\u001b[0m: single positional indexer is out-of-bounds"
     ]
    }
   ],
   "source": [
    "\n",
    "# empty dataframe\n",
    "df_details = pd.DataFrame()\n",
    "\n",
    "# unique columns for all products\n",
    "aux = []\n",
    "cols = ['Art. No.', 'Composition', 'Fit', 'Product safety', 'Size']\n",
    "df_pattern = pd.DataFrame( columns=cols )\n",
    "\n",
    "for i in range( len( data ) ):\n",
    "    \n",
    "# API Requests\n",
    "        url = 'https://www2.hm.com/en_us/productpage.' + data.loc[i, 'product_id'] + '.html'\n",
    "        page = requests.get( url, headers=headers )\n",
    "\n",
    "        # Beautiful Soup object\n",
    "        soup = BeautifulSoup( page.text, 'html.parser' )\n",
    "\n",
    "        # ==================== color name =================================\n",
    "        product_list = soup.find_all( 'a', class_='filter-option miniature' )\n",
    "        color_name = [p.get( 'data-color' ) for p in product_list]\n",
    "\n",
    "        # product id\n",
    "        product_id = [p.get( 'data-articlecode' ) for p in product_list]\n",
    "        df_color = pd.DataFrame( [product_id, color_name] ).T\n",
    "        df_color.columns = ['product_id', 'color_name']\n",
    "\n",
    "        # generate style id + color id\n",
    "        df_color['style_id'] = df_color['product_id'].apply( lambda x: x[:-3] )\n",
    "        df_color['color_id'] = df_color['product_id'].apply( lambda x: x[-3:] )\n",
    "\n",
    "# ==================== composition =================================\n",
    "\n",
    "        product_composition_list = soup.find_all( 'div',class_='pdp-description-list-item' )\n",
    "        product_composition = [list( filter( None, p.get_text().split( '\\n' ) ) ) for p in product_composition_list]\n",
    "\n",
    "        # reaname dataframe\n",
    "        df_composition = pd.DataFrame( product_composition ).T\n",
    "        df_composition.columns = df_composition.iloc[0]\n",
    "\n",
    "        # delete first row\n",
    "        df_composition = df_composition.iloc[1:].fillna( method='ffill' )\n",
    "\n",
    "        # garantee the same number of columns\n",
    "        df_composition = pd.concat( [df_pattern, df_composition], axis=0 )\n",
    "\n",
    "        # generate style id + color id\n",
    "        df_composition['style_id'] = df_composition['Art. No.'].apply( lambda x: x[:-3] )\n",
    "        df_composition['color_id'] = df_composition['Art. No.'].apply( lambda x: x[-3:] )\n",
    "        aux = aux + df_composition.columns.tolist()\n",
    "\n",
    "        # merge data color + decomposition\n",
    "        data_sku = pd.merge( df_color, df_composition[['style_id', 'Fit','Composition', 'Size', 'Product safety']], how='left', on='style_id' )\n",
    "\n",
    "        # all details products\n",
    "        df_details = pd.concat( [df_details, data_sku], axis=0 )\n",
    "\n",
    "                                                                                                       \n",
    "# Join Showroom data + details\n",
    "data['style_id'] = data['product_id'].apply( lambda x: x[:-3] )\n",
    "data['color_id'] = data['product_id'].apply( lambda x: x[-3:] )\n",
    "data_raw = pd.merge( data, df_details[['style_id', 'color_name', 'Fit','Composition', 'Size', 'Product safety']], how = 'left', on='style_id')\n",
    "\n",
    "data_raw.to_csv('Datasets/data_raw_star_jeans.csv', index=False)"
   ]
  },
  {
   "cell_type": "markdown",
   "id": "8c8c0883",
   "metadata": {
    "heading_collapsed": true
   },
   "source": [
    "# Clear Data"
   ]
  },
  {
   "cell_type": "code",
   "execution_count": 50,
   "id": "ebc90e7d",
   "metadata": {
    "ExecuteTime": {
     "end_time": "2021-09-24T12:29:58.251443Z",
     "start_time": "2021-09-24T12:29:58.142137Z"
    },
    "hidden": true
   },
   "outputs": [
    {
     "data": {
      "text/html": [
       "<div>\n",
       "<style scoped>\n",
       "    .dataframe tbody tr th:only-of-type {\n",
       "        vertical-align: middle;\n",
       "    }\n",
       "\n",
       "    .dataframe tbody tr th {\n",
       "        vertical-align: top;\n",
       "    }\n",
       "\n",
       "    .dataframe thead th {\n",
       "        text-align: right;\n",
       "    }\n",
       "</style>\n",
       "<table border=\"1\" class=\"dataframe\">\n",
       "  <thead>\n",
       "    <tr style=\"text-align: right;\">\n",
       "      <th></th>\n",
       "      <th>product_id</th>\n",
       "      <th>product_category</th>\n",
       "      <th>product_name</th>\n",
       "      <th>product_price</th>\n",
       "      <th>scrapy_datetime</th>\n",
       "      <th>style_id</th>\n",
       "      <th>color_id</th>\n",
       "      <th>color_name</th>\n",
       "      <th>Fit</th>\n",
       "      <th>size_number</th>\n",
       "      <th>size_model</th>\n",
       "      <th>cotton</th>\n",
       "      <th>polyester</th>\n",
       "      <th>elastane</th>\n",
       "      <th>elasterell</th>\n",
       "    </tr>\n",
       "  </thead>\n",
       "  <tbody>\n",
       "    <tr>\n",
       "      <th>0</th>\n",
       "      <td>690449022</td>\n",
       "      <td>men_jeans_ripped</td>\n",
       "      <td>skinny_jeans</td>\n",
       "      <td>39.99</td>\n",
       "      <td>2021-09-23 15:38:15</td>\n",
       "      <td>690449</td>\n",
       "      <td>22</td>\n",
       "      <td>light_denim_blue_trashed</td>\n",
       "      <td>skinny_fit</td>\n",
       "      <td>187</td>\n",
       "      <td>32/32</td>\n",
       "      <td>0.98</td>\n",
       "      <td>0.00</td>\n",
       "      <td>0.02</td>\n",
       "      <td>0.00</td>\n",
       "    </tr>\n",
       "    <tr>\n",
       "      <th>1</th>\n",
       "      <td>690449022</td>\n",
       "      <td>men_jeans_ripped</td>\n",
       "      <td>skinny_jeans</td>\n",
       "      <td>39.99</td>\n",
       "      <td>2021-09-23 15:38:15</td>\n",
       "      <td>690449</td>\n",
       "      <td>22</td>\n",
       "      <td>denim_blue</td>\n",
       "      <td>skinny_fit</td>\n",
       "      <td>187</td>\n",
       "      <td>32/32</td>\n",
       "      <td>0.98</td>\n",
       "      <td>0.00</td>\n",
       "      <td>0.02</td>\n",
       "      <td>0.00</td>\n",
       "    </tr>\n",
       "    <tr>\n",
       "      <th>2</th>\n",
       "      <td>690449022</td>\n",
       "      <td>men_jeans_ripped</td>\n",
       "      <td>skinny_jeans</td>\n",
       "      <td>39.99</td>\n",
       "      <td>2021-09-23 15:38:15</td>\n",
       "      <td>690449</td>\n",
       "      <td>22</td>\n",
       "      <td>light_denim_blue</td>\n",
       "      <td>skinny_fit</td>\n",
       "      <td>187</td>\n",
       "      <td>32/32</td>\n",
       "      <td>0.98</td>\n",
       "      <td>0.00</td>\n",
       "      <td>0.02</td>\n",
       "      <td>0.00</td>\n",
       "    </tr>\n",
       "    <tr>\n",
       "      <th>3</th>\n",
       "      <td>690449022</td>\n",
       "      <td>men_jeans_ripped</td>\n",
       "      <td>skinny_jeans</td>\n",
       "      <td>39.99</td>\n",
       "      <td>2021-09-23 15:38:15</td>\n",
       "      <td>690449</td>\n",
       "      <td>22</td>\n",
       "      <td>black_washed_out</td>\n",
       "      <td>skinny_fit</td>\n",
       "      <td>187</td>\n",
       "      <td>32/32</td>\n",
       "      <td>0.98</td>\n",
       "      <td>0.00</td>\n",
       "      <td>0.02</td>\n",
       "      <td>0.00</td>\n",
       "    </tr>\n",
       "    <tr>\n",
       "      <th>4</th>\n",
       "      <td>690449022</td>\n",
       "      <td>men_jeans_ripped</td>\n",
       "      <td>skinny_jeans</td>\n",
       "      <td>39.99</td>\n",
       "      <td>2021-09-23 15:38:15</td>\n",
       "      <td>690449</td>\n",
       "      <td>22</td>\n",
       "      <td>white</td>\n",
       "      <td>skinny_fit</td>\n",
       "      <td>187</td>\n",
       "      <td>32/32</td>\n",
       "      <td>0.98</td>\n",
       "      <td>0.00</td>\n",
       "      <td>0.02</td>\n",
       "      <td>0.00</td>\n",
       "    </tr>\n",
       "    <tr>\n",
       "      <th>...</th>\n",
       "      <td>...</td>\n",
       "      <td>...</td>\n",
       "      <td>...</td>\n",
       "      <td>...</td>\n",
       "      <td>...</td>\n",
       "      <td>...</td>\n",
       "      <td>...</td>\n",
       "      <td>...</td>\n",
       "      <td>...</td>\n",
       "      <td>...</td>\n",
       "      <td>...</td>\n",
       "      <td>...</td>\n",
       "      <td>...</td>\n",
       "      <td>...</td>\n",
       "      <td>...</td>\n",
       "    </tr>\n",
       "    <tr>\n",
       "      <th>110</th>\n",
       "      <td>1004476002</td>\n",
       "      <td>men_jeans_slim</td>\n",
       "      <td>freefit®_slim_jeans</td>\n",
       "      <td>49.99</td>\n",
       "      <td>2021-09-23 15:38:15</td>\n",
       "      <td>1004476</td>\n",
       "      <td>2</td>\n",
       "      <td>dark_denim_blue</td>\n",
       "      <td>slim_fit</td>\n",
       "      <td>NaN</td>\n",
       "      <td>NaN</td>\n",
       "      <td>0.90</td>\n",
       "      <td>0.00</td>\n",
       "      <td>0.02</td>\n",
       "      <td>0.08</td>\n",
       "    </tr>\n",
       "    <tr>\n",
       "      <th>111</th>\n",
       "      <td>1004476002</td>\n",
       "      <td>men_jeans_slim</td>\n",
       "      <td>freefit®_slim_jeans</td>\n",
       "      <td>49.99</td>\n",
       "      <td>2021-09-23 15:38:15</td>\n",
       "      <td>1004476</td>\n",
       "      <td>2</td>\n",
       "      <td>black_no_fade_black</td>\n",
       "      <td>slim_fit</td>\n",
       "      <td>NaN</td>\n",
       "      <td>NaN</td>\n",
       "      <td>0.90</td>\n",
       "      <td>0.00</td>\n",
       "      <td>0.02</td>\n",
       "      <td>0.08</td>\n",
       "    </tr>\n",
       "    <tr>\n",
       "      <th>112</th>\n",
       "      <td>1013317004</td>\n",
       "      <td>men_jeans_regular</td>\n",
       "      <td>hybrid_regular_tapered_joggers</td>\n",
       "      <td>39.99</td>\n",
       "      <td>2021-09-23 15:38:15</td>\n",
       "      <td>1013317</td>\n",
       "      <td>4</td>\n",
       "      <td>black</td>\n",
       "      <td>regular_fit</td>\n",
       "      <td>189</td>\n",
       "      <td>NaN</td>\n",
       "      <td>0.78</td>\n",
       "      <td>0.21</td>\n",
       "      <td>0.01</td>\n",
       "      <td>0.00</td>\n",
       "    </tr>\n",
       "    <tr>\n",
       "      <th>113</th>\n",
       "      <td>1013317004</td>\n",
       "      <td>men_jeans_regular</td>\n",
       "      <td>hybrid_regular_tapered_joggers</td>\n",
       "      <td>39.99</td>\n",
       "      <td>2021-09-23 15:38:15</td>\n",
       "      <td>1013317</td>\n",
       "      <td>4</td>\n",
       "      <td>light_denim_blue</td>\n",
       "      <td>regular_fit</td>\n",
       "      <td>NaN</td>\n",
       "      <td>NaN</td>\n",
       "      <td>0.78</td>\n",
       "      <td>0.21</td>\n",
       "      <td>0.01</td>\n",
       "      <td>0.00</td>\n",
       "    </tr>\n",
       "    <tr>\n",
       "      <th>114</th>\n",
       "      <td>1013317004</td>\n",
       "      <td>men_jeans_regular</td>\n",
       "      <td>hybrid_regular_tapered_joggers</td>\n",
       "      <td>39.99</td>\n",
       "      <td>2021-09-23 15:38:15</td>\n",
       "      <td>1013317</td>\n",
       "      <td>4</td>\n",
       "      <td>denim_blue</td>\n",
       "      <td>regular_fit</td>\n",
       "      <td>NaN</td>\n",
       "      <td>NaN</td>\n",
       "      <td>0.78</td>\n",
       "      <td>0.21</td>\n",
       "      <td>0.01</td>\n",
       "      <td>0.00</td>\n",
       "    </tr>\n",
       "  </tbody>\n",
       "</table>\n",
       "<p>115 rows × 15 columns</p>\n",
       "</div>"
      ],
      "text/plain": [
       "     product_id   product_category                    product_name  \\\n",
       "0     690449022   men_jeans_ripped                    skinny_jeans   \n",
       "1     690449022   men_jeans_ripped                    skinny_jeans   \n",
       "2     690449022   men_jeans_ripped                    skinny_jeans   \n",
       "3     690449022   men_jeans_ripped                    skinny_jeans   \n",
       "4     690449022   men_jeans_ripped                    skinny_jeans   \n",
       "..          ...                ...                             ...   \n",
       "110  1004476002     men_jeans_slim             freefit®_slim_jeans   \n",
       "111  1004476002     men_jeans_slim             freefit®_slim_jeans   \n",
       "112  1013317004  men_jeans_regular  hybrid_regular_tapered_joggers   \n",
       "113  1013317004  men_jeans_regular  hybrid_regular_tapered_joggers   \n",
       "114  1013317004  men_jeans_regular  hybrid_regular_tapered_joggers   \n",
       "\n",
       "     product_price     scrapy_datetime  style_id  color_id  \\\n",
       "0            39.99 2021-09-23 15:38:15    690449        22   \n",
       "1            39.99 2021-09-23 15:38:15    690449        22   \n",
       "2            39.99 2021-09-23 15:38:15    690449        22   \n",
       "3            39.99 2021-09-23 15:38:15    690449        22   \n",
       "4            39.99 2021-09-23 15:38:15    690449        22   \n",
       "..             ...                 ...       ...       ...   \n",
       "110          49.99 2021-09-23 15:38:15   1004476         2   \n",
       "111          49.99 2021-09-23 15:38:15   1004476         2   \n",
       "112          39.99 2021-09-23 15:38:15   1013317         4   \n",
       "113          39.99 2021-09-23 15:38:15   1013317         4   \n",
       "114          39.99 2021-09-23 15:38:15   1013317         4   \n",
       "\n",
       "                   color_name          Fit size_number size_model  cotton  \\\n",
       "0    light_denim_blue_trashed   skinny_fit         187      32/32    0.98   \n",
       "1                  denim_blue   skinny_fit         187      32/32    0.98   \n",
       "2            light_denim_blue   skinny_fit         187      32/32    0.98   \n",
       "3            black_washed_out   skinny_fit         187      32/32    0.98   \n",
       "4                       white   skinny_fit         187      32/32    0.98   \n",
       "..                        ...          ...         ...        ...     ...   \n",
       "110           dark_denim_blue     slim_fit         NaN        NaN    0.90   \n",
       "111       black_no_fade_black     slim_fit         NaN        NaN    0.90   \n",
       "112                     black  regular_fit         189        NaN    0.78   \n",
       "113          light_denim_blue  regular_fit         NaN        NaN    0.78   \n",
       "114                denim_blue  regular_fit         NaN        NaN    0.78   \n",
       "\n",
       "     polyester  elastane  elasterell  \n",
       "0         0.00      0.02        0.00  \n",
       "1         0.00      0.02        0.00  \n",
       "2         0.00      0.02        0.00  \n",
       "3         0.00      0.02        0.00  \n",
       "4         0.00      0.02        0.00  \n",
       "..         ...       ...         ...  \n",
       "110       0.00      0.02        0.08  \n",
       "111       0.00      0.02        0.08  \n",
       "112       0.21      0.01        0.00  \n",
       "113       0.21      0.01        0.00  \n",
       "114       0.21      0.01        0.00  \n",
       "\n",
       "[115 rows x 15 columns]"
      ]
     },
     "execution_count": 50,
     "metadata": {},
     "output_type": "execute_result"
    }
   ],
   "source": [
    "data = pd.read_csv('Datasets/data_raw_star_jeans.csv')\n",
    "\n",
    "# product id\n",
    "data = data.dropna( subset=['product_id'] )\n",
    "data['product_id'] = data['product_id'].astype( int )\n",
    "\n",
    "# product name\n",
    "data['product_name'] = data['product_name'].apply( lambda x: x.replace( ' ','_' ).lower() )\n",
    "\n",
    "# product price\n",
    "data['product_price'] = data['product_price'].apply( lambda x: x.replace( '$ ','' ) ).astype( float )\n",
    "\n",
    "# scrapy datetime\n",
    "data['scrapy_datetime'] = pd.to_datetime( data['scrapy_datetime'],format='%Y-%m-%d %H:%M:%S' )\n",
    "\n",
    "# style id\n",
    "data['style_id'] = data['style_id'].astype( int )\n",
    "\n",
    "# color id\n",
    "data['color_id'] = data['color_id'].astype( int )\n",
    "\n",
    "# color name\n",
    "data['color_name'] = data['color_name'].apply( lambda x: x.replace( ' ', '_' ).replace( '/', '_' ).lower() \n",
    "                                              if pd.notnull( x ) else x )\n",
    "\n",
    "# fit\n",
    "data['Fit'] = data['Fit'].apply( lambda x: x.replace( ' ', '_' ).lower() if pd.notnull( x ) else x )\n",
    "\n",
    "# size number\n",
    "data['size_number'] = data['Size'].apply( lambda x: re.search( '\\d{3}cm', x ).group(0)\n",
    "                                         if pd.notnull( x ) else x )\n",
    "\n",
    "data['size_number'] = data['Size'].apply( lambda x: re.search( '\\d+', x ).group(0) if pd.notnull( x ) else x )\n",
    "\n",
    "# size model\n",
    "data['size_model'] = data['Size'].str.extract( '(\\d+/\\\\d+)' )\n",
    "\n",
    "# composition\n",
    "\n",
    "### drop Pocket lining,Lining, Shell\n",
    "\n",
    "data=data[~data['Composition'].str.contains('Pocket lining:',na=False)]\n",
    "data=data[~data['Composition'].str.contains('Lining:',na=False)]\n",
    "data=data[~data['Composition'].str.contains('Shell:',na=False)]\n",
    "data=data[~data['Composition'].str.contains('Pocket:',na=False)]\n",
    "\n",
    "# Drop duplicates\n",
    "data=data.drop_duplicates(subset=['product_id', 'product_category', 'product_name', 'product_price',\n",
    "      'scrapy_datetime', 'style_id', 'color_id', 'color_name', 'Fit'],keep='last')\n",
    "\n",
    "#Reset index\n",
    "data=data.reset_index(drop=True)\n",
    "\n",
    "\n",
    "# break composition by comma\n",
    "df1=data['Composition'].str.split(',', expand=True)\n",
    "\n",
    "\n",
    "# ##############################Creating a collumn for each matterials#####################################\n",
    "\n",
    "# cotton/polyester/Elastano/Elasterell\n",
    "\n",
    "df_ref= pd.DataFrame(index=np.arange(len(data)),columns=['cotton','polyester','elastane','elasterell'])\n",
    "\n",
    "# Cotton\n",
    "df_cotton=df1[0]\n",
    "df_cotton.name = 'cotton'\n",
    "\n",
    "df_ref= pd.concat([df_ref,df_cotton],axis=1)\n",
    "df_ref=df_ref.iloc[:,~df_ref.columns.duplicated(keep='last')] # elimina e mantem a ultima coluna \n",
    "df_ref['cotton']=df_ref['cotton'].fillna('Cotton 0%')\n",
    "    \n",
    "# Polyester\n",
    "\n",
    "df_polyester= df1.loc[df1[1].str.contains('Polyester',na=True),1]\n",
    "df_polyester.name = 'polyester'\n",
    "df_ref= pd.concat([df_ref,df_polyester],axis=1)\n",
    "df_ref=df_ref.iloc[:,~df_ref.columns.duplicated(keep='last')] # elimina e mantem a ultima coluna \n",
    "df_ref['polyester']=df_ref['polyester'].fillna('Polyester 0%')\n",
    "\n",
    "# # Elastano\n",
    "df_elastane= df1.loc[df1[1].str.contains('Elastane',na=True),1]\n",
    "df_elastane.name = 'elastane'\n",
    "\n",
    "df_elastane=df_elastane.combine_first(df1[2])\n",
    "df_ref= pd.concat([df_ref,df_elastane],axis=1)\n",
    "df_ref=df_ref.iloc[:,~df_ref.columns.duplicated(keep='last')] # elimina e mantem a ultima coluna \n",
    "df_ref['elastane']=df_ref['elastane'].fillna('Elastane 0%')\n",
    "\n",
    "\n",
    "# # Elasterell\n",
    "df_elasterell= df1.loc[df1[1].str.contains('Elasterell',na=True),1]\n",
    "df_elasterell.name = 'elasterell'\n",
    "\n",
    "df_ref= pd.concat([df_ref,df_elasterell],axis=1)\n",
    "df_ref=df_ref.iloc[:,~df_ref.columns.duplicated(keep='last')] # elimina e mantem a ultima coluna \n",
    "df_ref['elasterell']=df_ref['elasterell'].fillna('Elasterell 0%')\n",
    "\n",
    "\n",
    "# # #Final join\n",
    "data=pd.concat([data, df_ref], axis=1)\n",
    "data['cotton']=data['cotton'].apply(lambda x: int(re.search('\\d+',x).group(0))/100 if pd.notnull(x) else x)\n",
    "data['elastane']=data['elastane'].apply(lambda x: int(re.search('\\d+',x).group(0))/100 if pd.notnull(x) else x)\n",
    "data['polyester']=data['polyester'].apply(lambda x: int(re.search('\\d+',x).group(0))/100 if pd.notnull(x) else x)\n",
    "data['elasterell']=data['elasterell'].apply(lambda x: int(re.search('\\d+',x).group(0))/100 if pd.notnull(x) else x)\n",
    "\n",
    "#Drop columns\n",
    "data = data.drop( columns=['Size', 'Product safety', 'Composition'], axis=1 )\n",
    "data.drop_duplicates()"
   ]
  },
  {
   "cell_type": "code",
   "execution_count": 51,
   "id": "ec12392f",
   "metadata": {
    "ExecuteTime": {
     "end_time": "2021-09-24T12:30:02.703546Z",
     "start_time": "2021-09-24T12:30:02.696607Z"
    },
    "hidden": true
   },
   "outputs": [],
   "source": [
    "data.to_csv('Datasets/products_hm_cleaned.csv', index=False)"
   ]
  },
  {
   "cell_type": "markdown",
   "id": "99bf03d2",
   "metadata": {},
   "source": [
    "# Data Base Sqlite"
   ]
  },
  {
   "cell_type": "code",
   "execution_count": 45,
   "id": "87c4e9ca",
   "metadata": {
    "ExecuteTime": {
     "end_time": "2021-09-24T16:06:59.360033Z",
     "start_time": "2021-09-24T16:06:59.356707Z"
    }
   },
   "outputs": [],
   "source": [
    "import sqlite3 \n",
    "from sqlalchemy import create_engine"
   ]
  },
  {
   "cell_type": "code",
   "execution_count": 46,
   "id": "70aa45d8",
   "metadata": {
    "ExecuteTime": {
     "end_time": "2021-09-24T16:07:00.261430Z",
     "start_time": "2021-09-24T16:07:00.254241Z"
    }
   },
   "outputs": [],
   "source": [
    "data = pd.read_csv('Datasets/products_hm_cleaned.csv')\n"
   ]
  },
  {
   "cell_type": "code",
   "execution_count": 47,
   "id": "4895e30c",
   "metadata": {
    "ExecuteTime": {
     "end_time": "2021-09-24T16:07:00.959549Z",
     "start_time": "2021-09-24T16:07:00.945115Z"
    }
   },
   "outputs": [
    {
     "data": {
      "text/html": [
       "<div>\n",
       "<style scoped>\n",
       "    .dataframe tbody tr th:only-of-type {\n",
       "        vertical-align: middle;\n",
       "    }\n",
       "\n",
       "    .dataframe tbody tr th {\n",
       "        vertical-align: top;\n",
       "    }\n",
       "\n",
       "    .dataframe thead th {\n",
       "        text-align: right;\n",
       "    }\n",
       "</style>\n",
       "<table border=\"1\" class=\"dataframe\">\n",
       "  <thead>\n",
       "    <tr style=\"text-align: right;\">\n",
       "      <th></th>\n",
       "      <th>product_id</th>\n",
       "      <th>product_category</th>\n",
       "      <th>product_name</th>\n",
       "      <th>product_price</th>\n",
       "      <th>scrapy_datetime</th>\n",
       "      <th>style_id</th>\n",
       "      <th>color_id</th>\n",
       "      <th>color_name</th>\n",
       "      <th>Fit</th>\n",
       "      <th>size_number</th>\n",
       "      <th>size_model</th>\n",
       "      <th>cotton</th>\n",
       "      <th>polyester</th>\n",
       "      <th>elastane</th>\n",
       "      <th>elasterell</th>\n",
       "    </tr>\n",
       "  </thead>\n",
       "  <tbody>\n",
       "    <tr>\n",
       "      <th>0</th>\n",
       "      <td>690449022</td>\n",
       "      <td>men_jeans_ripped</td>\n",
       "      <td>skinny_jeans</td>\n",
       "      <td>39.99</td>\n",
       "      <td>2021-09-23 15:38:15</td>\n",
       "      <td>690449</td>\n",
       "      <td>22</td>\n",
       "      <td>light_denim_blue_trashed</td>\n",
       "      <td>skinny_fit</td>\n",
       "      <td>187.0</td>\n",
       "      <td>32/32</td>\n",
       "      <td>0.98</td>\n",
       "      <td>0.0</td>\n",
       "      <td>0.02</td>\n",
       "      <td>0.0</td>\n",
       "    </tr>\n",
       "    <tr>\n",
       "      <th>1</th>\n",
       "      <td>690449022</td>\n",
       "      <td>men_jeans_ripped</td>\n",
       "      <td>skinny_jeans</td>\n",
       "      <td>39.99</td>\n",
       "      <td>2021-09-23 15:38:15</td>\n",
       "      <td>690449</td>\n",
       "      <td>22</td>\n",
       "      <td>denim_blue</td>\n",
       "      <td>skinny_fit</td>\n",
       "      <td>187.0</td>\n",
       "      <td>32/32</td>\n",
       "      <td>0.98</td>\n",
       "      <td>0.0</td>\n",
       "      <td>0.02</td>\n",
       "      <td>0.0</td>\n",
       "    </tr>\n",
       "    <tr>\n",
       "      <th>2</th>\n",
       "      <td>690449022</td>\n",
       "      <td>men_jeans_ripped</td>\n",
       "      <td>skinny_jeans</td>\n",
       "      <td>39.99</td>\n",
       "      <td>2021-09-23 15:38:15</td>\n",
       "      <td>690449</td>\n",
       "      <td>22</td>\n",
       "      <td>light_denim_blue</td>\n",
       "      <td>skinny_fit</td>\n",
       "      <td>187.0</td>\n",
       "      <td>32/32</td>\n",
       "      <td>0.98</td>\n",
       "      <td>0.0</td>\n",
       "      <td>0.02</td>\n",
       "      <td>0.0</td>\n",
       "    </tr>\n",
       "    <tr>\n",
       "      <th>3</th>\n",
       "      <td>690449022</td>\n",
       "      <td>men_jeans_ripped</td>\n",
       "      <td>skinny_jeans</td>\n",
       "      <td>39.99</td>\n",
       "      <td>2021-09-23 15:38:15</td>\n",
       "      <td>690449</td>\n",
       "      <td>22</td>\n",
       "      <td>black_washed_out</td>\n",
       "      <td>skinny_fit</td>\n",
       "      <td>187.0</td>\n",
       "      <td>32/32</td>\n",
       "      <td>0.98</td>\n",
       "      <td>0.0</td>\n",
       "      <td>0.02</td>\n",
       "      <td>0.0</td>\n",
       "    </tr>\n",
       "    <tr>\n",
       "      <th>4</th>\n",
       "      <td>690449022</td>\n",
       "      <td>men_jeans_ripped</td>\n",
       "      <td>skinny_jeans</td>\n",
       "      <td>39.99</td>\n",
       "      <td>2021-09-23 15:38:15</td>\n",
       "      <td>690449</td>\n",
       "      <td>22</td>\n",
       "      <td>white</td>\n",
       "      <td>skinny_fit</td>\n",
       "      <td>187.0</td>\n",
       "      <td>32/32</td>\n",
       "      <td>0.98</td>\n",
       "      <td>0.0</td>\n",
       "      <td>0.02</td>\n",
       "      <td>0.0</td>\n",
       "    </tr>\n",
       "  </tbody>\n",
       "</table>\n",
       "</div>"
      ],
      "text/plain": [
       "   product_id  product_category  product_name  product_price  \\\n",
       "0   690449022  men_jeans_ripped  skinny_jeans          39.99   \n",
       "1   690449022  men_jeans_ripped  skinny_jeans          39.99   \n",
       "2   690449022  men_jeans_ripped  skinny_jeans          39.99   \n",
       "3   690449022  men_jeans_ripped  skinny_jeans          39.99   \n",
       "4   690449022  men_jeans_ripped  skinny_jeans          39.99   \n",
       "\n",
       "       scrapy_datetime  style_id  color_id                color_name  \\\n",
       "0  2021-09-23 15:38:15    690449        22  light_denim_blue_trashed   \n",
       "1  2021-09-23 15:38:15    690449        22                denim_blue   \n",
       "2  2021-09-23 15:38:15    690449        22          light_denim_blue   \n",
       "3  2021-09-23 15:38:15    690449        22          black_washed_out   \n",
       "4  2021-09-23 15:38:15    690449        22                     white   \n",
       "\n",
       "          Fit  size_number size_model  cotton  polyester  elastane  elasterell  \n",
       "0  skinny_fit        187.0      32/32    0.98        0.0      0.02         0.0  \n",
       "1  skinny_fit        187.0      32/32    0.98        0.0      0.02         0.0  \n",
       "2  skinny_fit        187.0      32/32    0.98        0.0      0.02         0.0  \n",
       "3  skinny_fit        187.0      32/32    0.98        0.0      0.02         0.0  \n",
       "4  skinny_fit        187.0      32/32    0.98        0.0      0.02         0.0  "
      ]
     },
     "execution_count": 47,
     "metadata": {},
     "output_type": "execute_result"
    }
   ],
   "source": [
    "data.head()"
   ]
  },
  {
   "cell_type": "code",
   "execution_count": 48,
   "id": "76853874",
   "metadata": {
    "ExecuteTime": {
     "end_time": "2021-09-24T16:07:03.968076Z",
     "start_time": "2021-09-24T16:07:03.965304Z"
    }
   },
   "outputs": [],
   "source": [
    "query_showroom_schema = '''\n",
    "    CREATE TABLE showroom (\n",
    "        product_id        INTEGER, \n",
    "        product_category  TEXT, \n",
    "        product_name      TEXT,\n",
    "        product_price     REAL,\n",
    "        scrapy_datetime   TEXT, \n",
    "        style_id          INTEGER, \n",
    "        color_id          TEXT, \n",
    "        color_name        TEXT, \n",
    "        Fit               TEXT,\n",
    "        size_number       REAL, \n",
    "        size_model        TEXT, \n",
    "        cotton            REAL, \n",
    "        polyester         REAL, \n",
    "        elastane          REAL,\n",
    "        elasterell        REAL\n",
    "  \n",
    "    )\n",
    "    \n",
    "'''"
   ]
  },
  {
   "cell_type": "code",
   "execution_count": 43,
   "id": "eb9f15cf",
   "metadata": {
    "ExecuteTime": {
     "end_time": "2021-09-24T16:06:42.524751Z",
     "start_time": "2021-09-24T16:06:42.400688Z"
    }
   },
   "outputs": [],
   "source": [
    "rm 'hm_db.sqlite, echo=False'"
   ]
  },
  {
   "cell_type": "code",
   "execution_count": 44,
   "id": "987542a6",
   "metadata": {
    "ExecuteTime": {
     "end_time": "2021-09-24T16:06:44.337775Z",
     "start_time": "2021-09-24T16:06:44.220883Z"
    }
   },
   "outputs": [
    {
     "name": "stdout",
     "output_type": "stream",
     "text": [
      "totale 8496\r\n",
      "drwxrwxr-x 2 alessandra alessandra    4096 set 24 14:30  \u001b[0m\u001b[01;34mDatasets\u001b[0m/\r\n",
      "-rw-rw-r-- 1 alessandra alessandra    8192 ago 26 19:41  db_olist.sqlite\r\n",
      "-rw-rw-r-- 1 alessandra alessandra     706 ago 28 17:32  defs.py\r\n",
      "-rw-rw-r-- 1 alessandra alessandra  645379 ago 26 18:46  exercicio_19.csv\r\n",
      "-rw-rw-r-- 1 alessandra alessandra    1075 ago  3 16:31  LICENSE\r\n",
      "-rw-rw-r-- 1 alessandra alessandra   30344 ago 25 11:07  m01_aula1.ipynb\r\n",
      "-rw-rw-r-- 1 alessandra alessandra   35720 ago 26 19:37  m01_Aula2.ipynb\r\n",
      "-rw-rw-r-- 1 alessandra alessandra 6852447 set 22 22:43  m01_Aula3.ipynb\r\n",
      "-rw-rw-r-- 1 alessandra alessandra  105681 set 22 23:16  m01_Aula4.ipynb\r\n",
      "-rw-rw-r-- 1 alessandra alessandra  585345 ago  4 19:08  m02_Aula2.html\r\n",
      "-rw-rw-r-- 1 alessandra alessandra   18228 set 20 10:44  m02_Aula2.ipynb\r\n",
      "-rw-rw-r-- 1 alessandra alessandra   32842 set 20 12:56  m06_Aula1_Lambda.ipynb\r\n",
      "-rw-r--r-- 1 alessandra alessandra   10428 set 20 11:35  m06_Aula4_regex_parte_I.ipynb\r\n",
      "-rw-r--r-- 1 alessandra alessandra    9514 apr 18 19:42  m06_Aula5_regex_parte_II.ipynb\r\n",
      "-rw-r--r-- 1 alessandra alessandra   12527 set 20 09:04  m06_Aula6_regex_parte_III.ipynb\r\n",
      "-rw-rw-r-- 1 alessandra alessandra   27121 set 21 16:11 'm06_Aula7_data cleaner.ipynb'\r\n",
      "-rw-rw-r-- 1 alessandra alessandra   26316 set 23 23:02  m07_Aula8_management_db.ipynb\r\n",
      "-rw-rw-r-- 1 alessandra alessandra   65648 set 24 18:06  m07_Aula9_BD.ipynb\r\n",
      "-rw-rw-r-- 1 alessandra alessandra   18282 ago 17 15:09  m08_Aula8_sql.ipynb\r\n",
      "drwxrwxr-x 2 alessandra alessandra    4096 set 24 16:34  \u001b[01;34mPDF\u001b[0m/\r\n",
      "drwxrwxr-x 2 alessandra alessandra    4096 ago 28 17:49  \u001b[01;34m__pycache__\u001b[0m/\r\n",
      "-rw-rw-r-- 1 alessandra alessandra     457 set 20 11:01  README.md\r\n",
      "-rw-rw-r-- 1 alessandra alessandra       0 ago  3 16:34  requirements.txt\r\n",
      "-rw-rw-r-- 1 alessandra alessandra  157524 set 23 15:25 \u001b[01;35m'Star jeans.png'\u001b[0m\r\n"
     ]
    }
   ],
   "source": [
    "ls -l"
   ]
  },
  {
   "cell_type": "code",
   "execution_count": 69,
   "id": "d40f6a45",
   "metadata": {
    "ExecuteTime": {
     "end_time": "2021-09-24T16:21:28.552638Z",
     "start_time": "2021-09-24T16:21:28.528743Z"
    }
   },
   "outputs": [],
   "source": [
    "#connect to data base \n",
    "\n",
    "conn = sqlite3.connect ('hm_db.sqlite')\n",
    "conn.execute(query_showroom_schema)\n",
    "conn.commit()\n",
    "conn.close()"
   ]
  },
  {
   "cell_type": "code",
   "execution_count": 70,
   "id": "d7146428",
   "metadata": {
    "ExecuteTime": {
     "end_time": "2021-09-24T16:21:29.275639Z",
     "start_time": "2021-09-24T16:21:29.269379Z"
    }
   },
   "outputs": [],
   "source": [
    "conn=create_engine('sqlite:///hm_db.sqlite',echo=False)"
   ]
  },
  {
   "cell_type": "code",
   "execution_count": 79,
   "id": "74d8e154",
   "metadata": {
    "ExecuteTime": {
     "end_time": "2021-09-24T16:26:23.913125Z",
     "start_time": "2021-09-24T16:26:23.896203Z"
    }
   },
   "outputs": [
    {
     "data": {
      "text/html": [
       "<div>\n",
       "<style scoped>\n",
       "    .dataframe tbody tr th:only-of-type {\n",
       "        vertical-align: middle;\n",
       "    }\n",
       "\n",
       "    .dataframe tbody tr th {\n",
       "        vertical-align: top;\n",
       "    }\n",
       "\n",
       "    .dataframe thead th {\n",
       "        text-align: right;\n",
       "    }\n",
       "</style>\n",
       "<table border=\"1\" class=\"dataframe\">\n",
       "  <thead>\n",
       "    <tr style=\"text-align: right;\">\n",
       "      <th></th>\n",
       "      <th>product_id</th>\n",
       "      <th>product_category</th>\n",
       "      <th>product_name</th>\n",
       "      <th>product_price</th>\n",
       "      <th>scrapy_datetime</th>\n",
       "      <th>style_id</th>\n",
       "      <th>color_id</th>\n",
       "      <th>color_name</th>\n",
       "      <th>Fit</th>\n",
       "      <th>size_number</th>\n",
       "      <th>size_model</th>\n",
       "      <th>cotton</th>\n",
       "      <th>polyester</th>\n",
       "      <th>elastane</th>\n",
       "      <th>elasterell</th>\n",
       "    </tr>\n",
       "  </thead>\n",
       "  <tbody>\n",
       "    <tr>\n",
       "      <th>0</th>\n",
       "      <td>690449022</td>\n",
       "      <td>men_jeans_ripped</td>\n",
       "      <td>skinny_jeans</td>\n",
       "      <td>39.99</td>\n",
       "      <td>2021-09-23 15:38:15</td>\n",
       "      <td>690449</td>\n",
       "      <td>22</td>\n",
       "      <td>light_denim_blue_trashed</td>\n",
       "      <td>skinny_fit</td>\n",
       "      <td>187.0</td>\n",
       "      <td>32/32</td>\n",
       "      <td>0.98</td>\n",
       "      <td>0.0</td>\n",
       "      <td>0.02</td>\n",
       "      <td>0.0</td>\n",
       "    </tr>\n",
       "    <tr>\n",
       "      <th>1</th>\n",
       "      <td>690449022</td>\n",
       "      <td>men_jeans_ripped</td>\n",
       "      <td>skinny_jeans</td>\n",
       "      <td>39.99</td>\n",
       "      <td>2021-09-23 15:38:15</td>\n",
       "      <td>690449</td>\n",
       "      <td>22</td>\n",
       "      <td>denim_blue</td>\n",
       "      <td>skinny_fit</td>\n",
       "      <td>187.0</td>\n",
       "      <td>32/32</td>\n",
       "      <td>0.98</td>\n",
       "      <td>0.0</td>\n",
       "      <td>0.02</td>\n",
       "      <td>0.0</td>\n",
       "    </tr>\n",
       "    <tr>\n",
       "      <th>2</th>\n",
       "      <td>690449022</td>\n",
       "      <td>men_jeans_ripped</td>\n",
       "      <td>skinny_jeans</td>\n",
       "      <td>39.99</td>\n",
       "      <td>2021-09-23 15:38:15</td>\n",
       "      <td>690449</td>\n",
       "      <td>22</td>\n",
       "      <td>light_denim_blue</td>\n",
       "      <td>skinny_fit</td>\n",
       "      <td>187.0</td>\n",
       "      <td>32/32</td>\n",
       "      <td>0.98</td>\n",
       "      <td>0.0</td>\n",
       "      <td>0.02</td>\n",
       "      <td>0.0</td>\n",
       "    </tr>\n",
       "    <tr>\n",
       "      <th>3</th>\n",
       "      <td>690449022</td>\n",
       "      <td>men_jeans_ripped</td>\n",
       "      <td>skinny_jeans</td>\n",
       "      <td>39.99</td>\n",
       "      <td>2021-09-23 15:38:15</td>\n",
       "      <td>690449</td>\n",
       "      <td>22</td>\n",
       "      <td>black_washed_out</td>\n",
       "      <td>skinny_fit</td>\n",
       "      <td>187.0</td>\n",
       "      <td>32/32</td>\n",
       "      <td>0.98</td>\n",
       "      <td>0.0</td>\n",
       "      <td>0.02</td>\n",
       "      <td>0.0</td>\n",
       "    </tr>\n",
       "    <tr>\n",
       "      <th>4</th>\n",
       "      <td>690449022</td>\n",
       "      <td>men_jeans_ripped</td>\n",
       "      <td>skinny_jeans</td>\n",
       "      <td>39.99</td>\n",
       "      <td>2021-09-23 15:38:15</td>\n",
       "      <td>690449</td>\n",
       "      <td>22</td>\n",
       "      <td>white</td>\n",
       "      <td>skinny_fit</td>\n",
       "      <td>187.0</td>\n",
       "      <td>32/32</td>\n",
       "      <td>0.98</td>\n",
       "      <td>0.0</td>\n",
       "      <td>0.02</td>\n",
       "      <td>0.0</td>\n",
       "    </tr>\n",
       "  </tbody>\n",
       "</table>\n",
       "</div>"
      ],
      "text/plain": [
       "   product_id  product_category  product_name  product_price  \\\n",
       "0   690449022  men_jeans_ripped  skinny_jeans          39.99   \n",
       "1   690449022  men_jeans_ripped  skinny_jeans          39.99   \n",
       "2   690449022  men_jeans_ripped  skinny_jeans          39.99   \n",
       "3   690449022  men_jeans_ripped  skinny_jeans          39.99   \n",
       "4   690449022  men_jeans_ripped  skinny_jeans          39.99   \n",
       "\n",
       "       scrapy_datetime  style_id color_id                color_name  \\\n",
       "0  2021-09-23 15:38:15    690449       22  light_denim_blue_trashed   \n",
       "1  2021-09-23 15:38:15    690449       22                denim_blue   \n",
       "2  2021-09-23 15:38:15    690449       22          light_denim_blue   \n",
       "3  2021-09-23 15:38:15    690449       22          black_washed_out   \n",
       "4  2021-09-23 15:38:15    690449       22                     white   \n",
       "\n",
       "          Fit  size_number size_model  cotton  polyester  elastane  elasterell  \n",
       "0  skinny_fit        187.0      32/32    0.98        0.0      0.02         0.0  \n",
       "1  skinny_fit        187.0      32/32    0.98        0.0      0.02         0.0  \n",
       "2  skinny_fit        187.0      32/32    0.98        0.0      0.02         0.0  \n",
       "3  skinny_fit        187.0      32/32    0.98        0.0      0.02         0.0  \n",
       "4  skinny_fit        187.0      32/32    0.98        0.0      0.02         0.0  "
      ]
     },
     "execution_count": 79,
     "metadata": {},
     "output_type": "execute_result"
    }
   ],
   "source": [
    "query = \"\"\"\n",
    "    SELECT* FROM showroom_two\n",
    "\"\"\"\n",
    "df = pd.read_sql_query( query, conn )\n",
    "df.head()"
   ]
  },
  {
   "cell_type": "code",
   "execution_count": 72,
   "id": "c7b8b714",
   "metadata": {
    "ExecuteTime": {
     "end_time": "2021-09-24T16:21:32.002600Z",
     "start_time": "2021-09-24T16:21:31.955611Z"
    }
   },
   "outputs": [],
   "source": [
    "# insert data to table\n",
    "data.to_sql( 'showroom', con=conn, if_exists='append', index=False )"
   ]
  },
  {
   "cell_type": "code",
   "execution_count": 78,
   "id": "9e19f928",
   "metadata": {
    "ExecuteTime": {
     "end_time": "2021-09-24T16:25:37.219716Z",
     "start_time": "2021-09-24T16:25:37.182902Z"
    }
   },
   "outputs": [],
   "source": [
    "# ## Command - UPDATE\n",
    "# query = \"\"\"\n",
    "\n",
    "#     UPDATE showroom\n",
    "#     SET product_category = 'jeans'\n",
    "#     WHERE product_id = 690449022\n",
    "    \n",
    "# \"\"\"\n",
    "\n",
    "# ## Command - DROP TABLE\n",
    "# query = \"\"\"\n",
    "\n",
    "#     DROP TABLE showroom\n",
    "# \"\"\"\n",
    "\n",
    "# Command - ALTER TABLE\n",
    "query = \"\"\"\n",
    "\n",
    "# ALTER TABLE showroom\n",
    "\n",
    "# RENAME TO showroom_two\n",
    "# \"\"\"\n",
    "\n",
    "# ## Command - CREATE INDEX\n",
    "\n",
    "# query = \"\"\"\n",
    "\n",
    "#     CREATE INDEX idx_product_id\n",
    "\n",
    "#     ON showroom_two ( product_id )\n",
    "# \"\"\"\n",
    "conn = sqlite3.connect( 'hm_db.sqlite' )\n",
    "cursor = conn.execute( query )\n",
    "conn.commit()"
   ]
  },
  {
   "cell_type": "code",
   "execution_count": null,
   "id": "9b749d48",
   "metadata": {},
   "outputs": [],
   "source": []
  }
 ],
 "metadata": {
  "kernelspec": {
   "display_name": "Python 3 (ipykernel)",
   "language": "python",
   "name": "python3"
  },
  "language_info": {
   "codemirror_mode": {
    "name": "ipython",
    "version": 3
   },
   "file_extension": ".py",
   "mimetype": "text/x-python",
   "name": "python",
   "nbconvert_exporter": "python",
   "pygments_lexer": "ipython3",
   "version": "3.8.0"
  },
  "latex_envs": {
   "LaTeX_envs_menu_present": true,
   "autoclose": false,
   "autocomplete": true,
   "bibliofile": "biblio.bib",
   "cite_by": "apalike",
   "current_citInitial": 1,
   "eqLabelWithNumbers": true,
   "eqNumInitial": 1,
   "hotkeys": {
    "equation": "Ctrl-E",
    "itemize": "Ctrl-I"
   },
   "labels_anchors": false,
   "latex_user_defs": false,
   "report_style_numbering": false,
   "user_envs_cfg": false
  },
  "nbTranslate": {
   "displayLangs": [
    "*"
   ],
   "hotkey": "alt-t",
   "langInMainMenu": true,
   "sourceLang": "en",
   "targetLang": "fr",
   "useGoogleTranslate": true
  },
  "toc": {
   "base_numbering": "0",
   "nav_menu": {},
   "number_sections": true,
   "sideBar": true,
   "skip_h1_title": false,
   "title_cell": "Table of Contents",
   "title_sidebar": "Contents",
   "toc_cell": false,
   "toc_position": {},
   "toc_section_display": true,
   "toc_window_display": true
  }
 },
 "nbformat": 4,
 "nbformat_minor": 5
}
