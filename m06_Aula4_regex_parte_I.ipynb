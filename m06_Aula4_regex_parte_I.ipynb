{
 "cells": [
  {
   "cell_type": "markdown",
   "id": "sublime-charleston",
   "metadata": {
    "ExecuteTime": {
     "end_time": "2021-04-17T18:19:23.892701Z",
     "start_time": "2021-04-17T18:19:23.889655Z"
    }
   },
   "source": [
    "# <font color='#002726'> Curso de Python do DS ao DEV </font>\n",
    "\n",
    "Comunidade DS - Meigarom Lopes"
   ]
  },
  {
   "cell_type": "markdown",
   "id": "stuffed-stadium",
   "metadata": {},
   "source": [
    "# <font color='#1B818D'> Modulo 06 - Python Avançado </font>"
   ]
  },
  {
   "cell_type": "markdown",
   "id": "referenced-rescue",
   "metadata": {
    "heading_collapsed": true
   },
   "source": [
    "# <font color='#F37126'> Introdução a Regex (Expressões Regulares) - Parte I </font>"
   ]
  },
  {
   "cell_type": "code",
   "execution_count": 138,
   "id": "terminal-museum",
   "metadata": {
    "ExecuteTime": {
     "end_time": "2021-04-18T16:06:20.584625Z",
     "start_time": "2021-04-18T16:06:20.581914Z"
    },
    "hidden": true
   },
   "outputs": [],
   "source": [
    "import re"
   ]
  },
  {
   "cell_type": "markdown",
   "id": "honey-juice",
   "metadata": {
    "heading_collapsed": true,
    "hidden": true,
    "hide_input": false
   },
   "source": [
    "### O que são Regular Expressions?"
   ]
  },
  {
   "cell_type": "markdown",
   "id": "pleased-hudson",
   "metadata": {
    "hidden": true
   },
   "source": [
    "- Mascaras para acomodar strings dentro de um texto"
   ]
  },
  {
   "cell_type": "code",
   "execution_count": 147,
   "id": "fantastic-country",
   "metadata": {
    "ExecuteTime": {
     "end_time": "2021-04-18T16:08:44.201248Z",
     "start_time": "2021-04-18T16:08:44.198725Z"
    },
    "hidden": true
   },
   "outputs": [],
   "source": [
    "text00 = '234.745.735-42'\n",
    "text01 = '234.745.735-420'\n",
    "\n",
    "#text00 = 'numero ponto numero ponto traço numero'\n",
    "#text00 = ' 3 numeros 1 ponto 3 numeros 1 ponto 3 numeros 1 traço 2 numero'\n",
    "\n",
    "regex = '^\\d{3}\\.\\d{3}\\.\\d{3}\\-\\d{3}$'"
   ]
  },
  {
   "cell_type": "code",
   "execution_count": 148,
   "id": "transparent-rubber",
   "metadata": {
    "ExecuteTime": {
     "end_time": "2021-04-18T16:08:44.393506Z",
     "start_time": "2021-04-18T16:08:44.389919Z"
    },
    "hidden": true
   },
   "outputs": [
    {
     "data": {
      "text/plain": [
       "True"
      ]
     },
     "execution_count": 148,
     "metadata": {},
     "output_type": "execute_result"
    }
   ],
   "source": [
    "bool( re.match( regex, text01 ) )"
   ]
  },
  {
   "cell_type": "code",
   "execution_count": null,
   "id": "structured-garbage",
   "metadata": {
    "hidden": true
   },
   "outputs": [],
   "source": []
  },
  {
   "cell_type": "code",
   "execution_count": null,
   "id": "treated-serial",
   "metadata": {
    "hidden": true
   },
   "outputs": [],
   "source": []
  },
  {
   "cell_type": "markdown",
   "id": "horizontal-colors",
   "metadata": {
    "heading_collapsed": true,
    "hidden": true,
    "hide_input": false
   },
   "source": [
    "### Máscaras do Regex?"
   ]
  },
  {
   "cell_type": "markdown",
   "id": "lyric-visibility",
   "metadata": {
    "hidden": true,
    "hide_input": false
   },
   "source": [
    "#### <font color='#F37126'> Marcadores de início e fim de linha"
   ]
  },
  {
   "cell_type": "markdown",
   "id": "rough-funeral",
   "metadata": {
    "hidden": true
   },
   "source": [
    "**^Python** - Encontra qualquer string que esteja em início de linha e contenha os caracteres \"Python\""
   ]
  },
  {
   "cell_type": "markdown",
   "id": "centered-proxy",
   "metadata": {
    "hidden": true
   },
   "source": [
    "**Python$** - Encontra qualquer string que esteja em fim de linha e contenha os caracteres \"Python\""
   ]
  },
  {
   "cell_type": "markdown",
   "id": "informational-winning",
   "metadata": {
    "hidden": true,
    "hide_input": false
   },
   "source": [
    "#### <font color='#F37126'> Marcadores de quantidade </font>"
   ]
  },
  {
   "cell_type": "markdown",
   "id": "undefined-pierce",
   "metadata": {
    "hidden": true
   },
   "source": [
    "**Pyt*** - Encontra strings com sequência de caracteres \"Py\", seguida de zero ou mais ocorrências do caracter \"t\"."
   ]
  },
  {
   "cell_type": "markdown",
   "id": "normal-nursery",
   "metadata": {
    "hidden": true
   },
   "source": [
    "**Pyt+** - Encontra strings com sequência de caracteres \"Py\", seguida de uma ou mais ocorrências do caracter \"t\"."
   ]
  },
  {
   "cell_type": "markdown",
   "id": "intended-thursday",
   "metadata": {
    "hidden": true
   },
   "source": [
    "**Pyt?** - Encontra strings com sequência de caracteres \"Py\", seguida de zero ou uma ocorrência do caracter \"t\"."
   ]
  },
  {
   "cell_type": "markdown",
   "id": "stretch-airline",
   "metadata": {
    "hidden": true
   },
   "source": [
    "**Pyt{3}** - Encontra strings com sequência de caracteres \"Py\", seguida de exatamente 3 ocorrências do caracter \"t\"."
   ]
  },
  {
   "cell_type": "markdown",
   "id": "suspended-tourism",
   "metadata": {
    "hidden": true
   },
   "source": [
    "**Pyt{2,4}** - Encontra strings com sequência de caracteres \"Py\", seguida de 2 a 4 ocorrências do caracter \"t\"."
   ]
  },
  {
   "cell_type": "markdown",
   "id": "abroad-alias",
   "metadata": {
    "hidden": true
   },
   "source": [
    "**Pyt{3,}** - Encontra strings com sequência de caracteres \"Py\", seguida de 3 ou mais ocorrências do caracter \"t\"."
   ]
  },
  {
   "cell_type": "markdown",
   "id": "certain-indicator",
   "metadata": {
    "hidden": true
   },
   "source": [
    "**Py(th)*** - Encontra strings com sequência de caracteres \"Py\", seguida de zero ou mais ocorrências da sequência \"th\""
   ]
  },
  {
   "cell_type": "markdown",
   "id": "nasty-float",
   "metadata": {
    "hidden": true,
    "hide_input": false
   },
   "source": [
    "#### <font color='#F37126'> Marcadores de alternativa ou operador OR </font>"
   ]
  },
  {
   "cell_type": "markdown",
   "id": "original-authentication",
   "metadata": {
    "hidden": true
   },
   "source": [
    "**Pyt|hon** - Encontra strings com a sequência de caracteres \"Pyt\" ou strings com a sequência de caracteres \"hon\""
   ]
  },
  {
   "cell_type": "markdown",
   "id": "incident-compound",
   "metadata": {
    "hidden": true
   },
   "source": [
    "**Py(t|h)** - Encontra strings com a sequência de caracteres \"Py\", seguida do caracter \"t\" ou caracter \"h\"."
   ]
  },
  {
   "cell_type": "markdown",
   "id": "polar-campaign",
   "metadata": {
    "hidden": true
   },
   "source": [
    "**Py(t|h|o)** - Encontra strings com a sequência de caracteres \"Py\", seguida do caracter \"t\" ou caracter \"h\" ou do caracter \"o\"."
   ]
  },
  {
   "cell_type": "markdown",
   "id": "designed-therapist",
   "metadata": {
    "hidden": true,
    "hide_input": false
   },
   "source": [
    "#### <font color='#F37126'> Marcadores de definição de conjuntos ( [] )</font>"
   ]
  },
  {
   "cell_type": "markdown",
   "id": "minimal-stockholm",
   "metadata": {
    "hidden": true
   },
   "source": [
    "**Py[tho]** - Encontra strings com a sequência de caracteres \"Py\", seguida de um caracter pertencente ao conjunto ( t, h, o )"
   ]
  },
  {
   "cell_type": "markdown",
   "id": "occupational-gibson",
   "metadata": {
    "hidden": true
   },
   "source": [
    "**Py[0-9]** - Encontra strings com a sequência de caracteres \"Py\", seguida do caracter pertencente ao conjunto de dígitos de 0 a 9."
   ]
  },
  {
   "cell_type": "markdown",
   "id": "consolidated-chick",
   "metadata": {
    "hidden": true
   },
   "source": [
    "**Py[a-z]** - Encontra strings com a sequência de caracteres \"Py\", seguida do caracter pertencente ao conjunto de caracteres alfabéticos de \"a\" a \"z\""
   ]
  },
  {
   "cell_type": "markdown",
   "id": "damaged-terrorist",
   "metadata": {
    "hidden": true,
    "hide_input": false
   },
   "source": [
    "#### <font color='#F37126'> Marcadores de classe de caracteres </font>"
   ]
  },
  {
   "cell_type": "markdown",
   "id": "close-search",
   "metadata": {
    "hidden": true
   },
   "source": [
    "**\\w** - Representa um caractere alfanumérico, incluindo ocorrências maiúsculas e minúsculas das letras e o caractere \"_\"."
   ]
  },
  {
   "cell_type": "markdown",
   "id": "lasting-medline",
   "metadata": {
    "hidden": true
   },
   "source": [
    "**\\d** - Representa um caractere numérico e equivale a definição do conjunto [0-9]"
   ]
  },
  {
   "cell_type": "markdown",
   "id": "requested-omaha",
   "metadata": {
    "hidden": true
   },
   "source": [
    "**\\s** - Representa um espaço em branco, incluindo tabulações e quebras de linha"
   ]
  },
  {
   "cell_type": "markdown",
   "id": "satisfied-economics",
   "metadata": {
    "hidden": true
   },
   "source": [
    "**.** - Este caracter é utilizado como coringa e representa qualquer caractere"
   ]
  }
 ],
 "metadata": {
  "kernelspec": {
   "display_name": "Python 3 (ipykernel)",
   "language": "python",
   "name": "python3"
  },
  "language_info": {
   "codemirror_mode": {
    "name": "ipython",
    "version": 3
   },
   "file_extension": ".py",
   "mimetype": "text/x-python",
   "name": "python",
   "nbconvert_exporter": "python",
   "pygments_lexer": "ipython3",
   "version": "3.8.0"
  },
  "latex_envs": {
   "LaTeX_envs_menu_present": true,
   "autoclose": false,
   "autocomplete": true,
   "bibliofile": "biblio.bib",
   "cite_by": "apalike",
   "current_citInitial": 1,
   "eqLabelWithNumbers": true,
   "eqNumInitial": 1,
   "hotkeys": {
    "equation": "Ctrl-E",
    "itemize": "Ctrl-I"
   },
   "labels_anchors": false,
   "latex_user_defs": false,
   "report_style_numbering": false,
   "user_envs_cfg": false
  },
  "nbTranslate": {
   "displayLangs": [
    "*"
   ],
   "hotkey": "alt-t",
   "langInMainMenu": true,
   "sourceLang": "en",
   "targetLang": "fr",
   "useGoogleTranslate": true
  },
  "toc": {
   "base_numbering": 1,
   "nav_menu": {},
   "number_sections": true,
   "sideBar": true,
   "skip_h1_title": false,
   "title_cell": "Table of Contents",
   "title_sidebar": "Contents",
   "toc_cell": false,
   "toc_position": {},
   "toc_section_display": true,
   "toc_window_display": false
  }
 },
 "nbformat": 4,
 "nbformat_minor": 5
}
