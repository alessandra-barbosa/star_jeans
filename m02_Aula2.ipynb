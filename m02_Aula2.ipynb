{
 "cells": [
  {
   "cell_type": "markdown",
   "id": "a8a28ec0",
   "metadata": {
    "deletable": false,
    "editable": false,
    "run_control": {
     "frozen": true
    }
   },
   "source": [
    "# Novas perguntas do CEO para vocês\n"
   ]
  },
  {
   "cell_type": "code",
   "execution_count": 4,
   "id": "b7f460fe",
   "metadata": {
    "ExecuteTime": {
     "end_time": "2021-08-04T22:49:52.040037Z",
     "start_time": "2021-08-04T22:49:51.701603Z"
    }
   },
   "outputs": [],
   "source": [
    "import numpy as np\n",
    "import pandas as pd"
   ]
  },
  {
   "cell_type": "code",
   "execution_count": 5,
   "id": "e57dcf6b",
   "metadata": {
    "ExecuteTime": {
     "end_time": "2021-08-04T22:49:54.971441Z",
     "start_time": "2021-08-04T22:49:54.891907Z"
    }
   },
   "outputs": [
    {
     "data": {
      "text/html": [
       "<div>\n",
       "<style scoped>\n",
       "    .dataframe tbody tr th:only-of-type {\n",
       "        vertical-align: middle;\n",
       "    }\n",
       "\n",
       "    .dataframe tbody tr th {\n",
       "        vertical-align: top;\n",
       "    }\n",
       "\n",
       "    .dataframe thead th {\n",
       "        text-align: right;\n",
       "    }\n",
       "</style>\n",
       "<table border=\"1\" class=\"dataframe\">\n",
       "  <thead>\n",
       "    <tr style=\"text-align: right;\">\n",
       "      <th></th>\n",
       "      <th>id</th>\n",
       "      <th>date</th>\n",
       "      <th>price</th>\n",
       "      <th>bedrooms</th>\n",
       "      <th>bathrooms</th>\n",
       "      <th>sqft_living</th>\n",
       "      <th>sqft_lot</th>\n",
       "      <th>floors</th>\n",
       "      <th>waterfront</th>\n",
       "      <th>view</th>\n",
       "      <th>...</th>\n",
       "      <th>grade</th>\n",
       "      <th>sqft_above</th>\n",
       "      <th>sqft_basement</th>\n",
       "      <th>yr_built</th>\n",
       "      <th>yr_renovated</th>\n",
       "      <th>zipcode</th>\n",
       "      <th>lat</th>\n",
       "      <th>long</th>\n",
       "      <th>sqft_living15</th>\n",
       "      <th>sqft_lot15</th>\n",
       "    </tr>\n",
       "  </thead>\n",
       "  <tbody>\n",
       "    <tr>\n",
       "      <th>0</th>\n",
       "      <td>7129300520</td>\n",
       "      <td>20141013T000000</td>\n",
       "      <td>221900.0</td>\n",
       "      <td>3</td>\n",
       "      <td>1.00</td>\n",
       "      <td>1180</td>\n",
       "      <td>5650</td>\n",
       "      <td>1.0</td>\n",
       "      <td>0</td>\n",
       "      <td>0</td>\n",
       "      <td>...</td>\n",
       "      <td>7</td>\n",
       "      <td>1180.0</td>\n",
       "      <td>0</td>\n",
       "      <td>1955</td>\n",
       "      <td>0</td>\n",
       "      <td>98178</td>\n",
       "      <td>47.5112</td>\n",
       "      <td>-122.257</td>\n",
       "      <td>1340</td>\n",
       "      <td>5650</td>\n",
       "    </tr>\n",
       "    <tr>\n",
       "      <th>1</th>\n",
       "      <td>6414100192</td>\n",
       "      <td>20141209T000000</td>\n",
       "      <td>538000.0</td>\n",
       "      <td>3</td>\n",
       "      <td>2.25</td>\n",
       "      <td>2570</td>\n",
       "      <td>7242</td>\n",
       "      <td>2.0</td>\n",
       "      <td>0</td>\n",
       "      <td>0</td>\n",
       "      <td>...</td>\n",
       "      <td>7</td>\n",
       "      <td>2170.0</td>\n",
       "      <td>400</td>\n",
       "      <td>1951</td>\n",
       "      <td>1991</td>\n",
       "      <td>98125</td>\n",
       "      <td>47.7210</td>\n",
       "      <td>-122.319</td>\n",
       "      <td>1690</td>\n",
       "      <td>7639</td>\n",
       "    </tr>\n",
       "    <tr>\n",
       "      <th>2</th>\n",
       "      <td>5631500400</td>\n",
       "      <td>20150225T000000</td>\n",
       "      <td>180000.0</td>\n",
       "      <td>2</td>\n",
       "      <td>1.00</td>\n",
       "      <td>770</td>\n",
       "      <td>10000</td>\n",
       "      <td>1.0</td>\n",
       "      <td>0</td>\n",
       "      <td>0</td>\n",
       "      <td>...</td>\n",
       "      <td>6</td>\n",
       "      <td>770.0</td>\n",
       "      <td>0</td>\n",
       "      <td>1933</td>\n",
       "      <td>0</td>\n",
       "      <td>98028</td>\n",
       "      <td>47.7379</td>\n",
       "      <td>-122.233</td>\n",
       "      <td>2720</td>\n",
       "      <td>8062</td>\n",
       "    </tr>\n",
       "    <tr>\n",
       "      <th>3</th>\n",
       "      <td>2487200875</td>\n",
       "      <td>20141209T000000</td>\n",
       "      <td>604000.0</td>\n",
       "      <td>4</td>\n",
       "      <td>3.00</td>\n",
       "      <td>1960</td>\n",
       "      <td>5000</td>\n",
       "      <td>1.0</td>\n",
       "      <td>0</td>\n",
       "      <td>0</td>\n",
       "      <td>...</td>\n",
       "      <td>7</td>\n",
       "      <td>1050.0</td>\n",
       "      <td>910</td>\n",
       "      <td>1965</td>\n",
       "      <td>0</td>\n",
       "      <td>98136</td>\n",
       "      <td>47.5208</td>\n",
       "      <td>-122.393</td>\n",
       "      <td>1360</td>\n",
       "      <td>5000</td>\n",
       "    </tr>\n",
       "    <tr>\n",
       "      <th>4</th>\n",
       "      <td>1954400510</td>\n",
       "      <td>20150218T000000</td>\n",
       "      <td>510000.0</td>\n",
       "      <td>3</td>\n",
       "      <td>2.00</td>\n",
       "      <td>1680</td>\n",
       "      <td>8080</td>\n",
       "      <td>1.0</td>\n",
       "      <td>0</td>\n",
       "      <td>0</td>\n",
       "      <td>...</td>\n",
       "      <td>8</td>\n",
       "      <td>1680.0</td>\n",
       "      <td>0</td>\n",
       "      <td>1987</td>\n",
       "      <td>0</td>\n",
       "      <td>98074</td>\n",
       "      <td>47.6168</td>\n",
       "      <td>-122.045</td>\n",
       "      <td>1800</td>\n",
       "      <td>7503</td>\n",
       "    </tr>\n",
       "  </tbody>\n",
       "</table>\n",
       "<p>5 rows × 21 columns</p>\n",
       "</div>"
      ],
      "text/plain": [
       "           id             date     price  bedrooms  bathrooms  sqft_living  \\\n",
       "0  7129300520  20141013T000000  221900.0         3       1.00         1180   \n",
       "1  6414100192  20141209T000000  538000.0         3       2.25         2570   \n",
       "2  5631500400  20150225T000000  180000.0         2       1.00          770   \n",
       "3  2487200875  20141209T000000  604000.0         4       3.00         1960   \n",
       "4  1954400510  20150218T000000  510000.0         3       2.00         1680   \n",
       "\n",
       "   sqft_lot  floors  waterfront  view  ...  grade  sqft_above  sqft_basement  \\\n",
       "0      5650     1.0           0     0  ...      7      1180.0              0   \n",
       "1      7242     2.0           0     0  ...      7      2170.0            400   \n",
       "2     10000     1.0           0     0  ...      6       770.0              0   \n",
       "3      5000     1.0           0     0  ...      7      1050.0            910   \n",
       "4      8080     1.0           0     0  ...      8      1680.0              0   \n",
       "\n",
       "   yr_built  yr_renovated  zipcode      lat     long  sqft_living15  \\\n",
       "0      1955             0    98178  47.5112 -122.257           1340   \n",
       "1      1951          1991    98125  47.7210 -122.319           1690   \n",
       "2      1933             0    98028  47.7379 -122.233           2720   \n",
       "3      1965             0    98136  47.5208 -122.393           1360   \n",
       "4      1987             0    98074  47.6168 -122.045           1800   \n",
       "\n",
       "   sqft_lot15  \n",
       "0        5650  \n",
       "1        7639  \n",
       "2        8062  \n",
       "3        5000  \n",
       "4        7503  \n",
       "\n",
       "[5 rows x 21 columns]"
      ]
     },
     "execution_count": 5,
     "metadata": {},
     "output_type": "execute_result"
    }
   ],
   "source": [
    "df=pd.read_csv('Datasets/kc_house_data.csv')\n",
    "df.head()"
   ]
  },
  {
   "cell_type": "code",
   "execution_count": 16,
   "id": "7950dcdf",
   "metadata": {
    "ExecuteTime": {
     "end_time": "2021-08-04T23:08:34.640535Z",
     "start_time": "2021-08-04T23:08:34.624765Z"
    }
   },
   "outputs": [
    {
     "name": "stdout",
     "output_type": "stream",
     "text": [
      "<class 'pandas.core.frame.DataFrame'>\n",
      "RangeIndex: 21613 entries, 0 to 21612\n",
      "Data columns (total 23 columns):\n",
      " #   Column          Non-Null Count  Dtype         \n",
      "---  ------          --------------  -----         \n",
      " 0   id              21613 non-null  int64         \n",
      " 1   date            21613 non-null  datetime64[ns]\n",
      " 2   price           21613 non-null  float64       \n",
      " 3   bedrooms        21613 non-null  int64         \n",
      " 4   bathrooms       21613 non-null  float64       \n",
      " 5   sqft_living     21613 non-null  int64         \n",
      " 6   sqft_lot        21613 non-null  int64         \n",
      " 7   floors          21613 non-null  float64       \n",
      " 8   waterfront      21613 non-null  int64         \n",
      " 9   view            21613 non-null  int64         \n",
      " 10  condition       21613 non-null  int64         \n",
      " 11  grade           21613 non-null  int64         \n",
      " 12  sqft_above      21611 non-null  float64       \n",
      " 13  sqft_basement   21613 non-null  int64         \n",
      " 14  yr_built        21613 non-null  int64         \n",
      " 15  yr_renovated    21613 non-null  int64         \n",
      " 16  zipcode         21613 non-null  int64         \n",
      " 17  lat             21613 non-null  float64       \n",
      " 18  long            21613 non-null  float64       \n",
      " 19  sqft_living15   21613 non-null  int64         \n",
      " 20  sqft_lot15      21613 non-null  int64         \n",
      " 21  house_age       21613 non-null  object        \n",
      " 22  condition_type  21613 non-null  object        \n",
      "dtypes: datetime64[ns](1), float64(6), int64(14), object(2)\n",
      "memory usage: 3.8+ MB\n"
     ]
    }
   ],
   "source": [
    "df.info()"
   ]
  },
  {
   "cell_type": "code",
   "execution_count": 15,
   "id": "efd4a2a9",
   "metadata": {
    "ExecuteTime": {
     "end_time": "2021-08-04T23:07:54.763080Z",
     "start_time": "2021-08-04T23:07:54.758746Z"
    }
   },
   "outputs": [
    {
     "data": {
      "text/plain": [
       "Index(['id', 'date', 'price', 'bedrooms', 'bathrooms', 'sqft_living',\n",
       "       'sqft_lot', 'floors', 'waterfront', 'view', 'condition', 'grade',\n",
       "       'sqft_above', 'sqft_basement', 'yr_built', 'yr_renovated', 'zipcode',\n",
       "       'lat', 'long', 'sqft_living15', 'sqft_lot15', 'house_age',\n",
       "       'condition_type'],\n",
       "      dtype='object')"
      ]
     },
     "execution_count": 15,
     "metadata": {},
     "output_type": "execute_result"
    }
   ],
   "source": [
    "df.columns"
   ]
  },
  {
   "cell_type": "markdown",
   "id": "31ade6ba",
   "metadata": {},
   "source": [
    "## Crie uma nova coluna chamada: “house_age”\n",
    "- Se o valor da coluna “date” for maior que 2014-01-01 => ‘new_house’\n",
    "- Se o valor da coluna “date” for menor que 2014-01-01 => ‘old_house’\n"
   ]
  },
  {
   "cell_type": "code",
   "execution_count": null,
   "id": "9e826348",
   "metadata": {
    "ExecuteTime": {
     "end_time": "2021-08-04T22:50:11.764850Z",
     "start_time": "2021-08-04T22:50:11.755129Z"
    }
   },
   "outputs": [],
   "source": [
    "df['date']=pd.to_datetime(df['date'],format='%Y-%m-%d')"
   ]
  },
  {
   "cell_type": "code",
   "execution_count": null,
   "id": "e8bdf103",
   "metadata": {
    "ExecuteTime": {
     "end_time": "2021-08-04T22:50:18.356394Z",
     "start_time": "2021-08-04T22:50:16.426031Z"
    }
   },
   "outputs": [],
   "source": [
    "df['house_age']=df['date'].apply(lambda x:'new_house'if x>pd.to_datetime('2014-01-01',format='%Y-%m-%d') else 'old_house')"
   ]
  },
  {
   "cell_type": "code",
   "execution_count": null,
   "id": "bf41074c",
   "metadata": {
    "ExecuteTime": {
     "end_time": "2021-08-04T22:50:18.364593Z",
     "start_time": "2021-08-04T22:50:18.357862Z"
    }
   },
   "outputs": [],
   "source": [
    "df['house_age']=np.where (df['date']>pd.to_datetime('2014-01-01',format='%Y-%m-%d'),'new_house', 'old_house')"
   ]
  },
  {
   "cell_type": "markdown",
   "id": "c8dc8f30",
   "metadata": {},
   "source": [
    "## Crie uma nova coluna chamada: “dormitory_type”\n",
    "- Se o valor da coluna “bedrooms” for igual à 1 => ‘studio’\n",
    "- Se o valor da coluna “bedrooms” for igual a 2 => ‘apartament’\n",
    "- Se o valor da coluna “bedrooms” for maior que 2 => ‘house’\n"
   ]
  },
  {
   "cell_type": "code",
   "execution_count": 35,
   "id": "8865d299",
   "metadata": {
    "ExecuteTime": {
     "end_time": "2021-08-04T18:27:42.954771Z",
     "start_time": "2021-08-04T18:27:42.942075Z"
    }
   },
   "outputs": [],
   "source": [
    "df['dormitory_type']=df['bedrooms'].apply(lambda x:'studio' if x== 1 else \n",
    "                                                  'apartament' if x==2 else \n",
    "                                                  'house')"
   ]
  },
  {
   "cell_type": "markdown",
   "id": "2ea2457e",
   "metadata": {},
   "source": [
    "## Crie uma nova coluna chamada: “condition_type”\n",
    "- Se o valor da coluna “condition” for menor ou igual à 2 => ‘bad’\n",
    "- Se o valor da coluna “condition” for igual à 3 ou 4 => ‘regular’\n",
    "- Se o valor da coluna “condition” for igual à 5 => ‘good’"
   ]
  },
  {
   "cell_type": "code",
   "execution_count": 13,
   "id": "87f244e9",
   "metadata": {
    "ExecuteTime": {
     "end_time": "2021-08-04T23:06:40.311575Z",
     "start_time": "2021-08-04T23:06:40.302264Z"
    }
   },
   "outputs": [],
   "source": [
    "df['condition_type']=df['condition'].apply(lambda x:'bad' if x== 2 else \n",
    "                                                  'regular' if (x==3 or x==4) else \n",
    "                                                  'good' if x==5 else \n",
    "                                          'NA') \n"
   ]
  },
  {
   "cell_type": "markdown",
   "id": "35c4ace1",
   "metadata": {},
   "source": [
    "\n",
    "## Modifique o TIPO a Coluna “condition” para STRING\n"
   ]
  },
  {
   "cell_type": "code",
   "execution_count": null,
   "id": "f149c1ee",
   "metadata": {},
   "outputs": [],
   "source": []
  },
  {
   "cell_type": "markdown",
   "id": "f75375e4",
   "metadata": {
    "ExecuteTime": {
     "end_time": "2021-08-04T22:59:43.581921Z",
     "start_time": "2021-08-04T22:59:43.579170Z"
    }
   },
   "source": [
    "## Delete as colunas: “sqft_living15” e “sqft_lot15”\n"
   ]
  },
  {
   "cell_type": "code",
   "execution_count": null,
   "id": "4df62c77",
   "metadata": {},
   "outputs": [],
   "source": []
  },
  {
   "cell_type": "markdown",
   "id": "14bc160e",
   "metadata": {
    "ExecuteTime": {
     "end_time": "2021-08-04T23:02:35.193532Z",
     "start_time": "2021-08-04T23:02:35.191074Z"
    }
   },
   "source": [
    "## Modifique o TIPO a Coluna “yr_build” para DATE\n"
   ]
  },
  {
   "cell_type": "code",
   "execution_count": null,
   "id": "baadac28",
   "metadata": {},
   "outputs": [],
   "source": []
  },
  {
   "cell_type": "code",
   "execution_count": null,
   "id": "3f606899",
   "metadata": {},
   "outputs": [],
   "source": [
    "# 7. Modifique o TIPO a Coluna “yr_renovated” para DATE\n",
    "# 8. Qual a data mais antiga de construção de um imóvel?\n",
    "# 9. Qual a data mais antiga de renovação de um imóvel?\n",
    "# 10. Quantos imóveis tem 2 andares?\n",
    "# 11. Quantos imóveis estão com a condição igual a “regular” ?\n",
    "# 12. Quantos imóveis estão com a condição igual a “bad”e possuem “vista para água” ?\n",
    "# 13. Quantos imóveis estão com a condição igual a “good” e são “new_house”?\n",
    "# # 14. Qual o valor do imóvel mais caro do tipo “studio” ?\n",
    "# 15. Quantos imóveis do tipo “apartment” foram reformados em 2015 ?\n",
    "# 16. Qual o maior número de quartos que um imóveis do tipo “house” possui ?\n",
    "# 17. Quantos imóveis “new_house” foram reformados no ano de 2014?\n",
    "# 1\n",
    "# 18. Selecione as colunas: “id”, “date”, “price”, “floors”, “zipcode” pelo método:\n",
    "# • Direto pelo nome das colunas.\n",
    "# • Pelos Índices.\n",
    "# • Pelos Índices das linhas e o nome das colunas\n",
    "# • Índices Booleanos\n",
    "# 19. Salve um arquivo .csv com somente as colunas do item 10 ao 17.\n",
    "# 20. Modifique a cor dos pontos no mapa de “pink” para “verde-escuro” -->"
   ]
  },
  {
   "cell_type": "code",
   "execution_count": null,
   "id": "2aa3ba75",
   "metadata": {},
   "outputs": [],
   "source": []
  }
 ],
 "metadata": {
  "kernelspec": {
   "display_name": "Python 3 (ipykernel)",
   "language": "python",
   "name": "python3"
  },
  "language_info": {
   "codemirror_mode": {
    "name": "ipython",
    "version": 3
   },
   "file_extension": ".py",
   "mimetype": "text/x-python",
   "name": "python",
   "nbconvert_exporter": "python",
   "pygments_lexer": "ipython3",
   "version": "3.8.0"
  },
  "nbTranslate": {
   "displayLangs": [
    "*"
   ],
   "hotkey": "alt-t",
   "langInMainMenu": true,
   "sourceLang": "en",
   "targetLang": "fr",
   "useGoogleTranslate": true
  },
  "toc": {
   "base_numbering": 1,
   "nav_menu": {},
   "number_sections": true,
   "sideBar": true,
   "skip_h1_title": false,
   "title_cell": "Table of Contents",
   "title_sidebar": "Contents",
   "toc_cell": false,
   "toc_position": {},
   "toc_section_display": true,
   "toc_window_display": true
  }
 },
 "nbformat": 4,
 "nbformat_minor": 5
}
