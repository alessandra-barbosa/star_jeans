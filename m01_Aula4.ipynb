{
 "cells": [
  {
   "cell_type": "markdown",
   "id": "a8a28ec0",
   "metadata": {
    "deletable": false,
    "editable": false,
    "run_control": {
     "frozen": true
    }
   },
   "source": [
    "# Novas perguntas do CEO para vocês\n"
   ]
  },
  {
   "cell_type": "code",
   "execution_count": 1,
   "id": "b7f460fe",
   "metadata": {
    "ExecuteTime": {
     "end_time": "2022-06-27T15:17:25.577809Z",
     "start_time": "2022-06-27T15:17:19.654736Z"
    }
   },
   "outputs": [
    {
     "ename": "ModuleNotFoundError",
     "evalue": "No module named 'plotly'",
     "output_type": "error",
     "traceback": [
      "\u001b[1;31m---------------------------------------------------------------------------\u001b[0m",
      "\u001b[1;31mModuleNotFoundError\u001b[0m                       Traceback (most recent call last)",
      "\u001b[1;32m~\\AppData\\Local\\Temp/ipykernel_8908/1578435657.py\u001b[0m in \u001b[0;36m<module>\u001b[1;34m\u001b[0m\n\u001b[0;32m      5\u001b[0m \u001b[1;32mfrom\u001b[0m \u001b[0mmatplotlib\u001b[0m \u001b[1;32mimport\u001b[0m \u001b[0mpyplot\u001b[0m \u001b[1;32mas\u001b[0m \u001b[0mplt\u001b[0m\u001b[1;33m\u001b[0m\u001b[1;33m\u001b[0m\u001b[0m\n\u001b[0;32m      6\u001b[0m \u001b[1;32mimport\u001b[0m \u001b[0mipywidgets\u001b[0m \u001b[1;32mas\u001b[0m \u001b[0mwidgets\u001b[0m\u001b[1;33m\u001b[0m\u001b[1;33m\u001b[0m\u001b[0m\n\u001b[1;32m----> 7\u001b[1;33m \u001b[1;32mimport\u001b[0m \u001b[0mplotly\u001b[0m\u001b[1;33m.\u001b[0m\u001b[0mexpress\u001b[0m \u001b[1;32mas\u001b[0m \u001b[0mpx\u001b[0m\u001b[1;33m\u001b[0m\u001b[1;33m\u001b[0m\u001b[0m\n\u001b[0m\u001b[0;32m      8\u001b[0m \u001b[1;32mfrom\u001b[0m \u001b[0mipywidgets\u001b[0m \u001b[1;32mimport\u001b[0m \u001b[0minteract\u001b[0m\u001b[1;33m,\u001b[0m \u001b[0minteractive\u001b[0m\u001b[1;33m,\u001b[0m \u001b[0mfixed\u001b[0m\u001b[1;33m,\u001b[0m \u001b[0minteract_manual\u001b[0m\u001b[1;33m\u001b[0m\u001b[1;33m\u001b[0m\u001b[0m\n\u001b[0;32m      9\u001b[0m \u001b[1;32mimport\u001b[0m \u001b[0mtime\u001b[0m\u001b[1;33m\u001b[0m\u001b[1;33m\u001b[0m\u001b[0m\n",
      "\u001b[1;31mModuleNotFoundError\u001b[0m: No module named 'plotly'"
     ]
    }
   ],
   "source": [
    "import numpy as np\n",
    "import pandas as pd\n",
    "import seaborn as sns\n",
    "from matplotlib import gridspec\n",
    "from matplotlib import pyplot as plt\n",
    "import ipywidgets as widgets\n",
    "import plotly.express as px\n",
    "from ipywidgets import interact, interactive, fixed, interact_manual\n",
    "import time\n",
    "import defs\n",
    "from multiprocessing import Pool\n",
    "from geopy.geocoders import Nominatim"
   ]
  },
  {
   "cell_type": "code",
   "execution_count": 2,
   "id": "e57dcf6b",
   "metadata": {
    "ExecuteTime": {
     "end_time": "2022-06-27T16:15:11.814229Z",
     "start_time": "2022-06-27T16:15:11.731219Z"
    }
   },
   "outputs": [],
   "source": [
    "df=pd.read_csv('Datasets/kc_house_data.csv')\n",
    "#df=pd.read_csv('Datasets/kc_house_data.csv',parse_dates=[1,14,15])"
   ]
  },
  {
   "cell_type": "code",
   "execution_count": 3,
   "id": "9b73dffc",
   "metadata": {
    "ExecuteTime": {
     "end_time": "2022-06-27T16:15:11.906751Z",
     "start_time": "2022-06-27T16:15:11.884809Z"
    }
   },
   "outputs": [],
   "source": [
    "## # Supress Scientific Notation\n",
    "\n",
    "np.set_printoptions(suppress=True)\n",
    "pd.set_option('display.float_format', '{:.2f}'.format)"
   ]
  },
  {
   "cell_type": "code",
   "execution_count": 4,
   "id": "48f06f58",
   "metadata": {
    "ExecuteTime": {
     "end_time": "2022-06-27T16:15:12.078292Z",
     "start_time": "2022-06-27T16:15:12.069352Z"
    }
   },
   "outputs": [],
   "source": [
    "# def jupyter_settings():\n",
    "#     %matplotlib inline\n",
    "#     %pylab inline\n",
    "\n",
    "#     plt.style.use( 'bmh' )\n",
    "#     plt.rcParams['figure.figsize'] = [25, 12]\n",
    "#     plt.rcParams['font.size'] = 24\n",
    "\n",
    "#     display( HTML( '<style>.container { width:100% !important; }</style>') )\n",
    "#     pd.options.display.max_columns = None\n",
    "#     pd.options.display.max_rows = None\n",
    "#     pd.set_option( 'display.expand_frame_repr', False )\n",
    "\n",
    "#     sns.set()\n",
    "\n",
    "# jupyter_settings()"
   ]
  },
  {
   "cell_type": "markdown",
   "id": "f30f23fc",
   "metadata": {
    "ExecuteTime": {
     "end_time": "2021-08-27T18:23:10.690279Z",
     "start_time": "2021-08-27T18:23:10.682837Z"
    }
   },
   "source": [
    "## Qual a média do preço de compra dos imóveis por “Nível”? - \n",
    "- Nível 0 -> Preço entre R$ 0 e R$ 321.950 \n",
    "- Nível 1 -> Preço entre R$ 321.950 e R$ 450.000 \n",
    "- Nível 2 -> Preço entre R$ 450.000 e R$ 645.000 \n",
    "- Nível 3 -> Acima de R$ 645.000\n"
   ]
  },
  {
   "cell_type": "code",
   "execution_count": 5,
   "id": "7ce1d00a",
   "metadata": {
    "ExecuteTime": {
     "end_time": "2022-06-27T16:15:12.692345Z",
     "start_time": "2022-06-27T16:15:12.648427Z"
    }
   },
   "outputs": [],
   "source": [
    "df['level']=df['price'].apply(lambda x:'level_00' if (x >=0)&(x<321950) else\n",
    "                                      '1evel_01' if (x >=321950)&(x<450000) else\n",
    "                                      '1evel_02' if (x >=45000)&(x<645000) else '1evel_03')"
   ]
  },
  {
   "cell_type": "markdown",
   "id": "0c1d88c7",
   "metadata": {},
   "source": [
    "## Qual a média do tamanho da sala de estar dos imóveis por “Size” ? \n",
    "- Size 0 -> Tamanho entre 0 e 1427 sqft \n",
    "- Size 1 -> Tamanho entre 1427 e 1910 sqft \n",
    "- Size 2 -> Tamanho entre 1910 e 2550 sqft \n",
    "- Size 3 -> Tamanho acima de 2550 sqft"
   ]
  },
  {
   "cell_type": "code",
   "execution_count": 6,
   "id": "0c1916fa",
   "metadata": {
    "ExecuteTime": {
     "end_time": "2022-06-27T16:15:13.018649Z",
     "start_time": "2022-06-27T16:15:12.994711Z"
    },
    "code_folding": [
     0
    ]
   },
   "outputs": [],
   "source": [
    "df['size']=df['sqft_living'].apply(lambda x:'s00' if (x >=0)&(x<1427) else\n",
    "                                      's01' if (x >=1427)&(x<1910) else\n",
    "                                      's02' if (x >=1910)&(x<2550) else 's03')"
   ]
  },
  {
   "cell_type": "code",
   "execution_count": 7,
   "id": "a4004260",
   "metadata": {
    "ExecuteTime": {
     "end_time": "2022-06-27T16:15:13.240056Z",
     "start_time": "2022-06-27T16:15:13.193181Z"
    }
   },
   "outputs": [
    {
     "data": {
      "text/html": [
       "<div>\n",
       "<style scoped>\n",
       "    .dataframe tbody tr th:only-of-type {\n",
       "        vertical-align: middle;\n",
       "    }\n",
       "\n",
       "    .dataframe tbody tr th {\n",
       "        vertical-align: top;\n",
       "    }\n",
       "\n",
       "    .dataframe thead th {\n",
       "        text-align: right;\n",
       "    }\n",
       "</style>\n",
       "<table border=\"1\" class=\"dataframe\">\n",
       "  <thead>\n",
       "    <tr style=\"text-align: right;\">\n",
       "      <th></th>\n",
       "      <th>size</th>\n",
       "      <th>sqft_living</th>\n",
       "    </tr>\n",
       "  </thead>\n",
       "  <tbody>\n",
       "    <tr>\n",
       "      <th>0</th>\n",
       "      <td>s00</td>\n",
       "      <td>1123.78</td>\n",
       "    </tr>\n",
       "    <tr>\n",
       "      <th>1</th>\n",
       "      <td>s01</td>\n",
       "      <td>1661.20</td>\n",
       "    </tr>\n",
       "    <tr>\n",
       "      <th>2</th>\n",
       "      <td>s02</td>\n",
       "      <td>2202.70</td>\n",
       "    </tr>\n",
       "    <tr>\n",
       "      <th>3</th>\n",
       "      <td>s03</td>\n",
       "      <td>3318.99</td>\n",
       "    </tr>\n",
       "  </tbody>\n",
       "</table>\n",
       "</div>"
      ],
      "text/plain": [
       "  size  sqft_living\n",
       "0  s00      1123.78\n",
       "1  s01      1661.20\n",
       "2  s02      2202.70\n",
       "3  s03      3318.99"
      ]
     },
     "execution_count": 7,
     "metadata": {},
     "output_type": "execute_result"
    }
   ],
   "source": [
    "df[['size','sqft_living']].groupby('size').mean().reset_index()"
   ]
  },
  {
   "cell_type": "markdown",
   "id": "83bc15e6",
   "metadata": {
    "ExecuteTime": {
     "end_time": "2021-08-27T18:48:24.927881Z",
     "start_time": "2021-08-27T18:48:24.921366Z"
    }
   },
   "source": [
    "## Adicione as seguinte informações ao conjunto de dados original: \n",
    "- Place ID: Identificação da localização \n",
    "- OSM Type: Open Street Map type \n",
    "- Country: Nome do País \n",
    "- Country Code: Código do País\n"
   ]
  },
  {
   "cell_type": "code",
   "execution_count": 8,
   "id": "fcea1292",
   "metadata": {
    "ExecuteTime": {
     "end_time": "2022-06-27T16:15:14.578916Z",
     "start_time": "2022-06-27T16:15:14.261765Z"
    }
   },
   "outputs": [],
   "source": [
    "df['query']=df[['lat','long']].apply(lambda x: str(x['lat'])+','+str(x['long']),axis=1)"
   ]
  },
  {
   "cell_type": "code",
   "execution_count": 9,
   "id": "fce82b8f",
   "metadata": {
    "ExecuteTime": {
     "end_time": "2022-06-27T16:15:15.159382Z",
     "start_time": "2022-06-27T16:15:15.117491Z"
    }
   },
   "outputs": [
    {
     "ename": "ModuleNotFoundError",
     "evalue": "No module named 'geopy'",
     "output_type": "error",
     "traceback": [
      "\u001b[1;31m---------------------------------------------------------------------------\u001b[0m",
      "\u001b[1;31mModuleNotFoundError\u001b[0m                       Traceback (most recent call last)",
      "\u001b[1;32m~\\AppData\\Local\\Temp/ipykernel_8908/231604319.py\u001b[0m in \u001b[0;36m<module>\u001b[1;34m\u001b[0m\n\u001b[1;32m----> 1\u001b[1;33m \u001b[1;32mimport\u001b[0m \u001b[0mdefs\u001b[0m\u001b[1;33m\u001b[0m\u001b[1;33m\u001b[0m\u001b[0m\n\u001b[0m\u001b[0;32m      2\u001b[0m \u001b[1;33m\u001b[0m\u001b[0m\n\u001b[0;32m      3\u001b[0m \u001b[0mdf1\u001b[0m\u001b[1;33m=\u001b[0m\u001b[0mdf\u001b[0m\u001b[1;33m[\u001b[0m\u001b[1;33m[\u001b[0m\u001b[1;34m'id'\u001b[0m\u001b[1;33m,\u001b[0m\u001b[1;34m'query'\u001b[0m\u001b[1;33m]\u001b[0m\u001b[1;33m]\u001b[0m\u001b[1;33m.\u001b[0m\u001b[0mhead\u001b[0m\u001b[1;33m(\u001b[0m\u001b[1;33m)\u001b[0m\u001b[1;33m\u001b[0m\u001b[1;33m\u001b[0m\u001b[0m\n\u001b[0;32m      4\u001b[0m \u001b[0mp\u001b[0m\u001b[1;33m=\u001b[0m\u001b[0mPool\u001b[0m\u001b[1;33m(\u001b[0m\u001b[1;36m2\u001b[0m\u001b[1;33m)\u001b[0m\u001b[1;33m\u001b[0m\u001b[1;33m\u001b[0m\u001b[0m\n\u001b[0;32m      5\u001b[0m \u001b[1;33m\u001b[0m\u001b[0m\n",
      "\u001b[1;32m~\\Repos\\star_jeans\\defs.py\u001b[0m in \u001b[0;36m<module>\u001b[1;34m\u001b[0m\n\u001b[0;32m      1\u001b[0m \u001b[1;32mimport\u001b[0m \u001b[0mtime\u001b[0m\u001b[1;33m\u001b[0m\u001b[1;33m\u001b[0m\u001b[0m\n\u001b[1;32m----> 2\u001b[1;33m \u001b[1;32mfrom\u001b[0m \u001b[0mgeopy\u001b[0m\u001b[1;33m.\u001b[0m\u001b[0mgeocoders\u001b[0m \u001b[1;32mimport\u001b[0m \u001b[0mNominatim\u001b[0m\u001b[1;33m\u001b[0m\u001b[1;33m\u001b[0m\u001b[0m\n\u001b[0m\u001b[0;32m      3\u001b[0m \u001b[1;33m\u001b[0m\u001b[0m\n\u001b[0;32m      4\u001b[0m \u001b[0mgeolocator\u001b[0m \u001b[1;33m=\u001b[0m \u001b[0mNominatim\u001b[0m\u001b[1;33m(\u001b[0m \u001b[0muser_agent\u001b[0m\u001b[1;33m=\u001b[0m\u001b[1;34m'geopiExercises'\u001b[0m \u001b[1;33m)\u001b[0m\u001b[1;33m\u001b[0m\u001b[1;33m\u001b[0m\u001b[0m\n\u001b[0;32m      5\u001b[0m \u001b[1;33m\u001b[0m\u001b[0m\n",
      "\u001b[1;31mModuleNotFoundError\u001b[0m: No module named 'geopy'"
     ]
    }
   ],
   "source": [
    "import defs\n",
    "\n",
    "df1=df[['id','query']].head()\n",
    "p=Pool(2)\n",
    "\n",
    "start=time.process_time()\n",
    "\n",
    "df1[['place_id', 'osm_type', 'country', 'country_code']] =p.map( defs.get_longlat, df1.iterrows() )\n",
    "\n",
    "end=time.process_time()\n",
    "\n",
    "print(time.process_time() - start)"
   ]
  },
  {
   "cell_type": "markdown",
   "id": "5394505e",
   "metadata": {
    "ExecuteTime": {
     "end_time": "2021-08-27T18:49:43.440244Z",
     "start_time": "2021-08-27T18:49:43.429031Z"
    }
   },
   "source": [
    "## Adicione os seguinte filtros no Mapa: \n",
    "- Tamanho mínimo da área da sala de estar. \n",
    "- Número\n",
    "mínimo de banheiros. \n",
    "- Valor Máximo do Preço. \n",
    "- Tamanho máximo da área do porão. \n",
    "-Filtro das Condições do Imóvel. \n",
    "- Filtro por Ano de Construção.\n"
   ]
  },
  {
   "cell_type": "code",
   "execution_count": 27,
   "id": "cf64765d",
   "metadata": {
    "ExecuteTime": {
     "end_time": "2021-09-22T21:08:34.777699Z",
     "start_time": "2021-09-22T21:08:34.688281Z"
    }
   },
   "outputs": [],
   "source": [
    "# Prepare data\n",
    "    \n",
    "df['is_waterfront'] = df['waterfront'].apply( lambda x: 'yes' if x == 1 else 'no' )\n",
    "\n",
    "# # define level of prices\n",
    "\n",
    "df['level']=df['price'].apply(lambda x:  0 if x<=321950 else\n",
    "                                         1 if (x>321950)&(x<=450000)else\n",
    "                                         2 if (x>450000)&(x<=645000)else 3)\n",
    "df['level'] = df['level'].astype(int)\n",
    "\n",
    "# Iteractive buttons\n",
    "\n",
    "price_limit = widgets.IntSlider(\n",
    "    value = int(df['price'].mean()),min = int(df['price'].min()),\n",
    "    max = int(df['price'].max()),step = 1,description='Maximun Price',\n",
    "    disable=False,style={'description_width': 'initial'}\n",
    "    )\n",
    "\n",
    "waterfront_bar = widgets.Dropdown(\n",
    "    options = df['is_waterfront'].unique().tolist(),\n",
    "    value = 'no',\n",
    "    description = 'Water View',\n",
    "    disable=False\n",
    "    )\n",
    "\n",
    "livingroom_limit = widgets.IntSlider(\n",
    "    value = int( df['sqft_living'].mean() ),\n",
    "    min = df['sqft_living'].min(),\n",
    "    max = df['sqft_living'].max(),\n",
    "    step = 1,\n",
    "    description='Minimum Living Room Size',\n",
    "    disable=False,\n",
    "    style={'description_width': 'initial'}\n",
    ")\n",
    "\n",
    "bathroom_limit = widgets.IntSlider(\n",
    "    value = int( df['bathrooms'].mean() ),\n",
    "    min = df['bathrooms'].min(),\n",
    "    max = df['bathrooms'].max(),\n",
    "    step = 1,\n",
    "    description='Minimum Bathroom Number',\n",
    "    disable=False,\n",
    "    style={'description_width': 'initial'}\n",
    ")\n",
    "\n",
    "basement_limit = widgets.IntSlider(\n",
    "    value = int( df['sqft_basement'].mean() ),\n",
    "    min = df['sqft_basement'].min(),\n",
    "    max = df['sqft_basement'].max(),\n",
    "    step = 1,\n",
    "    description='Minimum Basement Size',\n",
    "    disable=False,\n",
    "    style={'description_width': 'initial'}\n",
    ")\n",
    "\n",
    "condition_limit = widgets.IntSlider(\n",
    "    value = int( df['condition'].mean() ),\n",
    "    min = df['condition'].min(),\n",
    "    max = df['condition'].max(),\n",
    "    step = 1,\n",
    "    description='Minimum condition',\n",
    "    disable=False,\n",
    "    style={'description_width': 'initial'}\n",
    ")\n",
    "\n",
    "year_limit = widgets.IntSlider(\n",
    "    value = int( df['yr_built'].mean() ),\n",
    "    min = df['yr_built'].min(),\n",
    "    max = df['yr_built'].max(),\n",
    "    step = 1,\n",
    "    description='Year Built',\n",
    "    disable=False,\n",
    "    style={'description_width': 'initial'}\n",
    ")"
   ]
  },
  {
   "cell_type": "code",
   "execution_count": 28,
   "id": "136bf006",
   "metadata": {
    "ExecuteTime": {
     "end_time": "2021-09-22T21:08:35.594482Z",
     "start_time": "2021-09-22T21:08:35.576087Z"
    }
   },
   "outputs": [],
   "source": [
    "def update_map( df, waterfront, limit, livingroom_limit, bathroom_limit,basement_limit, \n",
    "               condition_limit, year_limit ):\n",
    "    houses = df[(df['price'] <= limit) &\n",
    "    (df['is_waterfront'] == waterfront) &\n",
    "    (df['sqft_living'] >= livingroom_limit) &\n",
    "    (df['bathrooms'] >= bathroom_limit) &\n",
    "    (df['sqft_basement'] >= basement_limit) &\n",
    "    (df['condition'] >= condition_limit) &\n",
    "    (df['yr_built'] >= year_limit )][['id', 'lat', 'long', 'price','level']]\n",
    "    \n",
    "#plot map\n",
    "    fig = px.scatter_mapbox( houses,\n",
    "            lat=\"lat\",\n",
    "            lon=\"long\",\n",
    "            size=\"price\",\n",
    "            color=\"level\",\n",
    "            color_continuous_scale=px.colors.cyclical.IceFire,\n",
    "            size_max=15,\n",
    "            zoom=10)\n",
    "\n",
    "    fig.update_layout(mapbox_style=\"open-street-map\")\n",
    "    fig.update_layout(height=600, margin={\"r\":0,\"t\":0,\"l\":0,\"b\":0})\n",
    "    fig.show()                    "
   ]
  },
  {
   "cell_type": "code",
   "execution_count": 29,
   "id": "8d59650f",
   "metadata": {
    "ExecuteTime": {
     "end_time": "2021-09-22T21:08:36.318244Z",
     "start_time": "2021-09-22T21:08:36.218042Z"
    }
   },
   "outputs": [
    {
     "data": {
      "application/vnd.jupyter.widget-view+json": {
       "model_id": "e2e2b17ee90746a589f636df3eaa7ceb",
       "version_major": 2,
       "version_minor": 0
      },
      "text/plain": [
       "interactive(children=(Dropdown(description='Water View', options=('no', 'yes'), value='no'), IntSlider(value=5…"
      ]
     },
     "metadata": {},
     "output_type": "display_data"
    }
   ],
   "source": [
    "widgets.interactive( update_map,\n",
    "    df=fixed( df ),\n",
    "    waterfront=waterfront_bar,\n",
    "    limit=price_limit,\n",
    "    livingroom_limit=livingroom_limit,\n",
    "    bathroom_limit=bathroom_limit,\n",
    "    basement_limit=basement_limit,\n",
    "    condition_limit=condition_limit,\n",
    "    year_limit=year_limit\n",
    ")"
   ]
  },
  {
   "cell_type": "markdown",
   "id": "7cf32734",
   "metadata": {},
   "source": [
    "## Adicione os seguinte filtros no Dashboard: \n",
    "- Filtro por data disponível para compra. \n",
    "- Filtro por ano de renovação. \n",
    "- Filtro se possui vista para a água ou não."
   ]
  },
  {
   "cell_type": "code",
   "execution_count": 40,
   "id": "4d2949f2",
   "metadata": {
    "ExecuteTime": {
     "end_time": "2021-09-22T21:15:14.894010Z",
     "start_time": "2021-09-22T21:15:14.474119Z"
    }
   },
   "outputs": [],
   "source": [
    "# Change df format\n",
    "df['year'] = pd.to_datetime( df['date'] ).dt.strftime( '%Y' )\n",
    "df['date'] = pd.to_datetime( df['date'] ).dt.strftime( '%Y-%m-%d' )\n",
    "df['year_week'] = pd.to_datetime( df['date'] ).dt.strftime( '%Y-%U' )\n",
    "\n",
    "# # ----------------------------\n",
    "# # Filtering\n",
    "# # ----------------------------\n",
    "\n",
    "# Widget to control df\n",
    "date_limit = widgets.SelectionSlider(\n",
    "options = df['date'].sort_values().unique().tolist(),\n",
    "value='2014-12-01',\n",
    "description='Max Available Date',\n",
    "disable=False,\n",
    "continuous_update=False,\n",
    "orientation='horizontal',\n",
    "style={'description_width': 'initial'},\n",
    "readout=True\n",
    ")\n",
    "# # Max Year Renovated\n",
    "year_limit = widgets.SelectionSlider(\n",
    "options = df['yr_renovated'].sort_values().sort_values().unique().tolist(),\n",
    "value=2000,\n",
    "description='Max Year',\n",
    "disable=False,\n",
    "continuous_update=False,\n",
    "orientation='horizontal',\n",
    "style={'description_width': 'initial'},\n",
    "readout=True\n",
    ")\n",
    "# # Waterfront\n",
    "waterfront_limit = widgets.Checkbox(\n",
    "value=False,\n",
    "description='Waterfront?',\n",
    "disabled=False,\n",
    "indent=False )\n",
    "    \n",
    "def update_map( df, date_limit, year_limit, waterfront_limit ):\n",
    "    # Filter df\n",
    "    df = df[(df['date'] <= date_limit) & \n",
    "            (df['yr_renovated'] >= year_limit) & \n",
    "            (df['waterfront'] == waterfront_limit)].copy()\n",
    "    \n",
    "    fig = plt.figure( figsize=(24, 12) )\n",
    "    specs = gridspec.GridSpec( ncols=2, nrows=2, figure=fig )\n",
    "    \n",
    "    ax1 = fig.add_subplot( specs[0, :] ) # First Row\n",
    "    ax2 = fig.add_subplot( specs[1, 0] ) # First Row First Column\n",
    "    ax3 = fig.add_subplot( specs[1, 1] ) # Second Row First Column\n",
    "    \n",
    "    # First Graph\n",
    "    by_year = df[['price', 'year']].groupby( 'year' ).count().reset_index()\n",
    "    sns.barplot( x = 'year', y ='price', data=by_year, ax=ax1)\n",
    "    \n",
    "#   # Second Graph\n",
    "\n",
    "    by_day = df[['price', 'date']].groupby( 'date' ).mean().reset_index()\n",
    "    sns.lineplot( x='date', y='price',data=by_day, ax=ax2)\n",
    "    ax2.set_title( \"Title: Avg Price by Day\" )\n",
    "    \n",
    "#   # Third Graph\n",
    "    \n",
    "    df['year_week'] = pd.to_datetime( df['date'] ).dt.strftime( '%Y-%U' )\n",
    "    by_week_of_year = df[['price', 'year_week']].groupby( 'year_week' ).mean().reset_index()\n",
    "    sns.barplot( x='year_week', y='price', data=by_week_of_year,ax=ax3 )\n",
    "    ax3.set_title( \"Title: Avg Price by Week of Year\" )\n",
    "    \n",
    "    plt.xticks( rotation=60);\n",
    "\n"
   ]
  },
  {
   "cell_type": "code",
   "execution_count": 41,
   "id": "dfa03864",
   "metadata": {
    "ExecuteTime": {
     "end_time": "2021-09-22T21:15:17.680779Z",
     "start_time": "2021-09-22T21:15:15.764523Z"
    }
   },
   "outputs": [
    {
     "data": {
      "application/vnd.jupyter.widget-view+json": {
       "model_id": "429e41902ce14766949e5b029b9b51af",
       "version_major": 2,
       "version_minor": 0
      },
      "text/plain": [
       "interactive(children=(SelectionSlider(continuous_update=False, description='Max Available Date', index=212, op…"
      ]
     },
     "metadata": {},
     "output_type": "display_data"
    },
    {
     "data": {
      "image/png": "[encoded data removed]",
      "text/plain": [
       "<Figure size 1728x864 with 3 Axes>"
      ]
     },
     "metadata": {
      "needs_background": "light"
     },
     "output_type": "display_data"
    }
   ],
   "source": [
    "widgets.interactive( update_map,df = fixed(df),\n",
    "date_limit=date_limit,\n",
    "year_limit=year_limit,\n",
    "waterfront_limit=waterfront_limit )"
   ]
  },
  {
   "cell_type": "code",
   "execution_count": 34,
   "id": "2af4a1b8",
   "metadata": {
    "ExecuteTime": {
     "end_time": "2022-06-27T16:33:23.534348Z",
     "start_time": "2022-06-27T16:33:23.367563Z"
    }
   },
   "outputs": [],
   "source": [
    "df['month'] = pd.to_datetime( df['date'] ).dt.strftime('%m')\n",
    "df['month']=df['month'].astype(int)"
   ]
  },
  {
   "cell_type": "code",
   "execution_count": 35,
   "id": "8c7031a6",
   "metadata": {
    "ExecuteTime": {
     "end_time": "2022-06-27T16:33:28.396527Z",
     "start_time": "2022-06-27T16:33:28.381529Z"
    }
   },
   "outputs": [],
   "source": [
    "df['season']=df['month'].apply(lambda x:'spring' if (x >=4)&(x<7) else\n",
    "                                      'summer' if (x >=7)&(x<10) else\n",
    "                                      'fall' if (x >=10)&(x<12) else 'winter')"
   ]
  },
  {
   "cell_type": "code",
   "execution_count": 38,
   "id": "a156f52e",
   "metadata": {
    "ExecuteTime": {
     "end_time": "2022-06-27T16:33:44.236546Z",
     "start_time": "2022-06-27T16:33:44.214570Z"
    }
   },
   "outputs": [
    {
     "data": {
      "text/html": [
       "<div>\n",
       "<style scoped>\n",
       "    .dataframe tbody tr th:only-of-type {\n",
       "        vertical-align: middle;\n",
       "    }\n",
       "\n",
       "    .dataframe tbody tr th {\n",
       "        vertical-align: top;\n",
       "    }\n",
       "\n",
       "    .dataframe thead th {\n",
       "        text-align: right;\n",
       "    }\n",
       "</style>\n",
       "<table border=\"1\" class=\"dataframe\">\n",
       "  <thead>\n",
       "    <tr style=\"text-align: right;\">\n",
       "      <th></th>\n",
       "      <th>id</th>\n",
       "      <th>date</th>\n",
       "      <th>price</th>\n",
       "      <th>bedrooms</th>\n",
       "      <th>bathrooms</th>\n",
       "      <th>sqft_living</th>\n",
       "      <th>sqft_lot</th>\n",
       "      <th>floors</th>\n",
       "      <th>waterfront</th>\n",
       "      <th>view</th>\n",
       "      <th>...</th>\n",
       "      <th>zipcode</th>\n",
       "      <th>lat</th>\n",
       "      <th>long</th>\n",
       "      <th>sqft_living15</th>\n",
       "      <th>sqft_lot15</th>\n",
       "      <th>level</th>\n",
       "      <th>size</th>\n",
       "      <th>query</th>\n",
       "      <th>month</th>\n",
       "      <th>season</th>\n",
       "    </tr>\n",
       "  </thead>\n",
       "  <tbody>\n",
       "    <tr>\n",
       "      <th>0</th>\n",
       "      <td>7129300520</td>\n",
       "      <td>20141013T000000</td>\n",
       "      <td>221900.00</td>\n",
       "      <td>3</td>\n",
       "      <td>1.00</td>\n",
       "      <td>1180</td>\n",
       "      <td>5650</td>\n",
       "      <td>1.00</td>\n",
       "      <td>0</td>\n",
       "      <td>0</td>\n",
       "      <td>...</td>\n",
       "      <td>98178</td>\n",
       "      <td>47.51</td>\n",
       "      <td>-122.26</td>\n",
       "      <td>1340</td>\n",
       "      <td>5650</td>\n",
       "      <td>level_00</td>\n",
       "      <td>s00</td>\n",
       "      <td>47.5112,-122.257</td>\n",
       "      <td>10</td>\n",
       "      <td>fall</td>\n",
       "    </tr>\n",
       "    <tr>\n",
       "      <th>1</th>\n",
       "      <td>6414100192</td>\n",
       "      <td>20141209T000000</td>\n",
       "      <td>538000.00</td>\n",
       "      <td>3</td>\n",
       "      <td>2.25</td>\n",
       "      <td>2570</td>\n",
       "      <td>7242</td>\n",
       "      <td>2.00</td>\n",
       "      <td>0</td>\n",
       "      <td>0</td>\n",
       "      <td>...</td>\n",
       "      <td>98125</td>\n",
       "      <td>47.72</td>\n",
       "      <td>-122.32</td>\n",
       "      <td>1690</td>\n",
       "      <td>7639</td>\n",
       "      <td>1evel_02</td>\n",
       "      <td>s03</td>\n",
       "      <td>47.721,-122.319</td>\n",
       "      <td>12</td>\n",
       "      <td>winter</td>\n",
       "    </tr>\n",
       "    <tr>\n",
       "      <th>2</th>\n",
       "      <td>5631500400</td>\n",
       "      <td>20150225T000000</td>\n",
       "      <td>180000.00</td>\n",
       "      <td>2</td>\n",
       "      <td>1.00</td>\n",
       "      <td>770</td>\n",
       "      <td>10000</td>\n",
       "      <td>1.00</td>\n",
       "      <td>0</td>\n",
       "      <td>0</td>\n",
       "      <td>...</td>\n",
       "      <td>98028</td>\n",
       "      <td>47.74</td>\n",
       "      <td>-122.23</td>\n",
       "      <td>2720</td>\n",
       "      <td>8062</td>\n",
       "      <td>level_00</td>\n",
       "      <td>s00</td>\n",
       "      <td>47.7379,-122.233</td>\n",
       "      <td>2</td>\n",
       "      <td>winter</td>\n",
       "    </tr>\n",
       "    <tr>\n",
       "      <th>3</th>\n",
       "      <td>2487200875</td>\n",
       "      <td>20141209T000000</td>\n",
       "      <td>604000.00</td>\n",
       "      <td>4</td>\n",
       "      <td>3.00</td>\n",
       "      <td>1960</td>\n",
       "      <td>5000</td>\n",
       "      <td>1.00</td>\n",
       "      <td>0</td>\n",
       "      <td>0</td>\n",
       "      <td>...</td>\n",
       "      <td>98136</td>\n",
       "      <td>47.52</td>\n",
       "      <td>-122.39</td>\n",
       "      <td>1360</td>\n",
       "      <td>5000</td>\n",
       "      <td>1evel_02</td>\n",
       "      <td>s02</td>\n",
       "      <td>47.5208,-122.393</td>\n",
       "      <td>12</td>\n",
       "      <td>winter</td>\n",
       "    </tr>\n",
       "    <tr>\n",
       "      <th>4</th>\n",
       "      <td>1954400510</td>\n",
       "      <td>20150218T000000</td>\n",
       "      <td>510000.00</td>\n",
       "      <td>3</td>\n",
       "      <td>2.00</td>\n",
       "      <td>1680</td>\n",
       "      <td>8080</td>\n",
       "      <td>1.00</td>\n",
       "      <td>0</td>\n",
       "      <td>0</td>\n",
       "      <td>...</td>\n",
       "      <td>98074</td>\n",
       "      <td>47.62</td>\n",
       "      <td>-122.05</td>\n",
       "      <td>1800</td>\n",
       "      <td>7503</td>\n",
       "      <td>1evel_02</td>\n",
       "      <td>s01</td>\n",
       "      <td>47.6168,-122.045</td>\n",
       "      <td>2</td>\n",
       "      <td>winter</td>\n",
       "    </tr>\n",
       "  </tbody>\n",
       "</table>\n",
       "<p>5 rows × 26 columns</p>\n",
       "</div>"
      ],
      "text/plain": [
       "           id             date     price  bedrooms  bathrooms  sqft_living  \\\n",
       "0  7129300520  20141013T000000 221900.00         3       1.00         1180   \n",
       "1  6414100192  20141209T000000 538000.00         3       2.25         2570   \n",
       "2  5631500400  20150225T000000 180000.00         2       1.00          770   \n",
       "3  2487200875  20141209T000000 604000.00         4       3.00         1960   \n",
       "4  1954400510  20150218T000000 510000.00         3       2.00         1680   \n",
       "\n",
       "   sqft_lot  floors  waterfront  view  ...  zipcode   lat    long  \\\n",
       "0      5650    1.00           0     0  ...    98178 47.51 -122.26   \n",
       "1      7242    2.00           0     0  ...    98125 47.72 -122.32   \n",
       "2     10000    1.00           0     0  ...    98028 47.74 -122.23   \n",
       "3      5000    1.00           0     0  ...    98136 47.52 -122.39   \n",
       "4      8080    1.00           0     0  ...    98074 47.62 -122.05   \n",
       "\n",
       "   sqft_living15  sqft_lot15     level  size             query  month  season  \n",
       "0           1340        5650  level_00   s00  47.5112,-122.257     10    fall  \n",
       "1           1690        7639  1evel_02   s03   47.721,-122.319     12  winter  \n",
       "2           2720        8062  level_00   s00  47.7379,-122.233      2  winter  \n",
       "3           1360        5000  1evel_02   s02  47.5208,-122.393     12  winter  \n",
       "4           1800        7503  1evel_02   s01  47.6168,-122.045      2  winter  \n",
       "\n",
       "[5 rows x 26 columns]"
      ]
     },
     "execution_count": 38,
     "metadata": {},
     "output_type": "execute_result"
    }
   ],
   "source": [
    "df.head()"
   ]
  },
  {
   "cell_type": "code",
   "execution_count": 43,
   "id": "083db017",
   "metadata": {
    "ExecuteTime": {
     "end_time": "2022-06-27T16:36:34.609767Z",
     "start_time": "2022-06-27T16:36:34.580785Z"
    }
   },
   "outputs": [
    {
     "data": {
      "text/html": [
       "<div>\n",
       "<style scoped>\n",
       "    .dataframe tbody tr th:only-of-type {\n",
       "        vertical-align: middle;\n",
       "    }\n",
       "\n",
       "    .dataframe tbody tr th {\n",
       "        vertical-align: top;\n",
       "    }\n",
       "\n",
       "    .dataframe thead th {\n",
       "        text-align: right;\n",
       "    }\n",
       "</style>\n",
       "<table border=\"1\" class=\"dataframe\">\n",
       "  <thead>\n",
       "    <tr style=\"text-align: right;\">\n",
       "      <th></th>\n",
       "      <th>zipcode</th>\n",
       "      <th>season</th>\n",
       "      <th>price</th>\n",
       "    </tr>\n",
       "  </thead>\n",
       "  <tbody>\n",
       "    <tr>\n",
       "      <th>0</th>\n",
       "      <td>98001</td>\n",
       "      <td>fall</td>\n",
       "      <td>243975.00</td>\n",
       "    </tr>\n",
       "    <tr>\n",
       "      <th>1</th>\n",
       "      <td>98001</td>\n",
       "      <td>spring</td>\n",
       "      <td>265000.00</td>\n",
       "    </tr>\n",
       "    <tr>\n",
       "      <th>2</th>\n",
       "      <td>98001</td>\n",
       "      <td>summer</td>\n",
       "      <td>260000.00</td>\n",
       "    </tr>\n",
       "    <tr>\n",
       "      <th>3</th>\n",
       "      <td>98001</td>\n",
       "      <td>winter</td>\n",
       "      <td>258000.00</td>\n",
       "    </tr>\n",
       "    <tr>\n",
       "      <th>4</th>\n",
       "      <td>98002</td>\n",
       "      <td>fall</td>\n",
       "      <td>234000.00</td>\n",
       "    </tr>\n",
       "  </tbody>\n",
       "</table>\n",
       "</div>"
      ],
      "text/plain": [
       "   zipcode  season     price\n",
       "0    98001    fall 243975.00\n",
       "1    98001  spring 265000.00\n",
       "2    98001  summer 260000.00\n",
       "3    98001  winter 258000.00\n",
       "4    98002    fall 234000.00"
      ]
     },
     "execution_count": 43,
     "metadata": {},
     "output_type": "execute_result"
    }
   ],
   "source": [
    "df1=df.groupby(['zipcode','season'], as_index=False)['price'].median()\n",
    "df1.head()"
   ]
  },
  {
   "cell_type": "raw",
   "id": "d3b0c7e5",
   "metadata": {
    "ExecuteTime": {
     "end_time": "2022-06-27T16:17:36.833871Z",
     "start_time": "2022-06-27T16:17:36.804912Z"
    }
   },
   "source": []
  },
  {
   "cell_type": "code",
   "execution_count": null,
   "id": "903b84ac",
   "metadata": {},
   "outputs": [],
   "source": []
  }
 ],
 "metadata": {
  "hide_input": false,
  "kernelspec": {
   "display_name": "Python 3 (ipykernel)",
   "language": "python",
   "name": "python3"
  },
  "language_info": {
   "codemirror_mode": {
    "name": "ipython",
    "version": 3
   },
   "file_extension": ".py",
   "mimetype": "text/x-python",
   "name": "python",
   "nbconvert_exporter": "python",
   "pygments_lexer": "ipython3",
   "version": "3.9.7"
  },
  "latex_envs": {
   "LaTeX_envs_menu_present": true,
   "autoclose": false,
   "autocomplete": true,
   "bibliofile": "biblio.bib",
   "cite_by": "apalike",
   "current_citInitial": 1,
   "eqLabelWithNumbers": true,
   "eqNumInitial": 1,
   "hotkeys": {
    "equation": "Ctrl-E",
    "itemize": "Ctrl-I"
   },
   "labels_anchors": false,
   "latex_user_defs": false,
   "report_style_numbering": false,
   "user_envs_cfg": false
  },
  "nbTranslate": {
   "displayLangs": [
    "*"
   ],
   "hotkey": "alt-t",
   "langInMainMenu": true,
   "sourceLang": "en",
   "targetLang": "fr",
   "useGoogleTranslate": true
  },
  "toc": {
   "base_numbering": 1,
   "nav_menu": {},
   "number_sections": true,
   "sideBar": true,
   "skip_h1_title": false,
   "title_cell": "Table of Contents",
   "title_sidebar": "Contents",
   "toc_cell": false,
   "toc_position": {
    "height": "calc(100% - 180px)",
    "left": "10px",
    "top": "150px",
    "width": "165px"
   },
   "toc_section_display": true,
   "toc_window_display": false
  }
 },
 "nbformat": 4,
 "nbformat_minor": 5
}
