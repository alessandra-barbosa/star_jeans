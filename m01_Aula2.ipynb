{
 "cells": [
  {
   "cell_type": "markdown",
   "id": "a8a28ec0",
   "metadata": {
    "deletable": false,
    "editable": false,
    "run_control": {
     "frozen": true
    }
   },
   "source": [
    "# Novas perguntas do CEO para vocês\n"
   ]
  },
  {
   "cell_type": "code",
   "execution_count": 278,
   "id": "b7f460fe",
   "metadata": {
    "ExecuteTime": {
     "end_time": "2021-08-26T16:06:05.062232Z",
     "start_time": "2021-08-26T16:06:05.059787Z"
    }
   },
   "outputs": [],
   "source": [
    "import numpy as np\n",
    "import pandas as pd"
   ]
  },
  {
   "cell_type": "code",
   "execution_count": 306,
   "id": "e57dcf6b",
   "metadata": {
    "ExecuteTime": {
     "end_time": "2021-08-26T16:10:41.081569Z",
     "start_time": "2021-08-26T16:10:41.025251Z"
    }
   },
   "outputs": [],
   "source": [
    "#df=pd.read_csv('Datasets/kc_house_data.csv')\n",
    "df=pd.read_csv('Datasets/kc_house_data.csv',parse_dates=[1,14,15])"
   ]
  },
  {
   "cell_type": "code",
   "execution_count": 307,
   "id": "7950dcdf",
   "metadata": {
    "ExecuteTime": {
     "end_time": "2021-08-26T16:10:42.240825Z",
     "start_time": "2021-08-26T16:10:42.227687Z"
    }
   },
   "outputs": [
    {
     "name": "stdout",
     "output_type": "stream",
     "text": [
      "<class 'pandas.core.frame.DataFrame'>\n",
      "RangeIndex: 21613 entries, 0 to 21612\n",
      "Data columns (total 21 columns):\n",
      " #   Column         Non-Null Count  Dtype         \n",
      "---  ------         --------------  -----         \n",
      " 0   id             21613 non-null  int64         \n",
      " 1   date           21613 non-null  datetime64[ns]\n",
      " 2   price          21613 non-null  float64       \n",
      " 3   bedrooms       21613 non-null  int64         \n",
      " 4   bathrooms      21613 non-null  float64       \n",
      " 5   sqft_living    21613 non-null  int64         \n",
      " 6   sqft_lot       21613 non-null  int64         \n",
      " 7   floors         21613 non-null  float64       \n",
      " 8   waterfront     21613 non-null  int64         \n",
      " 9   view           21613 non-null  int64         \n",
      " 10  condition      21613 non-null  int64         \n",
      " 11  grade          21613 non-null  int64         \n",
      " 12  sqft_above     21611 non-null  float64       \n",
      " 13  sqft_basement  21613 non-null  int64         \n",
      " 14  yr_built       21613 non-null  datetime64[ns]\n",
      " 15  yr_renovated   21613 non-null  object        \n",
      " 16  zipcode        21613 non-null  int64         \n",
      " 17  lat            21613 non-null  float64       \n",
      " 18  long           21613 non-null  float64       \n",
      " 19  sqft_living15  21613 non-null  int64         \n",
      " 20  sqft_lot15     21613 non-null  int64         \n",
      "dtypes: datetime64[ns](2), float64(6), int64(12), object(1)\n",
      "memory usage: 3.5+ MB\n"
     ]
    }
   ],
   "source": [
    "df.info()"
   ]
  },
  {
   "cell_type": "markdown",
   "id": "31ade6ba",
   "metadata": {},
   "source": [
    "## Crie uma nova coluna chamada: “house_age”\n",
    "- Se o valor da coluna “date” for maior que 2014-01-01 => ‘new_house’\n",
    "- Se o valor da coluna “date” for menor que 2014-01-01 => ‘old_house’\n"
   ]
  },
  {
   "cell_type": "code",
   "execution_count": 308,
   "id": "9e826348",
   "metadata": {
    "ExecuteTime": {
     "end_time": "2021-08-26T16:10:47.188751Z",
     "start_time": "2021-08-26T16:10:47.176587Z"
    }
   },
   "outputs": [],
   "source": [
    "df['date']=pd.to_datetime(df['date'],format='%Y-%m-%d')"
   ]
  },
  {
   "cell_type": "code",
   "execution_count": 309,
   "id": "e8bdf103",
   "metadata": {
    "ExecuteTime": {
     "end_time": "2021-08-26T16:10:49.532015Z",
     "start_time": "2021-08-26T16:10:47.592846Z"
    }
   },
   "outputs": [],
   "source": [
    "#lambda x: VERDADEIRO condicional(if x else)  FALSO condicional(if x else) FALSO\n",
    "df['house_age']=df['date'].apply(lambda x:'new_house'if x>pd.to_datetime('2014-01-01',format='%Y-%m-%d') else 'old_house')"
   ]
  },
  {
   "cell_type": "code",
   "execution_count": 310,
   "id": "bf41074c",
   "metadata": {
    "ExecuteTime": {
     "end_time": "2021-08-26T16:10:49.539510Z",
     "start_time": "2021-08-26T16:10:49.533776Z"
    }
   },
   "outputs": [],
   "source": [
    "df['house_age']=np.where (df['date']>pd.to_datetime('2014-01-01',format='%Y-%m-%d'),'new_house', 'old_house')"
   ]
  },
  {
   "cell_type": "markdown",
   "id": "c8dc8f30",
   "metadata": {},
   "source": [
    "## Crie uma nova coluna chamada: “dormitory_type”\n",
    "- Se o valor da coluna “bedrooms” for igual à 1 => ‘studio’\n",
    "- Se o valor da coluna “bedrooms” for igual a 2 => ‘apartament’\n",
    "- Se o valor da coluna “bedrooms” for maior que 2 => ‘house’\n"
   ]
  },
  {
   "cell_type": "code",
   "execution_count": 311,
   "id": "8865d299",
   "metadata": {
    "ExecuteTime": {
     "end_time": "2021-08-26T16:10:49.547903Z",
     "start_time": "2021-08-26T16:10:49.540649Z"
    }
   },
   "outputs": [],
   "source": [
    "df['dormitory_type']=df['bedrooms'].apply(lambda x:'studio' if x== 1 else \n",
    "                                                  'apartament' if x==2 else \n",
    "                                                  'house')"
   ]
  },
  {
   "cell_type": "markdown",
   "id": "2ea2457e",
   "metadata": {},
   "source": [
    "## Crie uma nova coluna chamada: “condition_type”\n",
    "- Se o valor da coluna “condition” for menor ou igual à 2 => ‘bad’\n",
    "- Se o valor da coluna “condition” for igual à 3 ou 4 => ‘regular’\n",
    "- Se o valor da coluna “condition” for igual à 5 => ‘good’"
   ]
  },
  {
   "cell_type": "code",
   "execution_count": 312,
   "id": "87f244e9",
   "metadata": {
    "ExecuteTime": {
     "end_time": "2021-08-26T16:10:50.108799Z",
     "start_time": "2021-08-26T16:10:50.095385Z"
    }
   },
   "outputs": [],
   "source": [
    "df['condition_type']=df['condition'].apply(lambda x:'bad' if x== 2 else \n",
    "                                                  'regular' if (x==3 or x==4) else \n",
    "                                                  'good' if x==5 else \n",
    "                                                  'NA') \n"
   ]
  },
  {
   "cell_type": "markdown",
   "id": "35c4ace1",
   "metadata": {},
   "source": [
    "\n",
    "## Modifique o TIPO a Coluna “condition” para STRING\n"
   ]
  },
  {
   "cell_type": "code",
   "execution_count": 313,
   "id": "f149c1ee",
   "metadata": {
    "ExecuteTime": {
     "end_time": "2021-08-26T16:10:51.269884Z",
     "start_time": "2021-08-26T16:10:51.230546Z"
    }
   },
   "outputs": [],
   "source": [
    "df['condition']=df['condition'].astype(str)"
   ]
  },
  {
   "cell_type": "markdown",
   "id": "f75375e4",
   "metadata": {
    "ExecuteTime": {
     "end_time": "2021-08-04T22:59:43.581921Z",
     "start_time": "2021-08-04T22:59:43.579170Z"
    }
   },
   "source": [
    "## Delete as colunas: “sqft_living15” e “sqft_lot15”\n"
   ]
  },
  {
   "cell_type": "code",
   "execution_count": 314,
   "id": "4df62c77",
   "metadata": {
    "ExecuteTime": {
     "end_time": "2021-08-26T16:10:52.114132Z",
     "start_time": "2021-08-26T16:10:52.106651Z"
    }
   },
   "outputs": [],
   "source": [
    "#df=df.drop(['sqft_living15','sqft_lot15'],axis=1)\n",
    "df=df.drop(columns=['sqft_living15','sqft_lot15'])"
   ]
  },
  {
   "cell_type": "markdown",
   "id": "14bc160e",
   "metadata": {
    "ExecuteTime": {
     "end_time": "2021-08-04T23:02:35.193532Z",
     "start_time": "2021-08-04T23:02:35.191074Z"
    }
   },
   "source": [
    "## Modifique o TIPO a Coluna “yr_build” para DATE\n"
   ]
  },
  {
   "cell_type": "code",
   "execution_count": 344,
   "id": "baadac28",
   "metadata": {
    "ExecuteTime": {
     "end_time": "2021-08-26T17:12:18.967974Z",
     "start_time": "2021-08-26T17:12:18.938963Z"
    }
   },
   "outputs": [],
   "source": [
    "df['yr_built']=pd.to_datetime(df['yr_built'],format= '%Y %m %d')\n",
    "#     #dt define a serie\n",
    "#     df['yr_built_year']=df['yr_built'].dt.year\n",
    "#     df['yr_built_month']=df['yr_built'].dt.month\n"
   ]
  },
  {
   "cell_type": "code",
   "execution_count": 392,
   "id": "39ecf61d",
   "metadata": {
    "ExecuteTime": {
     "end_time": "2021-08-26T17:36:20.797718Z",
     "start_time": "2021-08-26T17:36:20.779530Z"
    }
   },
   "outputs": [
    {
     "data": {
      "text/html": [
       "<div>\n",
       "<style scoped>\n",
       "    .dataframe tbody tr th:only-of-type {\n",
       "        vertical-align: middle;\n",
       "    }\n",
       "\n",
       "    .dataframe tbody tr th {\n",
       "        vertical-align: top;\n",
       "    }\n",
       "\n",
       "    .dataframe thead th {\n",
       "        text-align: right;\n",
       "    }\n",
       "</style>\n",
       "<table border=\"1\" class=\"dataframe\">\n",
       "  <thead>\n",
       "    <tr style=\"text-align: right;\">\n",
       "      <th></th>\n",
       "      <th>id</th>\n",
       "      <th>date</th>\n",
       "      <th>price</th>\n",
       "      <th>bedrooms</th>\n",
       "      <th>bathrooms</th>\n",
       "      <th>sqft_living</th>\n",
       "      <th>sqft_lot</th>\n",
       "      <th>floors</th>\n",
       "      <th>waterfront</th>\n",
       "      <th>view</th>\n",
       "      <th>...</th>\n",
       "      <th>sqft_basement</th>\n",
       "      <th>yr_built</th>\n",
       "      <th>yr_renovated</th>\n",
       "      <th>zipcode</th>\n",
       "      <th>lat</th>\n",
       "      <th>long</th>\n",
       "      <th>house_age</th>\n",
       "      <th>dormitory_type</th>\n",
       "      <th>condition_type</th>\n",
       "      <th>yr_renovated_year</th>\n",
       "    </tr>\n",
       "  </thead>\n",
       "  <tbody>\n",
       "    <tr>\n",
       "      <th>0</th>\n",
       "      <td>7129300520</td>\n",
       "      <td>2014-10-13</td>\n",
       "      <td>221900.0</td>\n",
       "      <td>3</td>\n",
       "      <td>1.00</td>\n",
       "      <td>1180</td>\n",
       "      <td>5650</td>\n",
       "      <td>1.0</td>\n",
       "      <td>0</td>\n",
       "      <td>0</td>\n",
       "      <td>...</td>\n",
       "      <td>0</td>\n",
       "      <td>1955-01-01</td>\n",
       "      <td>1900-01-01</td>\n",
       "      <td>98178</td>\n",
       "      <td>47.5112</td>\n",
       "      <td>-122.257</td>\n",
       "      <td>new_house</td>\n",
       "      <td>house</td>\n",
       "      <td>regular</td>\n",
       "      <td>1900</td>\n",
       "    </tr>\n",
       "    <tr>\n",
       "      <th>1</th>\n",
       "      <td>6414100192</td>\n",
       "      <td>2014-12-09</td>\n",
       "      <td>538000.0</td>\n",
       "      <td>3</td>\n",
       "      <td>2.25</td>\n",
       "      <td>2570</td>\n",
       "      <td>7242</td>\n",
       "      <td>2.0</td>\n",
       "      <td>0</td>\n",
       "      <td>0</td>\n",
       "      <td>...</td>\n",
       "      <td>400</td>\n",
       "      <td>1951-01-01</td>\n",
       "      <td>1991-01-01</td>\n",
       "      <td>98125</td>\n",
       "      <td>47.7210</td>\n",
       "      <td>-122.319</td>\n",
       "      <td>new_house</td>\n",
       "      <td>house</td>\n",
       "      <td>regular</td>\n",
       "      <td>1991</td>\n",
       "    </tr>\n",
       "    <tr>\n",
       "      <th>2</th>\n",
       "      <td>5631500400</td>\n",
       "      <td>2015-02-25</td>\n",
       "      <td>180000.0</td>\n",
       "      <td>2</td>\n",
       "      <td>1.00</td>\n",
       "      <td>770</td>\n",
       "      <td>10000</td>\n",
       "      <td>1.0</td>\n",
       "      <td>0</td>\n",
       "      <td>0</td>\n",
       "      <td>...</td>\n",
       "      <td>0</td>\n",
       "      <td>1933-01-01</td>\n",
       "      <td>1900-01-01</td>\n",
       "      <td>98028</td>\n",
       "      <td>47.7379</td>\n",
       "      <td>-122.233</td>\n",
       "      <td>new_house</td>\n",
       "      <td>apartament</td>\n",
       "      <td>regular</td>\n",
       "      <td>1900</td>\n",
       "    </tr>\n",
       "    <tr>\n",
       "      <th>3</th>\n",
       "      <td>2487200875</td>\n",
       "      <td>2014-12-09</td>\n",
       "      <td>604000.0</td>\n",
       "      <td>4</td>\n",
       "      <td>3.00</td>\n",
       "      <td>1960</td>\n",
       "      <td>5000</td>\n",
       "      <td>1.0</td>\n",
       "      <td>0</td>\n",
       "      <td>0</td>\n",
       "      <td>...</td>\n",
       "      <td>910</td>\n",
       "      <td>1965-01-01</td>\n",
       "      <td>1900-01-01</td>\n",
       "      <td>98136</td>\n",
       "      <td>47.5208</td>\n",
       "      <td>-122.393</td>\n",
       "      <td>new_house</td>\n",
       "      <td>house</td>\n",
       "      <td>good</td>\n",
       "      <td>1900</td>\n",
       "    </tr>\n",
       "    <tr>\n",
       "      <th>4</th>\n",
       "      <td>1954400510</td>\n",
       "      <td>2015-02-18</td>\n",
       "      <td>510000.0</td>\n",
       "      <td>3</td>\n",
       "      <td>2.00</td>\n",
       "      <td>1680</td>\n",
       "      <td>8080</td>\n",
       "      <td>1.0</td>\n",
       "      <td>0</td>\n",
       "      <td>0</td>\n",
       "      <td>...</td>\n",
       "      <td>0</td>\n",
       "      <td>1987-01-01</td>\n",
       "      <td>1900-01-01</td>\n",
       "      <td>98074</td>\n",
       "      <td>47.6168</td>\n",
       "      <td>-122.045</td>\n",
       "      <td>new_house</td>\n",
       "      <td>house</td>\n",
       "      <td>regular</td>\n",
       "      <td>1900</td>\n",
       "    </tr>\n",
       "  </tbody>\n",
       "</table>\n",
       "<p>5 rows × 23 columns</p>\n",
       "</div>"
      ],
      "text/plain": [
       "           id       date     price  bedrooms  bathrooms  sqft_living  \\\n",
       "0  7129300520 2014-10-13  221900.0         3       1.00         1180   \n",
       "1  6414100192 2014-12-09  538000.0         3       2.25         2570   \n",
       "2  5631500400 2015-02-25  180000.0         2       1.00          770   \n",
       "3  2487200875 2014-12-09  604000.0         4       3.00         1960   \n",
       "4  1954400510 2015-02-18  510000.0         3       2.00         1680   \n",
       "\n",
       "   sqft_lot  floors  waterfront  view  ... sqft_basement   yr_built  \\\n",
       "0      5650     1.0           0     0  ...             0 1955-01-01   \n",
       "1      7242     2.0           0     0  ...           400 1951-01-01   \n",
       "2     10000     1.0           0     0  ...             0 1933-01-01   \n",
       "3      5000     1.0           0     0  ...           910 1965-01-01   \n",
       "4      8080     1.0           0     0  ...             0 1987-01-01   \n",
       "\n",
       "   yr_renovated  zipcode      lat     long  house_age  dormitory_type  \\\n",
       "0    1900-01-01    98178  47.5112 -122.257  new_house           house   \n",
       "1    1991-01-01    98125  47.7210 -122.319  new_house           house   \n",
       "2    1900-01-01    98028  47.7379 -122.233  new_house      apartament   \n",
       "3    1900-01-01    98136  47.5208 -122.393  new_house           house   \n",
       "4    1900-01-01    98074  47.6168 -122.045  new_house           house   \n",
       "\n",
       "   condition_type yr_renovated_year  \n",
       "0         regular              1900  \n",
       "1         regular              1991  \n",
       "2         regular              1900  \n",
       "3            good              1900  \n",
       "4         regular              1900  \n",
       "\n",
       "[5 rows x 23 columns]"
      ]
     },
     "execution_count": 392,
     "metadata": {},
     "output_type": "execute_result"
    }
   ],
   "source": [
    "df.head()"
   ]
  },
  {
   "cell_type": "code",
   "execution_count": 391,
   "id": "289396a1",
   "metadata": {
    "ExecuteTime": {
     "end_time": "2021-08-26T17:36:18.073700Z",
     "start_time": "2021-08-26T17:36:18.068895Z"
    }
   },
   "outputs": [
    {
     "data": {
      "text/plain": [
       "id                            int64\n",
       "date                 datetime64[ns]\n",
       "price                       float64\n",
       "bedrooms                      int64\n",
       "bathrooms                   float64\n",
       "sqft_living                   int64\n",
       "sqft_lot                      int64\n",
       "floors                      float64\n",
       "waterfront                    int64\n",
       "view                          int64\n",
       "condition                    object\n",
       "grade                         int64\n",
       "sqft_above                  float64\n",
       "sqft_basement                 int64\n",
       "yr_built             datetime64[ns]\n",
       "yr_renovated         datetime64[ns]\n",
       "zipcode                       int64\n",
       "lat                         float64\n",
       "long                        float64\n",
       "house_age                    object\n",
       "dormitory_type               object\n",
       "condition_type               object\n",
       "yr_renovated_year             int64\n",
       "dtype: object"
      ]
     },
     "execution_count": 391,
     "metadata": {},
     "output_type": "execute_result"
    }
   ],
   "source": [
    "df.dtypes"
   ]
  },
  {
   "cell_type": "markdown",
   "id": "3a3f00f9",
   "metadata": {},
   "source": [
    "## Modifique o TIPO a Coluna “yr_renovated” para DATE"
   ]
  },
  {
   "cell_type": "code",
   "execution_count": 393,
   "id": "ff8ad4b0",
   "metadata": {
    "ExecuteTime": {
     "end_time": "2021-08-26T17:36:44.546818Z",
     "start_time": "2021-08-26T17:36:44.544258Z"
    }
   },
   "outputs": [],
   "source": [
    "#df['yr_renovated']=pd.to_datetime(['yr_renovated'],format='%Y %m %d')"
   ]
  },
  {
   "cell_type": "code",
   "execution_count": 394,
   "id": "5517c5d7",
   "metadata": {
    "ExecuteTime": {
     "end_time": "2021-08-26T17:36:45.283404Z",
     "start_time": "2021-08-26T17:36:45.171277Z"
    }
   },
   "outputs": [],
   "source": [
    "df['yr_renovated']=df['yr_renovated'].apply(lambda x: pd.to_datetime('1900-01-01',format='%Y %m %d') if x=='0' else pd.to_datetime(x,format='%Y %m %d'))"
   ]
  },
  {
   "cell_type": "markdown",
   "id": "18bc9360",
   "metadata": {},
   "source": [
    "## Qual a data mais antiga de construção de um imóvel?"
   ]
  },
  {
   "cell_type": "code",
   "execution_count": 395,
   "id": "5c59e190",
   "metadata": {
    "ExecuteTime": {
     "end_time": "2021-08-26T17:36:47.178876Z",
     "start_time": "2021-08-26T17:36:47.173447Z"
    }
   },
   "outputs": [
    {
     "data": {
      "text/plain": [
       "Timestamp('1900-01-01 00:00:00')"
      ]
     },
     "execution_count": 395,
     "metadata": {},
     "output_type": "execute_result"
    }
   ],
   "source": [
    "df['yr_built'].min()"
   ]
  },
  {
   "cell_type": "markdown",
   "id": "a9cd2e90",
   "metadata": {},
   "source": [
    "## Qual a data mais antiga de renovação de um imóvel?\n",
    "\n"
   ]
  },
  {
   "cell_type": "code",
   "execution_count": 396,
   "id": "b67df36e",
   "metadata": {
    "ExecuteTime": {
     "end_time": "2021-08-26T17:36:49.071034Z",
     "start_time": "2021-08-26T17:36:49.065270Z"
    }
   },
   "outputs": [
    {
     "data": {
      "text/plain": [
       "Timestamp('2015-01-01 00:00:00')"
      ]
     },
     "execution_count": 396,
     "metadata": {},
     "output_type": "execute_result"
    }
   ],
   "source": [
    "\n",
    "df['yr_renovated'].max()"
   ]
  },
  {
   "cell_type": "markdown",
   "id": "10a42528",
   "metadata": {},
   "source": [
    "## Quantos imóveis tem 2 andares?\n"
   ]
  },
  {
   "cell_type": "code",
   "execution_count": 364,
   "id": "8358f82c",
   "metadata": {
    "ExecuteTime": {
     "end_time": "2021-08-26T17:19:50.677080Z",
     "start_time": "2021-08-26T17:19:50.672416Z"
    }
   },
   "outputs": [
    {
     "data": {
      "text/plain": [
       "8241"
      ]
     },
     "execution_count": 364,
     "metadata": {},
     "output_type": "execute_result"
    }
   ],
   "source": [
    "df.loc[df['floors']==2,'id'].size"
   ]
  },
  {
   "cell_type": "markdown",
   "id": "6dca1cc0",
   "metadata": {},
   "source": [
    "## Quantos imóveis estão com a condição igual a “regular” ?\n"
   ]
  },
  {
   "cell_type": "code",
   "execution_count": 365,
   "id": "9bb089fe",
   "metadata": {
    "ExecuteTime": {
     "end_time": "2021-08-26T17:19:52.143717Z",
     "start_time": "2021-08-26T17:19:52.138258Z"
    }
   },
   "outputs": [
    {
     "data": {
      "text/plain": [
       "19710"
      ]
     },
     "execution_count": 365,
     "metadata": {},
     "output_type": "execute_result"
    }
   ],
   "source": [
    "df.loc[df['condition_type']=='regular','id'].size"
   ]
  },
  {
   "cell_type": "markdown",
   "id": "142a2a7e",
   "metadata": {
    "ExecuteTime": {
     "end_time": "2021-08-26T15:41:07.035753Z",
     "start_time": "2021-08-26T15:41:07.033050Z"
    },
    "code_folding": []
   },
   "source": [
    "## Quantos imóveis estão com a condição igual a “bad”e possuem “vista para água” ?"
   ]
  },
  {
   "cell_type": "code",
   "execution_count": 366,
   "id": "e34876d4",
   "metadata": {
    "ExecuteTime": {
     "end_time": "2021-08-26T17:19:54.233867Z",
     "start_time": "2021-08-26T17:19:54.227578Z"
    }
   },
   "outputs": [
    {
     "data": {
      "text/plain": [
       "1"
      ]
     },
     "execution_count": 366,
     "metadata": {},
     "output_type": "execute_result"
    }
   ],
   "source": [
    "df.loc[(df['condition_type']=='bad')&(df['waterfront']==1),'id'].size"
   ]
  },
  {
   "cell_type": "markdown",
   "id": "a355e22a",
   "metadata": {},
   "source": [
    "## Quantos imóveis estão com a condição igual a “good” e são “new_house”?\n"
   ]
  },
  {
   "cell_type": "code",
   "execution_count": 367,
   "id": "5d9beaab",
   "metadata": {
    "ExecuteTime": {
     "end_time": "2021-08-26T17:19:56.167304Z",
     "start_time": "2021-08-26T17:19:56.159265Z"
    }
   },
   "outputs": [
    {
     "data": {
      "text/plain": [
       "1701"
      ]
     },
     "execution_count": 367,
     "metadata": {},
     "output_type": "execute_result"
    }
   ],
   "source": [
    "df.loc[(df['condition_type']=='good')&(df['house_age']=='new_house'),'id'].size"
   ]
  },
  {
   "cell_type": "markdown",
   "id": "b8182661",
   "metadata": {
    "ExecuteTime": {
     "end_time": "2021-08-26T15:49:16.672280Z",
     "start_time": "2021-08-26T15:49:16.668899Z"
    }
   },
   "source": [
    "## Qual o valor do imóvel mais caro do tipo “studio” ?"
   ]
  },
  {
   "cell_type": "code",
   "execution_count": 368,
   "id": "71d32e46",
   "metadata": {
    "ExecuteTime": {
     "end_time": "2021-08-26T17:19:58.387013Z",
     "start_time": "2021-08-26T17:19:58.381114Z"
    }
   },
   "outputs": [
    {
     "data": {
      "text/plain": [
       "1247000.0"
      ]
     },
     "execution_count": 368,
     "metadata": {},
     "output_type": "execute_result"
    }
   ],
   "source": [
    "df.loc[df['dormitory_type']=='studio','price'].max()"
   ]
  },
  {
   "cell_type": "markdown",
   "id": "a31e536c",
   "metadata": {
    "ExecuteTime": {
     "end_time": "2021-08-26T15:51:44.074375Z",
     "start_time": "2021-08-26T15:51:44.069551Z"
    }
   },
   "source": [
    "## Quantos imóveis do tipo “apartment” foram reformados em 2015 ?\n"
   ]
  },
  {
   "cell_type": "code",
   "execution_count": 400,
   "id": "45f08091",
   "metadata": {
    "ExecuteTime": {
     "end_time": "2021-08-26T17:37:29.021689Z",
     "start_time": "2021-08-26T17:37:29.014078Z"
    }
   },
   "outputs": [
    {
     "data": {
      "text/plain": [
       "0"
      ]
     },
     "execution_count": 400,
     "metadata": {},
     "output_type": "execute_result"
    }
   ],
   "source": [
    "df.loc[(df['dormitory_type']=='apartment')&(df['yr_renovated']==pd.to_datetime('2015 01 01',format='%Y %m %d'))\n",
    "        ,'id'].size"
   ]
  },
  {
   "cell_type": "markdown",
   "id": "b6715179",
   "metadata": {
    "ExecuteTime": {
     "end_time": "2021-08-26T15:57:25.175726Z",
     "start_time": "2021-08-26T15:57:25.167741Z"
    }
   },
   "source": [
    "## Qual o maior número de quartos que um imóveis do tipo “house” possui ?\n"
   ]
  },
  {
   "cell_type": "code",
   "execution_count": 373,
   "id": "6a8a5ccd",
   "metadata": {
    "ExecuteTime": {
     "end_time": "2021-08-26T17:20:50.961991Z",
     "start_time": "2021-08-26T17:20:50.956800Z"
    }
   },
   "outputs": [
    {
     "data": {
      "text/plain": [
       "33"
      ]
     },
     "execution_count": 373,
     "metadata": {},
     "output_type": "execute_result"
    }
   ],
   "source": [
    "df.loc[df['dormitory_type']=='house','bedrooms'].max()"
   ]
  },
  {
   "cell_type": "markdown",
   "id": "9027f2a5",
   "metadata": {},
   "source": [
    "## Quantos imóveis “new_house” foram reformados no ano de 2014?\n"
   ]
  },
  {
   "cell_type": "code",
   "execution_count": 378,
   "id": "fb9f9f84",
   "metadata": {
    "ExecuteTime": {
     "end_time": "2021-08-26T17:26:05.079552Z",
     "start_time": "2021-08-26T17:26:05.057549Z"
    }
   },
   "outputs": [
    {
     "data": {
      "text/plain": [
       "91"
      ]
     },
     "execution_count": 378,
     "metadata": {},
     "output_type": "execute_result"
    }
   ],
   "source": [
    "df.loc[(df['house_age']=='new_house')&(df['yr_renovated']==pd.to_datetime('2014 01 01',format='%Y %m %d')),'id'].size"
   ]
  },
  {
   "cell_type": "markdown",
   "id": "02a3840d",
   "metadata": {},
   "source": [
    "## Selecione as colunas: “id”, “date”, “price”, “floors”, “zipcode” pelo método:\n",
    " • Direto pelo nome das colunas.\n",
    " • Pelos Índices.\n",
    " • Pelos Índices das linhas e o nome das colunas\n",
    " • Índices Booleanos\n"
   ]
  },
  {
   "cell_type": "code",
   "execution_count": 382,
   "id": "fe054ae1",
   "metadata": {
    "ExecuteTime": {
     "end_time": "2021-08-26T17:32:33.873334Z",
     "start_time": "2021-08-26T17:32:33.848594Z"
    }
   },
   "outputs": [
    {
     "data": {
      "text/html": [
       "<div>\n",
       "<style scoped>\n",
       "    .dataframe tbody tr th:only-of-type {\n",
       "        vertical-align: middle;\n",
       "    }\n",
       "\n",
       "    .dataframe tbody tr th {\n",
       "        vertical-align: top;\n",
       "    }\n",
       "\n",
       "    .dataframe thead th {\n",
       "        text-align: right;\n",
       "    }\n",
       "</style>\n",
       "<table border=\"1\" class=\"dataframe\">\n",
       "  <thead>\n",
       "    <tr style=\"text-align: right;\">\n",
       "      <th></th>\n",
       "      <th>id</th>\n",
       "      <th>date</th>\n",
       "      <th>price</th>\n",
       "      <th>floors</th>\n",
       "      <th>zipcode</th>\n",
       "      <th>dormitory_type</th>\n",
       "    </tr>\n",
       "  </thead>\n",
       "  <tbody>\n",
       "    <tr>\n",
       "      <th>0</th>\n",
       "      <td>7129300520</td>\n",
       "      <td>2014-10-13</td>\n",
       "      <td>221900.0</td>\n",
       "      <td>1.0</td>\n",
       "      <td>98178</td>\n",
       "      <td>house</td>\n",
       "    </tr>\n",
       "    <tr>\n",
       "      <th>1</th>\n",
       "      <td>6414100192</td>\n",
       "      <td>2014-12-09</td>\n",
       "      <td>538000.0</td>\n",
       "      <td>2.0</td>\n",
       "      <td>98125</td>\n",
       "      <td>house</td>\n",
       "    </tr>\n",
       "    <tr>\n",
       "      <th>2</th>\n",
       "      <td>5631500400</td>\n",
       "      <td>2015-02-25</td>\n",
       "      <td>180000.0</td>\n",
       "      <td>1.0</td>\n",
       "      <td>98028</td>\n",
       "      <td>apartament</td>\n",
       "    </tr>\n",
       "    <tr>\n",
       "      <th>3</th>\n",
       "      <td>2487200875</td>\n",
       "      <td>2014-12-09</td>\n",
       "      <td>604000.0</td>\n",
       "      <td>1.0</td>\n",
       "      <td>98136</td>\n",
       "      <td>house</td>\n",
       "    </tr>\n",
       "    <tr>\n",
       "      <th>4</th>\n",
       "      <td>1954400510</td>\n",
       "      <td>2015-02-18</td>\n",
       "      <td>510000.0</td>\n",
       "      <td>1.0</td>\n",
       "      <td>98074</td>\n",
       "      <td>house</td>\n",
       "    </tr>\n",
       "    <tr>\n",
       "      <th>5</th>\n",
       "      <td>7237550310</td>\n",
       "      <td>2014-05-12</td>\n",
       "      <td>1225000.0</td>\n",
       "      <td>1.0</td>\n",
       "      <td>98053</td>\n",
       "      <td>house</td>\n",
       "    </tr>\n",
       "    <tr>\n",
       "      <th>6</th>\n",
       "      <td>1321400060</td>\n",
       "      <td>2014-06-27</td>\n",
       "      <td>257500.0</td>\n",
       "      <td>2.0</td>\n",
       "      <td>98003</td>\n",
       "      <td>house</td>\n",
       "    </tr>\n",
       "    <tr>\n",
       "      <th>7</th>\n",
       "      <td>2008000270</td>\n",
       "      <td>2015-01-15</td>\n",
       "      <td>291850.0</td>\n",
       "      <td>1.0</td>\n",
       "      <td>98198</td>\n",
       "      <td>house</td>\n",
       "    </tr>\n",
       "    <tr>\n",
       "      <th>8</th>\n",
       "      <td>2414600126</td>\n",
       "      <td>2015-04-15</td>\n",
       "      <td>229500.0</td>\n",
       "      <td>1.0</td>\n",
       "      <td>98146</td>\n",
       "      <td>house</td>\n",
       "    </tr>\n",
       "    <tr>\n",
       "      <th>9</th>\n",
       "      <td>3793500160</td>\n",
       "      <td>2015-03-12</td>\n",
       "      <td>323000.0</td>\n",
       "      <td>2.0</td>\n",
       "      <td>98038</td>\n",
       "      <td>house</td>\n",
       "    </tr>\n",
       "  </tbody>\n",
       "</table>\n",
       "</div>"
      ],
      "text/plain": [
       "           id       date      price  floors  zipcode dormitory_type\n",
       "0  7129300520 2014-10-13   221900.0     1.0    98178          house\n",
       "1  6414100192 2014-12-09   538000.0     2.0    98125          house\n",
       "2  5631500400 2015-02-25   180000.0     1.0    98028     apartament\n",
       "3  2487200875 2014-12-09   604000.0     1.0    98136          house\n",
       "4  1954400510 2015-02-18   510000.0     1.0    98074          house\n",
       "5  7237550310 2014-05-12  1225000.0     1.0    98053          house\n",
       "6  1321400060 2014-06-27   257500.0     2.0    98003          house\n",
       "7  2008000270 2015-01-15   291850.0     1.0    98198          house\n",
       "8  2414600126 2015-04-15   229500.0     1.0    98146          house\n",
       "9  3793500160 2015-03-12   323000.0     2.0    98038          house"
      ]
     },
     "execution_count": 382,
     "metadata": {},
     "output_type": "execute_result"
    }
   ],
   "source": [
    "#df[['id','date','price','floors','zipcode']]\n",
    "#df.iloc[:,[0,1,2,7,16]]\n",
    "#df.loc[:,['id','date','price','floors','zipcode']]\n",
    "i=[True, True,True,False,False,False,False,True,False,False,False,False,\n",
    "   False,False,False,False,True,False,False,False,True,False,False]\n",
    "df.iloc[0:10,i]"
   ]
  },
  {
   "cell_type": "markdown",
   "id": "4858f2eb",
   "metadata": {},
   "source": [
    "## Salve um arquivo .csv com somente as colunas do item 10 ao 17\n"
   ]
  },
  {
   "cell_type": "code",
   "execution_count": 340,
   "id": "7286c8f4",
   "metadata": {
    "ExecuteTime": {
     "end_time": "2021-08-26T16:46:14.127378Z",
     "start_time": "2021-08-26T16:46:14.077827Z"
    }
   },
   "outputs": [],
   "source": [
    "df[['dormitory_type','condition_type','house_age']].to_csv('exercicio_19.csv')"
   ]
  },
  {
   "cell_type": "markdown",
   "id": "47efc6b2",
   "metadata": {
    "ExecuteTime": {
     "end_time": "2021-08-26T15:31:22.304857Z",
     "start_time": "2021-08-26T15:31:22.297402Z"
    }
   },
   "source": [
    "\n",
    "## Modifique a cor dos pontos no mapa de “pink” para “verde-escuro” -->"
   ]
  },
  {
   "cell_type": "code",
   "execution_count": 341,
   "id": "e6a296c8",
   "metadata": {
    "ExecuteTime": {
     "end_time": "2021-08-26T16:46:17.765294Z",
     "start_time": "2021-08-26T16:46:17.643740Z"
    }
   },
   "outputs": [
    {
     "name": "stdout",
     "output_type": "stream",
     "text": [
      "totale 1616\r\n",
      "-rw-rw-r-- 1 alessandra alessandra 126341 ago  3 16:26  aula01_notas_aula.pdf\r\n",
      "-rw-rw-r-- 1 alessandra alessandra  49890 ago  3 16:24  aula01_resolucao_exercicio.pdf\r\n",
      "-rw-rw-r-- 1 alessandra alessandra  61748 ago  3 18:30  aula02_resolucao_exercicio.pdf\r\n",
      "drwxrwxr-x 2 alessandra alessandra   4096 ago 12 18:32  \u001b[0m\u001b[01;34mDatasets\u001b[0m/\r\n",
      "-rw-rw-r-- 1 alessandra alessandra 645379 ago 26 18:46  exercicio_19.csv\r\n",
      "-rw-rw-r-- 1 alessandra alessandra   1075 ago  3 16:31  LICENSE\r\n",
      "-rw-rw-r-- 1 alessandra alessandra  30344 ago 25 11:07  m01_aula1.ipynb\r\n",
      "-rw-rw-r-- 1 alessandra alessandra 585345 ago  4 19:08  m02_Aula2.html\r\n",
      "-rw-rw-r-- 1 alessandra alessandra  43138 ago 26 18:45  m02_Aula2.ipynb\r\n",
      "-rw-rw-r-- 1 alessandra alessandra  41271 ago 12 23:07  m08_01_insert_data.pdf\r\n",
      "-rw-rw-r-- 1 alessandra alessandra  16719 ago 12 23:06  m08_02_SQL_IDE.pdf\r\n",
      "-rw-rw-r-- 1 alessandra alessandra  18282 ago 17 15:09 'Modulo 8 - SQL.ipynb'\r\n",
      "-rw-rw-r-- 1 alessandra alessandra      8 ago  3 16:31  README.md\r\n",
      "-rw-rw-r-- 1 alessandra alessandra      0 ago  3 16:34  requirements.txt\r\n"
     ]
    }
   ],
   "source": [
    "ls-l"
   ]
  },
  {
   "cell_type": "code",
   "execution_count": null,
   "id": "2aa3ba75",
   "metadata": {},
   "outputs": [],
   "source": []
  }
 ],
 "metadata": {
  "kernelspec": {
   "display_name": "Python 3 (ipykernel)",
   "language": "python",
   "name": "python3"
  },
  "language_info": {
   "codemirror_mode": {
    "name": "ipython",
    "version": 3
   },
   "file_extension": ".py",
   "mimetype": "text/x-python",
   "name": "python",
   "nbconvert_exporter": "python",
   "pygments_lexer": "ipython3",
   "version": "3.8.0"
  },
  "latex_envs": {
   "LaTeX_envs_menu_present": true,
   "autoclose": false,
   "autocomplete": true,
   "bibliofile": "biblio.bib",
   "cite_by": "apalike",
   "current_citInitial": 1,
   "eqLabelWithNumbers": true,
   "eqNumInitial": 1,
   "hotkeys": {
    "equation": "Ctrl-E",
    "itemize": "Ctrl-I"
   },
   "labels_anchors": false,
   "latex_user_defs": false,
   "report_style_numbering": false,
   "user_envs_cfg": false
  },
  "nbTranslate": {
   "displayLangs": [
    "*"
   ],
   "hotkey": "alt-t",
   "langInMainMenu": true,
   "sourceLang": "en",
   "targetLang": "fr",
   "useGoogleTranslate": true
  },
  "toc": {
   "base_numbering": 1,
   "nav_menu": {},
   "number_sections": true,
   "sideBar": true,
   "skip_h1_title": false,
   "title_cell": "Table of Contents",
   "title_sidebar": "Contents",
   "toc_cell": false,
   "toc_position": {},
   "toc_section_display": true,
   "toc_window_display": true
  }
 },
 "nbformat": 4,
 "nbformat_minor": 5
}
