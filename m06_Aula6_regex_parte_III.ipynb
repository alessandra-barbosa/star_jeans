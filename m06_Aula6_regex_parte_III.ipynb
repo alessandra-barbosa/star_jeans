{
 "cells": [
  {
   "cell_type": "markdown",
   "id": "sublime-charleston",
   "metadata": {
    "ExecuteTime": {
     "end_time": "2021-04-17T18:19:23.892701Z",
     "start_time": "2021-04-17T18:19:23.889655Z"
    }
   },
   "source": [
    "# <font color='#002726'> Curso de Python do DS ao DEV </font>\n",
    "\n"
   ]
  },
  {
   "cell_type": "markdown",
   "id": "stuffed-stadium",
   "metadata": {
    "heading_collapsed": true
   },
   "source": [
    "# <font color='#1B818D'> Modulo 06 - Python Avançado </font>"
   ]
  },
  {
   "cell_type": "markdown",
   "id": "referenced-rescue",
   "metadata": {},
   "source": [
    "# <font color='#1B818D'> Introdução a Regex (Expressões Regulares) - Parte III </font>"
   ]
  },
  {
   "cell_type": "markdown",
   "id": "sophisticated-norfolk",
   "metadata": {},
   "source": [
    "curso online de Regex: https://regexone.com/lesson/introduction_abcs"
   ]
  },
  {
   "cell_type": "code",
   "execution_count": 1,
   "id": "muslim-tampa",
   "metadata": {
    "ExecuteTime": {
     "end_time": "2021-09-17T09:55:52.709861Z",
     "start_time": "2021-09-17T09:55:52.697936Z"
    }
   },
   "outputs": [],
   "source": [
    "import re"
   ]
  },
  {
   "cell_type": "markdown",
   "id": "european-elder",
   "metadata": {
    "hide_input": false
   },
   "source": [
    "### O que são Regular Expressions?"
   ]
  },
  {
   "cell_type": "markdown",
   "id": "cross-oxygen",
   "metadata": {},
   "source": [
    "- Mascaras para acomodar strings dentro de um texto"
   ]
  },
  {
   "cell_type": "code",
   "execution_count": 22,
   "id": "willing-medline",
   "metadata": {
    "ExecuteTime": {
     "end_time": "2021-04-18T18:02:58.792255Z",
     "start_time": "2021-04-18T18:02:58.789487Z"
    }
   },
   "outputs": [],
   "source": [
    "text00 = '234.745.735-42'\n",
    "text01 = 'Rua Armando Shibata, 97 - Vila Leopolding, São Paulo'\n",
    "text02 = 'Av. dos trabalhadores, 403 - Centro, Mogi Guaçu'\n",
    "text03 = 'Al. Moraes, 90 - Vila Golmes, Pernambuco'\n",
    "\n",
    "text = [text01, text02, text03]\n",
    "\n",
    "# Nome da rua\n",
    "# Numero da residência\n",
    "# Nome do bairro\n",
    "# Nome da Cidade"
   ]
  },
  {
   "cell_type": "markdown",
   "id": "difficult-cleaning",
   "metadata": {},
   "source": [
    "### Função Match"
   ]
  },
  {
   "cell_type": "markdown",
   "id": "selected-passenger",
   "metadata": {},
   "source": [
    "- Validar se um string contém determinado padrão, porém o \"match\" encontra somente o início da string"
   ]
  },
  {
   "cell_type": "code",
   "execution_count": 23,
   "id": "destroyed-button",
   "metadata": {
    "ExecuteTime": {
     "end_time": "2021-04-18T18:02:59.244491Z",
     "start_time": "2021-04-18T18:02:59.240566Z"
    }
   },
   "outputs": [
    {
     "name": "stdout",
     "output_type": "stream",
     "text": [
      "Rua Armando Shibata\n",
      "Av. dos trabalhadores\n",
      "Al. Moraes\n"
     ]
    }
   ],
   "source": [
    "# Nome da rua\n",
    "regex = '(.+?),'\n",
    "\n",
    "for t in text:\n",
    "    print( re.match( regex, t ).group(1) )"
   ]
  },
  {
   "cell_type": "code",
   "execution_count": 24,
   "id": "becoming-macro",
   "metadata": {
    "ExecuteTime": {
     "end_time": "2021-04-18T18:02:59.388593Z",
     "start_time": "2021-04-18T18:02:59.385569Z"
    }
   },
   "outputs": [
    {
     "name": "stdout",
     "output_type": "stream",
     "text": [
      "97\n",
      "403\n",
      "90\n"
     ]
    }
   ],
   "source": [
    "# Numero da residência\n",
    "regex = '\\d+'\n",
    "\n",
    "for t in text:\n",
    "    print( re.search( regex, t ).group(0) )"
   ]
  },
  {
   "cell_type": "code",
   "execution_count": 25,
   "id": "rotary-kennedy",
   "metadata": {
    "ExecuteTime": {
     "end_time": "2021-04-18T18:07:23.446760Z",
     "start_time": "2021-04-18T18:07:23.442300Z"
    }
   },
   "outputs": [
    {
     "name": "stdout",
     "output_type": "stream",
     "text": [
      " Vila Leopolding\n",
      " Centro\n",
      " Vila Golmes\n"
     ]
    }
   ],
   "source": [
    "# Nome do bairro\n",
    "regex = '-(.+),'\n",
    "\n",
    "for t in text:\n",
    "    print( re.search( regex, t ).group( 1 ) )"
   ]
  },
  {
   "cell_type": "code",
   "execution_count": 26,
   "id": "vocal-surveillance",
   "metadata": {
    "ExecuteTime": {
     "end_time": "2021-04-18T18:11:50.127969Z",
     "start_time": "2021-04-18T18:11:50.124730Z"
    }
   },
   "outputs": [
    {
     "name": "stdout",
     "output_type": "stream",
     "text": [
      " São Paulo\n",
      " Mogi Guaçu\n",
      " Pernambuco\n"
     ]
    }
   ],
   "source": [
    "# Nome da cidade\n",
    "regex = ',(.[a-zA-Z].+)'\n",
    "\n",
    "for t in text:\n",
    "    print( re.search( regex, t ).group( 1 ) )"
   ]
  },
  {
   "cell_type": "markdown",
   "id": "functional-health",
   "metadata": {
    "hide_input": false
   },
   "source": [
    "### Máscaras do Regex?"
   ]
  },
  {
   "cell_type": "markdown",
   "id": "registered-columbus",
   "metadata": {},
   "source": [
    "Créditos: https://blog.geekhunter.com.br/python-regex/"
   ]
  },
  {
   "cell_type": "markdown",
   "id": "separate-player",
   "metadata": {
    "heading_collapsed": true,
    "hide_input": false
   },
   "source": [
    "#### <font color='#F37126'> Marcadores de início e fim de linha"
   ]
  },
  {
   "cell_type": "markdown",
   "id": "hispanic-economics",
   "metadata": {
    "hidden": true
   },
   "source": [
    "**^Python** - Encontra qualquer string que esteja em início de linha e contenha os caracteres \"Python\""
   ]
  },
  {
   "cell_type": "markdown",
   "id": "demanding-primary",
   "metadata": {
    "hidden": true
   },
   "source": [
    "**Python$** - Encontra qualquer string que esteja em fim de linha e contenha os caracteres \"Python\""
   ]
  },
  {
   "cell_type": "markdown",
   "id": "iraqi-ontario",
   "metadata": {
    "heading_collapsed": true,
    "hide_input": false
   },
   "source": [
    "#### <font color='#F37126'> Marcadores de quantidade </font>"
   ]
  },
  {
   "cell_type": "markdown",
   "id": "material-default",
   "metadata": {
    "hidden": true
   },
   "source": [
    "**Pyt*** - Encontra strings com sequência de caracteres \"Py\", seguida de zero ou mais ocorrências do caracter \"t\"."
   ]
  },
  {
   "cell_type": "markdown",
   "id": "paperback-offer",
   "metadata": {
    "hidden": true
   },
   "source": [
    "**Pyt+** - Encontra strings com sequência de caracteres \"Py\", seguida de uma ou mais ocorrências do caracter \"t\"."
   ]
  },
  {
   "cell_type": "markdown",
   "id": "illegal-bundle",
   "metadata": {
    "hidden": true
   },
   "source": [
    "**Pyt?** - Encontra strings com sequência de caracteres \"Py\", seguida de zero ou uma ocorrência do caracter \"t\"."
   ]
  },
  {
   "cell_type": "markdown",
   "id": "minor-creation",
   "metadata": {
    "hidden": true
   },
   "source": [
    "**Pyt{3}** - Encontra strings com sequência de caracteres \"Py\", seguida de exatamente 3 ocorrências do caracter \"t\"."
   ]
  },
  {
   "cell_type": "markdown",
   "id": "absolute-astrology",
   "metadata": {
    "hidden": true
   },
   "source": [
    "**Pyt{2,4}** - Encontra strings com sequência de caracteres \"Py\", seguida de 2 a 4 ocorrências do caracter \"t\"."
   ]
  },
  {
   "cell_type": "markdown",
   "id": "dangerous-reservoir",
   "metadata": {
    "hidden": true
   },
   "source": [
    "**Pyt{3,}** - Encontra strings com sequência de caracteres \"Py\", seguida de 3 ou mais ocorrências do caracter \"t\"."
   ]
  },
  {
   "cell_type": "markdown",
   "id": "close-documentation",
   "metadata": {
    "hidden": true
   },
   "source": [
    "**Py(th)*** - Encontra strings com sequência de caracteres \"Py\", seguida de zero ou mais ocorrências da sequência \"th\""
   ]
  },
  {
   "cell_type": "markdown",
   "id": "supreme-identity",
   "metadata": {
    "heading_collapsed": true,
    "hide_input": false
   },
   "source": [
    "#### <font color='#F37126'> Marcadores de alternativa ou operador OR </font>"
   ]
  },
  {
   "cell_type": "markdown",
   "id": "pleasant-psychology",
   "metadata": {
    "hidden": true
   },
   "source": [
    "**Pyt|hon** - Encontra strings com a sequência de caracteres \"Pyt\" ou strings com a sequência de caracteres \"hon\""
   ]
  },
  {
   "cell_type": "markdown",
   "id": "general-still",
   "metadata": {
    "hidden": true
   },
   "source": [
    "**Py(t|h)** - Encontra strings com a sequência de caracteres \"Py\", seguida do caracter \"t\" ou caracter \"h\"."
   ]
  },
  {
   "cell_type": "markdown",
   "id": "applied-melbourne",
   "metadata": {
    "hidden": true
   },
   "source": [
    "**Py(t|h|o)** - Encontra strings com a sequência de caracteres \"Py\", seguida do caracter \"t\" ou caracter \"h\" ou do caracter \"o\"."
   ]
  },
  {
   "cell_type": "markdown",
   "id": "patent-eating",
   "metadata": {
    "heading_collapsed": true,
    "hide_input": false
   },
   "source": [
    "#### <font color='#F37126'> Marcadores de definição de conjuntos ( [] )</font>"
   ]
  },
  {
   "cell_type": "markdown",
   "id": "rocky-infrastructure",
   "metadata": {
    "hidden": true
   },
   "source": [
    "**Py[tho]** - Encontra strings com a sequência de caracteres \"Py\", seguida de um caracter pertencente ao conjunto ( t, h, o )"
   ]
  },
  {
   "cell_type": "markdown",
   "id": "rapid-member",
   "metadata": {
    "hidden": true
   },
   "source": [
    "**Py[0-9]** - Encontra strings com a sequência de caracteres \"Py\", seguida do caracter pertencente ao conjunto de dígitos de 0 a 9."
   ]
  },
  {
   "cell_type": "markdown",
   "id": "biblical-breach",
   "metadata": {
    "hidden": true
   },
   "source": [
    "**Py[a-z]** - Encontra strings com a sequência de caracteres \"Py\", seguida do caracter pertencente ao conjunto de caracteres alfabéticos de \"a\" a \"z\""
   ]
  },
  {
   "cell_type": "markdown",
   "id": "fewer-impossible",
   "metadata": {
    "heading_collapsed": true,
    "hide_input": false
   },
   "source": [
    "#### <font color='#F37126'> Marcadores de classe de caracteres </font>"
   ]
  },
  {
   "cell_type": "markdown",
   "id": "moral-recovery",
   "metadata": {
    "hidden": true
   },
   "source": [
    "**\\w** - Representa um caractere alfanumérico, incluindo ocorrências maiúsculas e minúsculas das letras e o caractere \"_\"."
   ]
  },
  {
   "cell_type": "markdown",
   "id": "regular-yesterday",
   "metadata": {
    "hidden": true
   },
   "source": [
    "**\\d** - Representa um caractere numérico e equivale a definição do conjunto [0-9]"
   ]
  },
  {
   "cell_type": "markdown",
   "id": "miniature-people",
   "metadata": {
    "hidden": true
   },
   "source": [
    "**\\s** - Representa um espaço em branco, incluindo tabulações e quebras de linha"
   ]
  },
  {
   "cell_type": "markdown",
   "id": "tamil-joyce",
   "metadata": {
    "hidden": true
   },
   "source": [
    "**.** - Este caracter é utilizado como coringa e representa qualquer caractere"
   ]
  }
 ],
 "metadata": {
  "kernelspec": {
   "display_name": "Python 3 (ipykernel)",
   "language": "python",
   "name": "python3"
  },
  "language_info": {
   "codemirror_mode": {
    "name": "ipython",
    "version": 3
   },
   "file_extension": ".py",
   "mimetype": "text/x-python",
   "name": "python",
   "nbconvert_exporter": "python",
   "pygments_lexer": "ipython3",
   "version": "3.8.0"
  },
  "latex_envs": {
   "LaTeX_envs_menu_present": true,
   "autoclose": false,
   "autocomplete": true,
   "bibliofile": "biblio.bib",
   "cite_by": "apalike",
   "current_citInitial": 1,
   "eqLabelWithNumbers": true,
   "eqNumInitial": 1,
   "hotkeys": {
    "equation": "Ctrl-E",
    "itemize": "Ctrl-I"
   },
   "labels_anchors": false,
   "latex_user_defs": false,
   "report_style_numbering": false,
   "user_envs_cfg": false
  },
  "nbTranslate": {
   "displayLangs": [
    "*"
   ],
   "hotkey": "alt-t",
   "langInMainMenu": true,
   "sourceLang": "en",
   "targetLang": "fr",
   "useGoogleTranslate": true
  },
  "toc": {
   "base_numbering": 1,
   "nav_menu": {},
   "number_sections": true,
   "sideBar": true,
   "skip_h1_title": false,
   "title_cell": "Table of Contents",
   "title_sidebar": "Contents",
   "toc_cell": false,
   "toc_position": {},
   "toc_section_display": true,
   "toc_window_display": false
  }
 },
 "nbformat": 4,
 "nbformat_minor": 5
}
